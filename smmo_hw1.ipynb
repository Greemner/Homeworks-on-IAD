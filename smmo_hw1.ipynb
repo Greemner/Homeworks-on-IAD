{
 "cells": [
  {
   "cell_type": "markdown",
   "metadata": {},
   "source": [
    "## Домашнее задание №1\n",
    "\n",
    "В этом домашнем задании вы познакомитесь с pytorch сами и сможете попрактиковаться в его применении. \n",
    "#### Выполнил:\n",
    "**Кувайцев Константин**\n",
    "#### План:\n",
    "\n",
    "1. Простейшие операции в pytorch\n",
    "2. Пишем Adam и применяем его к ручной модели\n",
    "3. Обучаем свою первую нейросеть"
   ]
  },
  {
   "cell_type": "code",
   "execution_count": 1,
   "metadata": {},
   "outputs": [],
   "source": [
    "import os\n",
    "import sys\n",
    "import math\n",
    "import torch\n",
    "import random\n",
    "import numpy as np\n",
    "from tqdm import tqdm\n",
    "import torch.nn.functional as F\n",
    "import torch.nn as nn\n",
    "import matplotlib.pyplot as plt\n",
    "from torch.utils.data import DataLoader\n",
    "import torchvision\n",
    "import torchvision.transforms as transforms\n",
    "from torch.autograd import Variable"
   ]
  },
  {
   "cell_type": "markdown",
   "metadata": {},
   "source": [
    "### Простейшие операции на pytorch (2 балла)"
   ]
  },
  {
   "cell_type": "markdown",
   "metadata": {},
   "source": [
    "**Task**: Cоздайте два случайных тензора (двумерных, не квадратных):"
   ]
  },
  {
   "cell_type": "code",
   "execution_count": 2,
   "metadata": {},
   "outputs": [],
   "source": [
    "x = torch.rand(5, 4)\n",
    "y = torch.rand(5, 4)"
   ]
  },
  {
   "cell_type": "markdown",
   "metadata": {},
   "source": [
    "**Task**: Умножьте их друг на друга, результат запишите в третий тензор без использования оператора `=`, для создания третьего тензора предлагается использовать `torch.empty`:"
   ]
  },
  {
   "cell_type": "code",
   "execution_count": 3,
   "metadata": {},
   "outputs": [
    {
     "name": "stdout",
     "output_type": "stream",
     "text": [
      "tensor([[5.1530e-01, 4.2536e-01, 1.5046e-01, 6.5726e-01],\n",
      "        [9.4586e-02, 1.4410e-01, 1.2770e-01, 1.2696e-02],\n",
      "        [3.4205e-01, 7.2105e-01, 2.2021e-01, 2.3924e-02],\n",
      "        [2.5865e-03, 8.0795e-02, 3.2605e-02, 3.7328e-01],\n",
      "        [2.2457e-04, 1.6023e-01, 6.2461e-03, 6.9325e-01]])\n"
     ]
    }
   ],
   "source": [
    "z = torch.empty(5, 4)\n",
    "torch.mul(x, y, out=z)\n",
    "print(z)"
   ]
  },
  {
   "cell_type": "markdown",
   "metadata": {},
   "source": [
    "**Task**: Реализуйте ReLU использую только pytorch, примените его к тензору `x` (запрещено использование модулей torch.nn и его подмодулей, а также функции torch.relu)"
   ]
  },
  {
   "cell_type": "code",
   "execution_count": 4,
   "metadata": {},
   "outputs": [],
   "source": [
    "def relu_forward(x):\n",
    "    zeros = torch.zeros_like(x, dtype=torch.float)\n",
    "    return torch.where(x > 0, x, zeros)\n",
    "\n",
    "assert torch.all(F.relu(x) == relu_forward(x))"
   ]
  },
  {
   "cell_type": "code",
   "execution_count": 5,
   "metadata": {},
   "outputs": [],
   "source": [
    "# your code here "
   ]
  },
  {
   "cell_type": "markdown",
   "metadata": {},
   "source": [
    "**Task**: Сделайте тоже самое c ELU (запрещено использование модулей torch.nn и его подмодулей):"
   ]
  },
  {
   "cell_type": "code",
   "execution_count": 6,
   "metadata": {},
   "outputs": [],
   "source": [
    "def elu_forward(x):\n",
    "    elu = torch.exp(x)\n",
    "    return torch.where(x > 0, x, elu)\n",
    "\n",
    "assert torch.allclose(\n",
    "    F.elu(x),\n",
    "    elu_forward(x), \n",
    "    1e-4\n",
    ")"
   ]
  },
  {
   "cell_type": "markdown",
   "metadata": {},
   "source": [
    "**Task**: LeakyReLU (запрещено использование модулей torch.nn и его подмодулей):"
   ]
  },
  {
   "cell_type": "code",
   "execution_count": 7,
   "metadata": {},
   "outputs": [],
   "source": [
    "def lrelu_forward(x, alpha):\n",
    "    lrelu = x * alpha\n",
    "    return torch.where(x > 0, x, lrelu)\n",
    "\n",
    "assert torch.all(F.leaky_relu(x, 0.01) == lrelu_forward(x, 0.01))"
   ]
  },
  {
   "cell_type": "markdown",
   "metadata": {},
   "source": [
    "**Task**: Теперь перейдем к немного более современным функциям активаций, например Mish, напомним как она выглядит:\n",
    "\n",
    "$$x * tanh(ln(1+e^x))$$\n",
    "\n",
    "(запрещено использование модулей torch.nn и его подмодулей)"
   ]
  },
  {
   "cell_type": "code",
   "execution_count": 8,
   "metadata": {},
   "outputs": [],
   "source": [
    "def mish(x):\n",
    "    tanh = torch.tanh(torch.log(1 + torch.exp(x)))\n",
    "    return torch.mul(x, tanh)"
   ]
  },
  {
   "cell_type": "code",
   "execution_count": 9,
   "metadata": {},
   "outputs": [],
   "source": [
    "assert torch.allclose(\n",
    "    mish(torch.tensor([1, 1, 1], dtype=torch.float32)), \n",
    "    torch.tensor([0.8651, 0.8651, 0.8651]), \n",
    "    atol=1e-4\n",
    ")\n",
    "\n",
    "assert torch.allclose(\n",
    "    mish(torch.tensor([0.6376, 0.4021, 0.6656, 0.3726], dtype=torch.float64)), \n",
    "    torch.tensor([0.5014, 0.2908, 0.5280, 0.2663], dtype=torch.float64), \n",
    "    atol=1e-4\n",
    ")"
   ]
  },
  {
   "cell_type": "markdown",
   "metadata": {},
   "source": [
    "**Task**: Теперь реализуем swish, напомним как она выглядит:\n",
    "\n",
    "$$x * \\sigma(x)$$\n",
    "\n",
    "(запрещено использование модулей torch.nn и его подмодулей)"
   ]
  },
  {
   "cell_type": "code",
   "execution_count": 10,
   "metadata": {},
   "outputs": [],
   "source": [
    "def swish(x):\n",
    "    sigm = torch.sigmoid(x)\n",
    "    return torch.mul(x, sigm)"
   ]
  },
  {
   "cell_type": "code",
   "execution_count": 11,
   "metadata": {},
   "outputs": [],
   "source": [
    "assert torch.allclose(\n",
    "    swish(torch.tensor([1, 1, 1], dtype=torch.float32)), \n",
    "    torch.tensor([0.7311, 0.7311, 0.7311]), \n",
    "    atol=1e-4\n",
    ")\n",
    "\n",
    "assert torch.allclose(\n",
    "    swish(torch.tensor([0.6376, 0.4021, 0.6656, 0.3726], dtype=torch.float64)), \n",
    "    torch.tensor([0.4171, 0.2409, 0.4396, 0.2206], dtype=torch.float64), \n",
    "    atol=1e-4\n",
    ")"
   ]
  },
  {
   "cell_type": "markdown",
   "metadata": {},
   "source": [
    "### Пишем Adam и применяем его к логистической регрессии (4 балла)\n",
    "\n",
    "\n",
    "В данной секции вам нужно сделать две вещи: \n",
    "\n",
    "1. Написать свой собственный оптимизатор подобно тому, который мы писали на семинаре\n",
    "2. Обучить логистическую регрессию побатчево на картинках из датасета \n",
    "\n",
    "\n",
    "#### Adam\n",
    "\n",
    "\n",
    "$$\n",
    "\\begin{eqnarray}\n",
    "g &=& \\frac{1}{m}\\nabla_w \\sum_i L(f(x_{i};w), y_{i}) \\\\\n",
    "m &=& \\beta_1 m + (1 - \\beta_1) g \\\\\n",
    "v &=& \\beta_2 v + (1 - \\beta_2) diag(gg^{T}) \\\\\n",
    "\\hat{m} &=& \\frac{m}{1 - \\beta_1^{t}} \\\\\n",
    "\\hat{v} &=& \\frac{v}{1 - \\beta_2^{t}} \\\\\n",
    "w &=& w - \\frac{\\eta}{\\sqrt{\\hat{v} + \\epsilon}} \\odot \\hat{m}\n",
    "\\end{eqnarray}\n",
    "$$"
   ]
  },
  {
   "cell_type": "code",
   "execution_count": 12,
   "metadata": {},
   "outputs": [],
   "source": [
    "# абстрактный класс, не обращайте внимания\n",
    "from torch.optim import Optimizer\n",
    "\n",
    "\n",
    "class InClassOptimizer(Optimizer):\n",
    "    def step(self):\n",
    "        \"\"\"Perform single optimization step.\"\"\"\n",
    "        with torch.no_grad(): # выключим градиенты\n",
    "            for group in self.param_groups:\n",
    "                self._group_step(group)\n",
    "\n",
    "    def _group_step(self, group):\n",
    "        # group ~ dict[str, ...]\n",
    "        \"\"\"\n",
    "        Private helper function to perform\n",
    "        single optimization step on model parameters.\n",
    "        \"\"\"\n",
    "        raise NotImplementedError()"
   ]
  },
  {
   "cell_type": "markdown",
   "metadata": {},
   "source": [
    "**Task**: Напишите свою реализацию Adam:"
   ]
  },
  {
   "cell_type": "code",
   "execution_count": 13,
   "metadata": {},
   "outputs": [],
   "source": [
    "class Adam(InClassOptimizer):\n",
    "    def __init__(self, params, lr=0.001, eps=1e-13, beta_1=0.9, beta_2=0.999):\n",
    "        defaults = dict(lr=lr, eps=eps, beta_1=beta_1, beta_2=beta_2)\n",
    "        self.t = 0\n",
    "        super().__init__(params, defaults)\n",
    "\n",
    "    def _group_step(self, group):\n",
    "        lr = group['lr']\n",
    "        eps = group['eps']\n",
    "        beta_1 = group['beta_1']\n",
    "        beta_2 = group['beta_2']\n",
    "        \n",
    "        for param in filter(lambda x: x.grad is not None, group['params']):\n",
    "            d_param = param.grad\n",
    "            \n",
    "            self._init_m_param_buffer(param)\n",
    "            self._init_v_param_buffer(param)\n",
    "\n",
    "            self.t += 1\n",
    "            m = self._get_m_param_buffer(param)\n",
    "            v = self._get_v_param_buffer(param)\n",
    "            \n",
    "            m.mul_(beta_1)\n",
    "            m.add_((1 - beta_1) * d_param)\n",
    "            \n",
    "            v.mul_(beta_2)\n",
    "            v.add_((1 - beta_2) * d_param**2)\n",
    "\n",
    "            m_hat = m / (1 - beta_1 ** self.t)\n",
    "            v_hat = v / (1 - beta_2 ** self.t)\n",
    "            \n",
    "            m_hat /= torch.sqrt(v_hat + eps)\n",
    "            \n",
    "            param.add_(m_hat, alpha=-lr)\n",
    "    \n",
    "    def _get_m_param_buffer(self, param):\n",
    "        param_state = self.state[param]\n",
    "        return param_state['m_param_buffer']\n",
    "\n",
    "    def _init_m_param_buffer(self, param):\n",
    "        param_state = self.state[param]\n",
    "        if 'm_param_buffer' not in param_state:\n",
    "            param_state['m_param_buffer'] = torch.zeros_like(param)\n",
    "    \n",
    "    def _get_v_param_buffer(self, param):\n",
    "        param_state = self.state[param]\n",
    "        return param_state['v_param_buffer']\n",
    "\n",
    "    def _init_v_param_buffer(self, param):\n",
    "        param_state = self.state[param]\n",
    "        if 'v_param_buffer' not in param_state:\n",
    "            param_state['v_param_buffer'] = torch.zeros_like(param)"
   ]
  },
  {
   "cell_type": "markdown",
   "metadata": {},
   "source": [
    "**Task**: Создайте параметры для обучения логистической регрессии, сделаем Xavier ициализацию, которая выглядит следующим образом: \n",
    "\n",
    "$$w \\sim U[-\\frac{\\sqrt{6}}{\\sqrt{n_{in} + n_{out}}}, \\frac{\\sqrt{6}}{\\sqrt{n_{in} + n_{out}}}]$$\n",
    "\n",
    "где: \n",
    "\n",
    "* $n_{in}$ -- размер входа (в нейронах) \n",
    "* $n_{out}$ -- размер выхода (в нейронах)\n",
    "\n",
    "Подумайте над выбором $n_{in}$ и $n_{out}$ самостоятельно. "
   ]
  },
  {
   "cell_type": "code",
   "execution_count": 52,
   "metadata": {},
   "outputs": [
    {
     "name": "stderr",
     "output_type": "stream",
     "text": [
      "<ipython-input-52-f8b2e8fd2915>:9: UserWarning: To copy construct from a tensor, it is recommended to use sourceTensor.clone().detach() or sourceTensor.clone().detach().requires_grad_(True), rather than torch.tensor(sourceTensor).\n",
      "  weights_torch = torch.tensor(weights_torch, requires_grad=True)\n",
      "<ipython-input-52-f8b2e8fd2915>:11: UserWarning: To copy construct from a tensor, it is recommended to use sourceTensor.clone().detach() or sourceTensor.clone().detach().requires_grad_(True), rather than torch.tensor(sourceTensor).\n",
      "  intercept_torch = torch.tensor(intercept_torch, requires_grad=True)\n"
     ]
    }
   ],
   "source": [
    "nin = 28 * 28\n",
    "nout = 10\n",
    "weights = torch.rand((nin, nout), requires_grad=True)\n",
    "torch.nn.init.xavier_uniform_(weights)\n",
    "intercept = torch.rand((1, nout), requires_grad=True)\n",
    "torch.nn.init.xavier_uniform_(intercept)\n",
    "\n",
    "weights_torch = weights.clone().detach()\n",
    "weights_torch = torch.tensor(weights_torch, requires_grad=True)\n",
    "intercept_torch = intercept.clone().detach()\n",
    "intercept_torch = torch.tensor(intercept_torch, requires_grad=True)"
   ]
  },
  {
   "cell_type": "code",
   "execution_count": 53,
   "metadata": {},
   "outputs": [
    {
     "data": {
      "text/plain": [
       "tensor([[ 0.6538, -0.5420, -0.5302,  0.2508,  0.1155, -0.6589, -0.6616, -0.3591,\n",
       "          0.6379,  0.0473]], requires_grad=True)"
      ]
     },
     "execution_count": 53,
     "metadata": {},
     "output_type": "execute_result"
    }
   ],
   "source": [
    "intercept"
   ]
  },
  {
   "cell_type": "markdown",
   "metadata": {},
   "source": [
    "Загрузим данные и создадим даталоадеры:"
   ]
  },
  {
   "cell_type": "code",
   "execution_count": 54,
   "metadata": {},
   "outputs": [],
   "source": [
    "fashion_mnist_train = torchvision.datasets.FashionMNIST(\n",
    "    './data',\n",
    "    train=True,\n",
    "    download=True,\n",
    "    transform=torchvision.transforms.ToTensor()\n",
    ")\n",
    "train_dataloader = DataLoader(\n",
    "    fashion_mnist_train, batch_size=128, shuffle=True, num_workers=1\n",
    ")\n",
    "\n",
    "fashion_mnist_eval = torchvision.datasets.FashionMNIST(\n",
    "    './data',\n",
    "    train=False,\n",
    "    download=True,\n",
    "    transform=torchvision.transforms.ToTensor()\n",
    ")\n",
    "\n",
    "eval_dataloader = DataLoader(\n",
    "    fashion_mnist_eval, batch_size=128, shuffle=True, num_workers=1\n",
    ")"
   ]
  },
  {
   "cell_type": "markdown",
   "metadata": {},
   "source": [
    "Напишите функцию для тренировки логистической регрессии, она должна: \n",
    "    * Делать предсказания \n",
    "    * Считать лосс \n",
    "    * Подсчитывать градиенты\n",
    "    * Делать шаг оптимизации\n",
    "    * Обнулять посчитанные градиенты\n",
    "    * Считать метрики \n",
    "    * Возвращать полученные метрики\n",
    "    \n",
    "После этого предусмотрите возможность визуализировать метрики, чтобы нарисовать картинки, а именно от вас требуется визуализировать: \n",
    "\n",
    "    * Зависимость лосса от количества итераций\n",
    "    * Зависимость доли правильных ответов от количества итераций"
   ]
  },
  {
   "cell_type": "code",
   "execution_count": 55,
   "metadata": {},
   "outputs": [],
   "source": [
    "def model(X, w, b):\n",
    "    return torch.mm(X, w) + b"
   ]
  },
  {
   "cell_type": "code",
   "execution_count": 56,
   "metadata": {},
   "outputs": [],
   "source": [
    "def train_logistic_regression(weights, bias, batch, loss, optimizer):\n",
    "    \n",
    "    images = batch[0].view(-1, 28*28).requires_grad_()\n",
    "    labels = batch[1]\n",
    "\n",
    "    optimizer.zero_grad()\n",
    "    outputs = model(images, weights, bias)\n",
    "    loss_train = loss(outputs, labels)\n",
    "    loss_train.backward()\n",
    "    optimizer.step()\n",
    "    \n",
    "    accuracy, loss_ = metrics(weights, bias, loss, batch=batch, mode='train')\n",
    "    \n",
    "    return accuracy, loss_"
   ]
  },
  {
   "cell_type": "code",
   "execution_count": 57,
   "metadata": {},
   "outputs": [],
   "source": [
    "def metrics(weights, bias, loss, dataloader=None, batch=None, mode='test'):\n",
    "    correct = 0\n",
    "    total = 0\n",
    "    with torch.no_grad():\n",
    "        if mode == 'train':\n",
    "            images = batch[0].view(-1, 28*28).requires_grad_()\n",
    "            labels = batch[1]\n",
    "            outputs = model(images, weights, bias)\n",
    "            loss_train = loss(outputs, labels)\n",
    "            _, y_pred = torch.max(outputs.data, 1)\n",
    "            total += labels.size(0)\n",
    "            correct += (y_pred == labels).sum()\n",
    "            accuracy = 100 * float(correct) / float(total)\n",
    "            \n",
    "            return round(accuracy, 2), loss_train.item()\n",
    "        \n",
    "        else:\n",
    "            loss_test = []\n",
    "            for images, labels in dataloader:\n",
    "                images = images.view(-1, 28*28).requires_grad_()\n",
    "                outputs = model(images, weights, bias)\n",
    "                loss_one = loss(outputs, labels)\n",
    "                loss_test.append(loss_one)\n",
    "                _, y_pred = torch.max(outputs.data, 1)\n",
    "                total += labels.size(0)\n",
    "                correct += (y_pred == labels).sum()\n",
    "                \n",
    "            accuracy = 100 * float(correct) / float(total)\n",
    "    \n",
    "            return round(accuracy, 2), np.mean(loss_test)"
   ]
  },
  {
   "cell_type": "code",
   "execution_count": 58,
   "metadata": {},
   "outputs": [],
   "source": [
    "def visualisation(epochs, train_acc, val_acc, train_loss, val_loss):\n",
    "    rng = range(1, epochs + 1)\n",
    "    \n",
    "    plt.figure(figsize=(8,6))\n",
    "    plt.plot(rng, train_acc, label='Train accuracy', c='blue')\n",
    "    plt.plot(rng, val_acc, label='Validation accuracy', c='red')\n",
    "    plt.xlabel('Epoch')\n",
    "    plt.ylabel('Accuracy')\n",
    "    plt.title('Accuracy')\n",
    "    plt.legend()\n",
    "    plt.show()\n",
    "    \n",
    "    plt.figure(figsize=(8,6))\n",
    "    plt.plot(rng, train_loss, label='Train loss', c='blue')\n",
    "    plt.plot(rng, val_loss, label='Validation loss', c='red')\n",
    "    plt.xlabel('Epoch')\n",
    "    plt.ylabel('Loss')\n",
    "    plt.title('Loss')\n",
    "    plt.legend()\n",
    "    plt.show()"
   ]
  },
  {
   "cell_type": "code",
   "execution_count": 69,
   "metadata": {},
   "outputs": [],
   "source": [
    "def optim_visualisation(param_1, param_2, label_sign):\n",
    "    plt.figure(figsize=(6,4))\n",
    "    plt.plot(param_1, label='My Adam ' + label_sign, c='blue')\n",
    "    plt.plot(param_2, label='Pytorch Adam ' + label_sign, c='red')\n",
    "    plt.xlabel('Epoch')\n",
    "    plt.ylabel(label_sign.split()[1])\n",
    "    plt.title(label_sign)\n",
    "    plt.legend()\n",
    "    plt.show()"
   ]
  },
  {
   "cell_type": "code",
   "execution_count": 59,
   "metadata": {
    "scrolled": false
   },
   "outputs": [],
   "source": [
    "def fit(optimizer, weights_fit, intercept_fit, num_epoch=10):\n",
    "    total_train_accuracy = []\n",
    "    total_train_loss = []\n",
    "    total_val_accuracy = []\n",
    "    total_val_loss = []\n",
    "    epochs = num_epoch\n",
    "    for epoch in range(1, epochs + 1):\n",
    "        batches_accuracy = []\n",
    "        batches_loss = []\n",
    "\n",
    "        with tqdm(total=len(train_dataloader), file=sys.stdout) as prbar:\n",
    "            for batch in train_dataloader:\n",
    "                batch_acc, batch_l = train_logistic_regression(weights_fit, intercept_fit, batch, criterion, optimizer)\n",
    "                prbar.update(1)\n",
    "                batches_accuracy.append(batch_acc)\n",
    "                batches_loss.append(batch_l)\n",
    "\n",
    "        accuracy_train, error_train = round(np.mean(batches_accuracy), 2), np.mean(batches_loss)\n",
    "        accuracy_val, error_val = metrics(weights_fit, intercept_fit, criterion, dataloader=eval_dataloader)\n",
    "\n",
    "        total_train_accuracy.append(accuracy_train)\n",
    "        total_train_loss.append(error_train)\n",
    "        total_val_accuracy.append(accuracy_val)\n",
    "        total_val_loss.append(error_val)\n",
    "\n",
    "        print(\"Epoch: {}. Accuracy_train: {}. Accuracy_val: {}.\".format(epoch, accuracy_train, accuracy_val))\n",
    "        print(\"Epoch: {}. Loss_train: {}. Loss_val: {}.\".format(epoch, error_train, error_val))\n",
    "        print()\n",
    "    \n",
    "    return total_train_accuracy, total_val_accuracy, total_train_loss, total_val_loss\n"
   ]
  },
  {
   "cell_type": "markdown",
   "metadata": {},
   "source": [
    "## My Adam"
   ]
  },
  {
   "cell_type": "code",
   "execution_count": 60,
   "metadata": {
    "scrolled": true
   },
   "outputs": [
    {
     "name": "stdout",
     "output_type": "stream",
     "text": [
      "100%|████████████████████████████████████████████████████████████████████████████████| 469/469 [00:09<00:00, 50.72it/s]\n",
      "Epoch: 1. Accuracy_train: 75.37. Accuracy_val: 80.94.\n",
      "Epoch: 1. Loss_train: 0.7212282286396922. Loss_val: 0.5654327869415283.\n",
      "\n",
      "100%|████████████████████████████████████████████████████████████████████████████████| 469/469 [00:09<00:00, 49.27it/s]\n",
      "Epoch: 2. Accuracy_train: 82.97. Accuracy_val: 82.56.\n",
      "Epoch: 2. Loss_train: 0.5035200363664485. Loss_val: 0.5062164068222046.\n",
      "\n",
      "100%|████████████████████████████████████████████████████████████████████████████████| 469/469 [00:11<00:00, 41.79it/s]\n",
      "Epoch: 3. Accuracy_train: 84.36. Accuracy_val: 82.94.\n",
      "Epoch: 3. Loss_train: 0.4635671202434914. Loss_val: 0.49066877365112305.\n",
      "\n",
      "100%|████████████████████████████████████████████████████████████████████████████████| 469/469 [00:11<00:00, 40.39it/s]\n",
      "Epoch: 4. Accuracy_train: 84.99. Accuracy_val: 83.78.\n",
      "Epoch: 4. Loss_train: 0.4443804022472805. Loss_val: 0.47452130913734436.\n",
      "\n",
      "100%|████████████████████████████████████████████████████████████████████████████████| 469/469 [00:11<00:00, 40.88it/s]\n",
      "Epoch: 5. Accuracy_train: 85.26. Accuracy_val: 84.06.\n",
      "Epoch: 5. Loss_train: 0.4319799076011186. Loss_val: 0.4646986126899719.\n",
      "\n",
      "100%|████████████████████████████████████████████████████████████████████████████████| 469/469 [00:11<00:00, 40.23it/s]\n",
      "Epoch: 6. Accuracy_train: 85.69. Accuracy_val: 84.04.\n",
      "Epoch: 6. Loss_train: 0.42211295146423616. Loss_val: 0.4575839936733246.\n",
      "\n",
      "100%|████████████████████████████████████████████████████████████████████████████████| 469/469 [00:10<00:00, 42.74it/s]\n",
      "Epoch: 7. Accuracy_train: 85.75. Accuracy_val: 84.18.\n",
      "Epoch: 7. Loss_train: 0.41516929744149067. Loss_val: 0.4605073034763336.\n",
      "\n",
      "100%|████████████████████████████████████████████████████████████████████████████████| 469/469 [00:11<00:00, 40.09it/s]\n",
      "Epoch: 8. Accuracy_train: 86.0. Accuracy_val: 84.39.\n",
      "Epoch: 8. Loss_train: 0.4097696087126539. Loss_val: 0.4532688558101654.\n",
      "\n",
      "100%|████████████████████████████████████████████████████████████████████████████████| 469/469 [00:12<00:00, 37.69it/s]\n",
      "Epoch: 9. Accuracy_train: 86.13. Accuracy_val: 84.56.\n",
      "Epoch: 9. Loss_train: 0.40490630621722. Loss_val: 0.4457363784313202.\n",
      "\n",
      "100%|████████████████████████████████████████████████████████████████████████████████| 469/469 [00:11<00:00, 40.10it/s]\n",
      "Epoch: 10. Accuracy_train: 86.17. Accuracy_val: 84.51.\n",
      "Epoch: 10. Loss_train: 0.4009310445869401. Loss_val: 0.44439440965652466.\n",
      "\n",
      "100%|████████████████████████████████████████████████████████████████████████████████| 469/469 [00:10<00:00, 43.15it/s]\n",
      "Epoch: 11. Accuracy_train: 86.36. Accuracy_val: 84.35.\n",
      "Epoch: 11. Loss_train: 0.39813944300227583. Loss_val: 0.45224207639694214.\n",
      "\n",
      "100%|████████████████████████████████████████████████████████████████████████████████| 469/469 [00:11<00:00, 40.52it/s]\n",
      "Epoch: 12. Accuracy_train: 86.34. Accuracy_val: 84.74.\n",
      "Epoch: 12. Loss_train: 0.3948476902648076. Loss_val: 0.44137656688690186.\n",
      "\n",
      "100%|████████████████████████████████████████████████████████████████████████████████| 469/469 [00:11<00:00, 40.42it/s]\n",
      "Epoch: 13. Accuracy_train: 86.56. Accuracy_val: 84.28.\n",
      "Epoch: 13. Loss_train: 0.39193053124174637. Loss_val: 0.44942131638526917.\n",
      "\n",
      "100%|████████████████████████████████████████████████████████████████████████████████| 469/469 [00:11<00:00, 42.00it/s]\n",
      "Epoch: 14. Accuracy_train: 86.57. Accuracy_val: 84.5.\n",
      "Epoch: 14. Loss_train: 0.3898679426928827. Loss_val: 0.44328105449676514.\n",
      "\n",
      "100%|████████████████████████████████████████████████████████████████████████████████| 469/469 [00:11<00:00, 41.85it/s]\n",
      "Epoch: 15. Accuracy_train: 86.64. Accuracy_val: 84.65.\n",
      "Epoch: 15. Loss_train: 0.3877629666630901. Loss_val: 0.44179898500442505.\n",
      "\n",
      "100%|████████████████████████████████████████████████████████████████████████████████| 469/469 [00:11<00:00, 39.44it/s]\n",
      "Epoch: 16. Accuracy_train: 86.66. Accuracy_val: 84.8.\n",
      "Epoch: 16. Loss_train: 0.38526782708000273. Loss_val: 0.4388832449913025.\n",
      "\n",
      "100%|████████████████████████████████████████████████████████████████████████████████| 469/469 [00:13<00:00, 35.98it/s]\n",
      "Epoch: 17. Accuracy_train: 86.67. Accuracy_val: 84.63.\n",
      "Epoch: 17. Loss_train: 0.38423272913325823. Loss_val: 0.4378078281879425.\n",
      "\n",
      "100%|████████████████████████████████████████████████████████████████████████████████| 469/469 [00:11<00:00, 40.72it/s]\n",
      "Epoch: 18. Accuracy_train: 86.81. Accuracy_val: 84.6.\n",
      "Epoch: 18. Loss_train: 0.3824117593864388. Loss_val: 0.43541663885116577.\n",
      "\n",
      "100%|████████████████████████████████████████████████████████████████████████████████| 469/469 [00:11<00:00, 41.90it/s]\n",
      "Epoch: 19. Accuracy_train: 86.84. Accuracy_val: 84.65.\n",
      "Epoch: 19. Loss_train: 0.38084369182967936. Loss_val: 0.44703954458236694.\n",
      "\n",
      "100%|████████████████████████████████████████████████████████████████████████████████| 469/469 [00:11<00:00, 39.50it/s]\n",
      "Epoch: 20. Accuracy_train: 86.82. Accuracy_val: 84.77.\n",
      "Epoch: 20. Loss_train: 0.3798771707106755. Loss_val: 0.44087108969688416.\n",
      "\n",
      "100%|████████████████████████████████████████████████████████████████████████████████| 469/469 [00:12<00:00, 38.97it/s]\n",
      "Epoch: 21. Accuracy_train: 86.93. Accuracy_val: 84.49.\n",
      "Epoch: 21. Loss_train: 0.37825040080781175. Loss_val: 0.4367671012878418.\n",
      "\n",
      "100%|████████████████████████████████████████████████████████████████████████████████| 469/469 [00:12<00:00, 36.85it/s]\n",
      "Epoch: 22. Accuracy_train: 86.89. Accuracy_val: 84.78.\n",
      "Epoch: 22. Loss_train: 0.37796404179352433. Loss_val: 0.43740805983543396.\n",
      "\n",
      "100%|████████████████████████████████████████████████████████████████████████████████| 469/469 [00:11<00:00, 40.28it/s]\n",
      "Epoch: 23. Accuracy_train: 86.98. Accuracy_val: 84.69.\n",
      "Epoch: 23. Loss_train: 0.37594787357077164. Loss_val: 0.4393966794013977.\n",
      "\n",
      "100%|████████████████████████████████████████████████████████████████████████████████| 469/469 [00:11<00:00, 42.37it/s]\n",
      "Epoch: 24. Accuracy_train: 87.02. Accuracy_val: 84.23.\n",
      "Epoch: 24. Loss_train: 0.3748096615902142. Loss_val: 0.4532131850719452.\n",
      "\n",
      "100%|████████████████████████████████████████████████████████████████████████████████| 469/469 [00:11<00:00, 41.62it/s]\n",
      "Epoch: 25. Accuracy_train: 86.99. Accuracy_val: 84.75.\n",
      "Epoch: 25. Loss_train: 0.37349764767613236. Loss_val: 0.44484010338783264.\n",
      "\n",
      "100%|████████████████████████████████████████████████████████████████████████████████| 469/469 [00:12<00:00, 37.77it/s]\n",
      "Epoch: 26. Accuracy_train: 87.0. Accuracy_val: 84.56.\n",
      "Epoch: 26. Loss_train: 0.3721795307039452. Loss_val: 0.4406573474407196.\n",
      "\n",
      "100%|████████████████████████████████████████████████████████████████████████████████| 469/469 [00:13<00:00, 35.07it/s]\n",
      "Epoch: 27. Accuracy_train: 87.07. Accuracy_val: 84.44.\n",
      "Epoch: 27. Loss_train: 0.3727180258488096. Loss_val: 0.4420250952243805.\n",
      "\n",
      "100%|████████████████████████████████████████████████████████████████████████████████| 469/469 [00:12<00:00, 37.94it/s]\n",
      "Epoch: 28. Accuracy_train: 87.05. Accuracy_val: 84.91.\n",
      "Epoch: 28. Loss_train: 0.3716254971111253. Loss_val: 0.43796393275260925.\n",
      "\n",
      "100%|████████████████████████████████████████████████████████████████████████████████| 469/469 [00:12<00:00, 39.03it/s]\n",
      "Epoch: 29. Accuracy_train: 87.04. Accuracy_val: 84.73.\n",
      "Epoch: 29. Loss_train: 0.370785820363427. Loss_val: 0.44977906346321106.\n",
      "\n",
      "100%|████████████████████████████████████████████████████████████████████████████████| 469/469 [00:12<00:00, 37.81it/s]\n",
      "Epoch: 30. Accuracy_train: 87.02. Accuracy_val: 84.61.\n",
      "Epoch: 30. Loss_train: 0.37091035867677824. Loss_val: 0.43792521953582764.\n",
      "\n",
      "100%|████████████████████████████████████████████████████████████████████████████████| 469/469 [00:13<00:00, 36.04it/s]\n",
      "Epoch: 31. Accuracy_train: 87.21. Accuracy_val: 84.34.\n",
      "Epoch: 31. Loss_train: 0.36848747901825. Loss_val: 0.44367897510528564.\n",
      "\n",
      "100%|████████████████████████████████████████████████████████████████████████████████| 469/469 [00:12<00:00, 36.67it/s]\n",
      "Epoch: 32. Accuracy_train: 87.13. Accuracy_val: 84.68.\n",
      "Epoch: 32. Loss_train: 0.36832383996260953. Loss_val: 0.4401305019855499.\n",
      "\n",
      "100%|████████████████████████████████████████████████████████████████████████████████| 469/469 [00:12<00:00, 37.67it/s]\n",
      "Epoch: 33. Accuracy_train: 87.19. Accuracy_val: 84.92.\n",
      "Epoch: 33. Loss_train: 0.36718492251215207. Loss_val: 0.4344591498374939.\n",
      "\n"
     ]
    },
    {
     "name": "stdout",
     "output_type": "stream",
     "text": [
      "100%|████████████████████████████████████████████████████████████████████████████████| 469/469 [00:12<00:00, 37.80it/s]\n",
      "Epoch: 34. Accuracy_train: 87.09. Accuracy_val: 84.58.\n",
      "Epoch: 34. Loss_train: 0.3670633187426179. Loss_val: 0.44106122851371765.\n",
      "\n",
      "100%|████████████████████████████████████████████████████████████████████████████████| 469/469 [00:11<00:00, 41.31it/s]\n",
      "Epoch: 35. Accuracy_train: 87.31. Accuracy_val: 84.61.\n",
      "Epoch: 35. Loss_train: 0.3662525001111061. Loss_val: 0.4393147826194763.\n",
      "\n",
      "100%|████████████████████████████████████████████████████████████████████████████████| 469/469 [00:12<00:00, 38.26it/s]\n",
      "Epoch: 36. Accuracy_train: 87.23. Accuracy_val: 84.63.\n",
      "Epoch: 36. Loss_train: 0.366452009280099. Loss_val: 0.43622541427612305.\n",
      "\n",
      "100%|████████████████████████████████████████████████████████████████████████████████| 469/469 [00:12<00:00, 36.34it/s]\n",
      "Epoch: 37. Accuracy_train: 87.18. Accuracy_val: 84.67.\n",
      "Epoch: 37. Loss_train: 0.3657090603225013. Loss_val: 0.43443790078163147.\n",
      "\n",
      "100%|████████████████████████████████████████████████████████████████████████████████| 469/469 [00:13<00:00, 34.51it/s]\n",
      "Epoch: 38. Accuracy_train: 87.23. Accuracy_val: 84.6.\n",
      "Epoch: 38. Loss_train: 0.3647050916322513. Loss_val: 0.4422452449798584.\n",
      "\n",
      "100%|████████████████████████████████████████████████████████████████████████████████| 469/469 [00:10<00:00, 42.75it/s]\n",
      "Epoch: 39. Accuracy_train: 87.29. Accuracy_val: 84.49.\n",
      "Epoch: 39. Loss_train: 0.36357138501301506. Loss_val: 0.4462157189846039.\n",
      "\n",
      "100%|████████████████████████████████████████████████████████████████████████████████| 469/469 [00:13<00:00, 36.04it/s]\n",
      "Epoch: 40. Accuracy_train: 87.21. Accuracy_val: 84.66.\n",
      "Epoch: 40. Loss_train: 0.36338208167791874. Loss_val: 0.4406443238258362.\n",
      "\n",
      "100%|████████████████████████████████████████████████████████████████████████████████| 469/469 [00:12<00:00, 37.16it/s]\n",
      "Epoch: 41. Accuracy_train: 87.23. Accuracy_val: 84.79.\n",
      "Epoch: 41. Loss_train: 0.3628481638266334. Loss_val: 0.44346174597740173.\n",
      "\n",
      "100%|████████████████████████████████████████████████████████████████████████████████| 469/469 [00:12<00:00, 36.78it/s]\n",
      "Epoch: 42. Accuracy_train: 87.23. Accuracy_val: 84.65.\n",
      "Epoch: 42. Loss_train: 0.3637792108727417. Loss_val: 0.43696826696395874.\n",
      "\n",
      "100%|████████████████████████████████████████████████████████████████████████████████| 469/469 [00:12<00:00, 37.37it/s]\n",
      "Epoch: 43. Accuracy_train: 87.23. Accuracy_val: 84.71.\n",
      "Epoch: 43. Loss_train: 0.36270900137388884. Loss_val: 0.436066210269928.\n",
      "\n",
      "100%|████████████████████████████████████████████████████████████████████████████████| 469/469 [00:12<00:00, 36.86it/s]\n",
      "Epoch: 44. Accuracy_train: 87.37. Accuracy_val: 84.46.\n",
      "Epoch: 44. Loss_train: 0.36186751627972896. Loss_val: 0.45088836550712585.\n",
      "\n",
      "100%|████████████████████████████████████████████████████████████████████████████████| 469/469 [00:11<00:00, 40.88it/s]\n",
      "Epoch: 45. Accuracy_train: 87.3. Accuracy_val: 84.72.\n",
      "Epoch: 45. Loss_train: 0.36132689989579003. Loss_val: 0.43879076838493347.\n",
      "\n",
      "100%|████████████████████████████████████████████████████████████████████████████████| 469/469 [00:12<00:00, 36.83it/s]\n",
      "Epoch: 46. Accuracy_train: 87.25. Accuracy_val: 84.5.\n",
      "Epoch: 46. Loss_train: 0.36062796791987634. Loss_val: 0.4361647069454193.\n",
      "\n",
      "100%|████████████████████████████████████████████████████████████████████████████████| 469/469 [00:12<00:00, 38.15it/s]\n",
      "Epoch: 47. Accuracy_train: 87.23. Accuracy_val: 84.67.\n",
      "Epoch: 47. Loss_train: 0.3607890475342777. Loss_val: 0.4395460784435272.\n",
      "\n",
      "100%|████████████████████████████████████████████████████████████████████████████████| 469/469 [00:12<00:00, 38.72it/s]\n",
      "Epoch: 48. Accuracy_train: 87.4. Accuracy_val: 84.7.\n",
      "Epoch: 48. Loss_train: 0.35972911758082254. Loss_val: 0.4376000165939331.\n",
      "\n",
      "100%|████████████████████████████████████████████████████████████████████████████████| 469/469 [00:12<00:00, 36.92it/s]\n",
      "Epoch: 49. Accuracy_train: 87.35. Accuracy_val: 84.53.\n",
      "Epoch: 49. Loss_train: 0.35978974923014895. Loss_val: 0.4391058087348938.\n",
      "\n",
      "100%|████████████████████████████████████████████████████████████████████████████████| 469/469 [00:12<00:00, 38.65it/s]\n",
      "Epoch: 50. Accuracy_train: 87.37. Accuracy_val: 84.45.\n",
      "Epoch: 50. Loss_train: 0.35866602406954207. Loss_val: 0.4439420700073242.\n",
      "\n",
      "100%|████████████████████████████████████████████████████████████████████████████████| 469/469 [00:11<00:00, 42.30it/s]\n",
      "Epoch: 51. Accuracy_train: 87.35. Accuracy_val: 84.56.\n",
      "Epoch: 51. Loss_train: 0.35869235775745245. Loss_val: 0.4406574070453644.\n",
      "\n",
      "100%|████████████████████████████████████████████████████████████████████████████████| 469/469 [00:12<00:00, 36.28it/s]\n",
      "Epoch: 52. Accuracy_train: 87.36. Accuracy_val: 84.66.\n",
      "Epoch: 52. Loss_train: 0.3587986229897054. Loss_val: 0.4383629560470581.\n",
      "\n",
      "100%|████████████████████████████████████████████████████████████████████████████████| 469/469 [00:12<00:00, 37.39it/s]\n",
      "Epoch: 53. Accuracy_train: 87.46. Accuracy_val: 84.54.\n",
      "Epoch: 53. Loss_train: 0.358268617598741. Loss_val: 0.44433537125587463.\n",
      "\n",
      "100%|████████████████████████████████████████████████████████████████████████████████| 469/469 [00:12<00:00, 38.83it/s]\n",
      "Epoch: 54. Accuracy_train: 87.43. Accuracy_val: 84.7.\n",
      "Epoch: 54. Loss_train: 0.35812669906661965. Loss_val: 0.4447261095046997.\n",
      "\n",
      "100%|████████████████████████████████████████████████████████████████████████████████| 469/469 [00:12<00:00, 36.65it/s]\n",
      "Epoch: 55. Accuracy_train: 87.44. Accuracy_val: 84.74.\n",
      "Epoch: 55. Loss_train: 0.35799515218749994. Loss_val: 0.4422101378440857.\n",
      "\n",
      "100%|████████████████████████████████████████████████████████████████████████████████| 469/469 [00:12<00:00, 36.21it/s]\n",
      "Epoch: 56. Accuracy_train: 87.41. Accuracy_val: 84.57.\n",
      "Epoch: 56. Loss_train: 0.35716152280124264. Loss_val: 0.4401867687702179.\n",
      "\n",
      "100%|████████████████████████████████████████████████████████████████████████████████| 469/469 [00:12<00:00, 36.29it/s]\n",
      "Epoch: 57. Accuracy_train: 87.52. Accuracy_val: 84.5.\n",
      "Epoch: 57. Loss_train: 0.3570214720613667. Loss_val: 0.44067928194999695.\n",
      "\n",
      "100%|████████████████████████████████████████████████████████████████████████████████| 469/469 [00:12<00:00, 37.21it/s]\n",
      "Epoch: 58. Accuracy_train: 87.43. Accuracy_val: 84.34.\n",
      "Epoch: 58. Loss_train: 0.3573778392727187. Loss_val: 0.4493713974952698.\n",
      "\n",
      "100%|████████████████████████████████████████████████████████████████████████████████| 469/469 [00:12<00:00, 36.15it/s]\n",
      "Epoch: 59. Accuracy_train: 87.5. Accuracy_val: 84.71.\n",
      "Epoch: 59. Loss_train: 0.35624428427041466. Loss_val: 0.44063881039619446.\n",
      "\n",
      "100%|████████████████████████████████████████████████████████████████████████████████| 469/469 [00:12<00:00, 37.49it/s]\n",
      "Epoch: 60. Accuracy_train: 87.58. Accuracy_val: 84.63.\n",
      "Epoch: 60. Loss_train: 0.35540766642291916. Loss_val: 0.43999505043029785.\n",
      "\n",
      "100%|████████████████████████████████████████████████████████████████████████████████| 469/469 [00:11<00:00, 42.57it/s]\n",
      "Epoch: 61. Accuracy_train: 87.5. Accuracy_val: 84.58.\n",
      "Epoch: 61. Loss_train: 0.35579557526213273. Loss_val: 0.4431820213794708.\n",
      "\n",
      "100%|████████████████████████████████████████████████████████████████████████████████| 469/469 [00:12<00:00, 38.77it/s]\n",
      "Epoch: 62. Accuracy_train: 87.53. Accuracy_val: 84.63.\n",
      "Epoch: 62. Loss_train: 0.3548982648262337. Loss_val: 0.44216281175613403.\n",
      "\n",
      "100%|████████████████████████████████████████████████████████████████████████████████| 469/469 [00:11<00:00, 39.25it/s]\n",
      "Epoch: 63. Accuracy_train: 87.43. Accuracy_val: 84.71.\n",
      "Epoch: 63. Loss_train: 0.3558623196283129. Loss_val: 0.4395137131214142.\n",
      "\n",
      "100%|████████████████████████████████████████████████████████████████████████████████| 469/469 [00:12<00:00, 36.68it/s]\n",
      "Epoch: 64. Accuracy_train: 87.5. Accuracy_val: 84.55.\n",
      "Epoch: 64. Loss_train: 0.3551339316787496. Loss_val: 0.4408324062824249.\n",
      "\n",
      "100%|████████████████████████████████████████████████████████████████████████████████| 469/469 [00:12<00:00, 37.48it/s]\n",
      "Epoch: 65. Accuracy_train: 87.44. Accuracy_val: 84.56.\n",
      "Epoch: 65. Loss_train: 0.3550777754613331. Loss_val: 0.44251662492752075.\n",
      "\n",
      "100%|████████████████████████████████████████████████████████████████████████████████| 469/469 [00:11<00:00, 40.24it/s]\n",
      "Epoch: 66. Accuracy_train: 87.53. Accuracy_val: 84.46.\n",
      "Epoch: 66. Loss_train: 0.3546789707596114. Loss_val: 0.43799418210983276.\n",
      "\n"
     ]
    },
    {
     "name": "stdout",
     "output_type": "stream",
     "text": [
      "100%|████████████████████████████████████████████████████████████████████████████████| 469/469 [00:11<00:00, 41.38it/s]\n",
      "Epoch: 67. Accuracy_train: 87.62. Accuracy_val: 84.41.\n",
      "Epoch: 67. Loss_train: 0.3541124336310287. Loss_val: 0.4424957036972046.\n",
      "\n",
      "100%|████████████████████████████████████████████████████████████████████████████████| 469/469 [00:12<00:00, 37.09it/s]\n",
      "Epoch: 68. Accuracy_train: 87.55. Accuracy_val: 84.21.\n",
      "Epoch: 68. Loss_train: 0.35371839606177324. Loss_val: 0.4439246654510498.\n",
      "\n",
      "100%|████████████████████████████████████████████████████████████████████████████████| 469/469 [00:13<00:00, 35.65it/s]\n",
      "Epoch: 69. Accuracy_train: 87.57. Accuracy_val: 84.52.\n",
      "Epoch: 69. Loss_train: 0.35387527869581414. Loss_val: 0.44723835587501526.\n",
      "\n",
      "100%|████████████████████████████████████████████████████████████████████████████████| 469/469 [00:13<00:00, 35.55it/s]\n",
      "Epoch: 70. Accuracy_train: 87.53. Accuracy_val: 84.47.\n",
      "Epoch: 70. Loss_train: 0.3535172729604026. Loss_val: 0.4453465938568115.\n",
      "\n",
      "100%|████████████████████████████████████████████████████████████████████████████████| 469/469 [00:11<00:00, 42.33it/s]\n",
      "Epoch: 71. Accuracy_train: 87.61. Accuracy_val: 84.44.\n",
      "Epoch: 71. Loss_train: 0.3527173151466638. Loss_val: 0.4404982030391693.\n",
      "\n",
      "100%|████████████████████████████████████████████████████████████████████████████████| 469/469 [00:12<00:00, 38.19it/s]\n",
      "Epoch: 72. Accuracy_train: 87.68. Accuracy_val: 84.37.\n",
      "Epoch: 72. Loss_train: 0.3529262350185085. Loss_val: 0.4452661871910095.\n",
      "\n",
      "100%|████████████████████████████████████████████████████████████████████████████████| 469/469 [00:13<00:00, 35.79it/s]\n",
      "Epoch: 73. Accuracy_train: 87.6. Accuracy_val: 84.3.\n",
      "Epoch: 73. Loss_train: 0.35238309274477236. Loss_val: 0.44790518283843994.\n",
      "\n",
      "100%|████████████████████████████████████████████████████████████████████████████████| 469/469 [00:11<00:00, 41.89it/s]\n",
      "Epoch: 74. Accuracy_train: 87.56. Accuracy_val: 84.57.\n",
      "Epoch: 74. Loss_train: 0.35315877860034706. Loss_val: 0.4474983215332031.\n",
      "\n",
      "100%|████████████████████████████████████████████████████████████████████████████████| 469/469 [00:12<00:00, 37.42it/s]\n",
      "Epoch: 75. Accuracy_train: 87.69. Accuracy_val: 84.45.\n",
      "Epoch: 75. Loss_train: 0.3518842279212053. Loss_val: 0.4425121247768402.\n",
      "\n",
      "100%|████████████████████████████████████████████████████████████████████████████████| 469/469 [00:14<00:00, 31.89it/s]\n",
      "Epoch: 76. Accuracy_train: 87.46. Accuracy_val: 84.52.\n",
      "Epoch: 76. Loss_train: 0.35241054319369514. Loss_val: 0.4501625597476959.\n",
      "\n",
      "100%|████████████████████████████████████████████████████████████████████████████████| 469/469 [00:12<00:00, 36.62it/s]\n",
      "Epoch: 77. Accuracy_train: 87.62. Accuracy_val: 84.64.\n",
      "Epoch: 77. Loss_train: 0.3525401734784722. Loss_val: 0.44801726937294006.\n",
      "\n",
      "100%|████████████████████████████████████████████████████████████████████████████████| 469/469 [00:12<00:00, 38.00it/s]\n",
      "Epoch: 78. Accuracy_train: 87.68. Accuracy_val: 84.33.\n",
      "Epoch: 78. Loss_train: 0.35131275367889325. Loss_val: 0.44521456956863403.\n",
      "\n",
      "100%|████████████████████████████████████████████████████████████████████████████████| 469/469 [00:12<00:00, 36.73it/s]\n",
      "Epoch: 79. Accuracy_train: 87.61. Accuracy_val: 84.71.\n",
      "Epoch: 79. Loss_train: 0.3509894501425818. Loss_val: 0.44487816095352173.\n",
      "\n",
      "100%|████████████████████████████████████████████████████████████████████████████████| 469/469 [00:11<00:00, 42.01it/s]\n",
      "Epoch: 80. Accuracy_train: 87.55. Accuracy_val: 84.6.\n",
      "Epoch: 80. Loss_train: 0.3513205971227272. Loss_val: 0.4396122694015503.\n",
      "\n",
      "100%|████████████████████████████████████████████████████████████████████████████████| 469/469 [00:12<00:00, 37.00it/s]\n",
      "Epoch: 81. Accuracy_train: 87.67. Accuracy_val: 84.61.\n",
      "Epoch: 81. Loss_train: 0.351275357896331. Loss_val: 0.4482792317867279.\n",
      "\n",
      "100%|████████████████████████████████████████████████████████████████████████████████| 469/469 [00:13<00:00, 35.32it/s]\n",
      "Epoch: 82. Accuracy_train: 87.64. Accuracy_val: 84.56.\n",
      "Epoch: 82. Loss_train: 0.35099854321876317. Loss_val: 0.44358038902282715.\n",
      "\n",
      "100%|████████████████████████████████████████████████████████████████████████████████| 469/469 [00:12<00:00, 38.86it/s]\n",
      "Epoch: 83. Accuracy_train: 87.64. Accuracy_val: 84.46.\n",
      "Epoch: 83. Loss_train: 0.3507207085583002. Loss_val: 0.4467081129550934.\n",
      "\n",
      "100%|████████████████████████████████████████████████████████████████████████████████| 469/469 [00:13<00:00, 34.40it/s]\n",
      "Epoch: 84. Accuracy_train: 87.63. Accuracy_val: 84.46.\n",
      "Epoch: 84. Loss_train: 0.35040193869233893. Loss_val: 0.44875264167785645.\n",
      "\n",
      "100%|████████████████████████████████████████████████████████████████████████████████| 469/469 [00:11<00:00, 42.30it/s]\n",
      "Epoch: 85. Accuracy_train: 87.63. Accuracy_val: 84.27.\n",
      "Epoch: 85. Loss_train: 0.3508816792893766. Loss_val: 0.45016637444496155.\n",
      "\n",
      "100%|████████████████████████████████████████████████████████████████████████████████| 469/469 [00:12<00:00, 36.61it/s]\n",
      "Epoch: 86. Accuracy_train: 87.66. Accuracy_val: 84.3.\n",
      "Epoch: 86. Loss_train: 0.3493339893723856. Loss_val: 0.45172712206840515.\n",
      "\n",
      "100%|████████████████████████████████████████████████████████████████████████████████| 469/469 [00:12<00:00, 37.41it/s]\n",
      "Epoch: 87. Accuracy_train: 87.64. Accuracy_val: 84.39.\n",
      "Epoch: 87. Loss_train: 0.350504645184159. Loss_val: 0.449537456035614.\n",
      "\n",
      "100%|████████████████████████████████████████████████████████████████████████████████| 469/469 [00:10<00:00, 42.67it/s]\n",
      "Epoch: 88. Accuracy_train: 87.75. Accuracy_val: 84.58.\n",
      "Epoch: 88. Loss_train: 0.34956554782543103. Loss_val: 0.44629737734794617.\n",
      "\n",
      "100%|████████████████████████████████████████████████████████████████████████████████| 469/469 [00:12<00:00, 36.79it/s]\n",
      "Epoch: 89. Accuracy_train: 87.7. Accuracy_val: 84.54.\n",
      "Epoch: 89. Loss_train: 0.3487044896588905. Loss_val: 0.44593772292137146.\n",
      "\n",
      "100%|████████████████████████████████████████████████████████████████████████████████| 469/469 [00:12<00:00, 37.41it/s]\n",
      "Epoch: 90. Accuracy_train: 87.72. Accuracy_val: 83.92.\n",
      "Epoch: 90. Loss_train: 0.3495565648399182. Loss_val: 0.4678824841976166.\n",
      "\n",
      "100%|████████████████████████████████████████████████████████████████████████████████| 469/469 [00:11<00:00, 42.23it/s]\n",
      "Epoch: 91. Accuracy_train: 87.69. Accuracy_val: 84.3.\n",
      "Epoch: 91. Loss_train: 0.3490721101064418. Loss_val: 0.4536423087120056.\n",
      "\n",
      "100%|████████████████████████████████████████████████████████████████████████████████| 469/469 [00:13<00:00, 36.02it/s]\n",
      "Epoch: 92. Accuracy_train: 87.67. Accuracy_val: 84.35.\n",
      "Epoch: 92. Loss_train: 0.3492274062910568. Loss_val: 0.4451577961444855.\n",
      "\n",
      "100%|████████████████████████████████████████████████████████████████████████████████| 469/469 [00:11<00:00, 39.70it/s]\n",
      "Epoch: 93. Accuracy_train: 87.74. Accuracy_val: 84.49.\n",
      "Epoch: 93. Loss_train: 0.34843485511696415. Loss_val: 0.4496712386608124.\n",
      "\n",
      "100%|████████████████████████████████████████████████████████████████████████████████| 469/469 [00:10<00:00, 42.84it/s]\n",
      "Epoch: 94. Accuracy_train: 87.84. Accuracy_val: 84.19.\n",
      "Epoch: 94. Loss_train: 0.34764758337026974. Loss_val: 0.45133036375045776.\n",
      "\n",
      "100%|████████████████████████████████████████████████████████████████████████████████| 469/469 [00:12<00:00, 36.97it/s]\n",
      "Epoch: 95. Accuracy_train: 87.74. Accuracy_val: 84.59.\n",
      "Epoch: 95. Loss_train: 0.34851090654508393. Loss_val: 0.4443630278110504.\n",
      "\n",
      "100%|████████████████████████████████████████████████████████████████████████████████| 469/469 [00:10<00:00, 42.67it/s]\n",
      "Epoch: 96. Accuracy_train: 87.75. Accuracy_val: 84.48.\n",
      "Epoch: 96. Loss_train: 0.34835593799538195. Loss_val: 0.45332664251327515.\n",
      "\n",
      "100%|████████████████████████████████████████████████████████████████████████████████| 469/469 [00:11<00:00, 39.21it/s]\n",
      "Epoch: 97. Accuracy_train: 87.76. Accuracy_val: 84.67.\n",
      "Epoch: 97. Loss_train: 0.3483045063992299. Loss_val: 0.4473836421966553.\n",
      "\n",
      "100%|████████████████████████████████████████████████████████████████████████████████| 469/469 [00:12<00:00, 37.61it/s]\n",
      "Epoch: 98. Accuracy_train: 87.67. Accuracy_val: 84.56.\n",
      "Epoch: 98. Loss_train: 0.3488977962592517. Loss_val: 0.44311508536338806.\n",
      "\n",
      "100%|████████████████████████████████████████████████████████████████████████████████| 469/469 [00:12<00:00, 36.52it/s]\n",
      "Epoch: 99. Accuracy_train: 87.72. Accuracy_val: 84.49.\n",
      "Epoch: 99. Loss_train: 0.34725812303104886. Loss_val: 0.4430706799030304.\n",
      "\n"
     ]
    },
    {
     "name": "stdout",
     "output_type": "stream",
     "text": [
      "100%|████████████████████████████████████████████████████████████████████████████████| 469/469 [00:13<00:00, 35.05it/s]\n",
      "Epoch: 100. Accuracy_train: 87.76. Accuracy_val: 84.47.\n",
      "Epoch: 100. Loss_train: 0.3478549976211621. Loss_val: 0.44863900542259216.\n",
      "\n",
      "100%|████████████████████████████████████████████████████████████████████████████████| 469/469 [00:14<00:00, 32.11it/s]\n",
      "Epoch: 101. Accuracy_train: 87.72. Accuracy_val: 84.46.\n",
      "Epoch: 101. Loss_train: 0.34788510333627526. Loss_val: 0.44524937868118286.\n",
      "\n",
      "100%|████████████████████████████████████████████████████████████████████████████████| 469/469 [00:11<00:00, 41.21it/s]\n",
      "Epoch: 102. Accuracy_train: 87.7. Accuracy_val: 84.28.\n",
      "Epoch: 102. Loss_train: 0.34784085193930914. Loss_val: 0.4549414813518524.\n",
      "\n",
      "100%|████████████████████████████████████████████████████████████████████████████████| 469/469 [00:12<00:00, 37.17it/s]\n",
      "Epoch: 103. Accuracy_train: 87.71. Accuracy_val: 84.47.\n",
      "Epoch: 103. Loss_train: 0.3479561054312598. Loss_val: 0.4443555474281311.\n",
      "\n",
      "100%|████████████████████████████████████████████████████████████████████████████████| 469/469 [00:12<00:00, 37.70it/s]\n",
      "Epoch: 104. Accuracy_train: 87.75. Accuracy_val: 84.36.\n",
      "Epoch: 104. Loss_train: 0.3477776043895465. Loss_val: 0.4497253894805908.\n",
      "\n",
      "100%|████████████████████████████████████████████████████████████████████████████████| 469/469 [00:13<00:00, 35.37it/s]\n",
      "Epoch: 105. Accuracy_train: 87.78. Accuracy_val: 84.51.\n",
      "Epoch: 105. Loss_train: 0.3463638025496814. Loss_val: 0.44928088784217834.\n",
      "\n",
      "100%|████████████████████████████████████████████████████████████████████████████████| 469/469 [00:12<00:00, 37.74it/s]\n",
      "Epoch: 106. Accuracy_train: 87.82. Accuracy_val: 84.35.\n",
      "Epoch: 106. Loss_train: 0.3466221733388108. Loss_val: 0.44585084915161133.\n",
      "\n",
      "100%|████████████████████████████████████████████████████████████████████████████████| 469/469 [00:13<00:00, 35.10it/s]\n",
      "Epoch: 107. Accuracy_train: 87.76. Accuracy_val: 84.1.\n",
      "Epoch: 107. Loss_train: 0.3465665824123537. Loss_val: 0.46062174439430237.\n",
      "\n",
      "100%|████████████████████████████████████████████████████████████████████████████████| 469/469 [00:13<00:00, 34.08it/s]\n",
      "Epoch: 108. Accuracy_train: 87.7. Accuracy_val: 84.39.\n",
      "Epoch: 108. Loss_train: 0.3466908145052538. Loss_val: 0.44972914457321167.\n",
      "\n",
      "100%|████████████████████████████████████████████████████████████████████████████████| 469/469 [00:13<00:00, 33.79it/s]\n",
      "Epoch: 109. Accuracy_train: 87.82. Accuracy_val: 84.43.\n",
      "Epoch: 109. Loss_train: 0.34678294295186934. Loss_val: 0.4498457610607147.\n",
      "\n",
      "100%|████████████████████████████████████████████████████████████████████████████████| 469/469 [00:13<00:00, 35.13it/s]\n",
      "Epoch: 110. Accuracy_train: 87.75. Accuracy_val: 84.45.\n",
      "Epoch: 110. Loss_train: 0.3468156849969425. Loss_val: 0.4465692341327667.\n",
      "\n",
      "100%|████████████████████████████████████████████████████████████████████████████████| 469/469 [00:12<00:00, 37.59it/s]\n",
      "Epoch: 111. Accuracy_train: 87.71. Accuracy_val: 84.2.\n",
      "Epoch: 111. Loss_train: 0.34567164732957445. Loss_val: 0.4530879557132721.\n",
      "\n",
      "100%|████████████████████████████████████████████████████████████████████████████████| 469/469 [00:13<00:00, 34.90it/s]\n",
      "Epoch: 112. Accuracy_train: 87.87. Accuracy_val: 84.2.\n",
      "Epoch: 112. Loss_train: 0.345601035714912. Loss_val: 0.4560454189777374.\n",
      "\n",
      "100%|████████████████████████████████████████████████████████████████████████████████| 469/469 [00:13<00:00, 34.14it/s]\n",
      "Epoch: 113. Accuracy_train: 87.79. Accuracy_val: 84.45.\n",
      "Epoch: 113. Loss_train: 0.34630669564453526. Loss_val: 0.45472997426986694.\n",
      "\n",
      "100%|████████████████████████████████████████████████████████████████████████████████| 469/469 [00:13<00:00, 35.32it/s]\n",
      "Epoch: 114. Accuracy_train: 87.67. Accuracy_val: 84.38.\n",
      "Epoch: 114. Loss_train: 0.346347843755537. Loss_val: 0.44777292013168335.\n",
      "\n",
      "100%|████████████████████████████████████████████████████████████████████████████████| 469/469 [00:14<00:00, 33.31it/s]\n",
      "Epoch: 115. Accuracy_train: 87.69. Accuracy_val: 84.54.\n",
      "Epoch: 115. Loss_train: 0.34622611480353993. Loss_val: 0.44922536611557007.\n",
      "\n",
      "100%|████████████████████████████████████████████████████████████████████████████████| 469/469 [00:13<00:00, 35.41it/s]\n",
      "Epoch: 116. Accuracy_train: 87.77. Accuracy_val: 84.33.\n",
      "Epoch: 116. Loss_train: 0.3457689918180519. Loss_val: 0.45069774985313416.\n",
      "\n",
      "100%|████████████████████████████████████████████████████████████████████████████████| 469/469 [00:13<00:00, 35.81it/s]\n",
      "Epoch: 117. Accuracy_train: 87.81. Accuracy_val: 84.33.\n",
      "Epoch: 117. Loss_train: 0.34587263889404246. Loss_val: 0.44962841272354126.\n",
      "\n",
      "100%|████████████████████████████████████████████████████████████████████████████████| 469/469 [00:12<00:00, 36.59it/s]\n",
      "Epoch: 118. Accuracy_train: 87.84. Accuracy_val: 84.41.\n",
      "Epoch: 118. Loss_train: 0.3451038319101212. Loss_val: 0.45925241708755493.\n",
      "\n",
      "100%|████████████████████████████████████████████████████████████████████████████████| 469/469 [00:13<00:00, 34.33it/s]\n",
      "Epoch: 119. Accuracy_train: 87.85. Accuracy_val: 84.29.\n",
      "Epoch: 119. Loss_train: 0.3454629100207835. Loss_val: 0.45753371715545654.\n",
      "\n",
      "100%|████████████████████████████████████████████████████████████████████████████████| 469/469 [00:14<00:00, 32.47it/s]\n",
      "Epoch: 120. Accuracy_train: 87.76. Accuracy_val: 84.1.\n",
      "Epoch: 120. Loss_train: 0.34488294033734784. Loss_val: 0.4625642001628876.\n",
      "\n",
      "100%|████████████████████████████████████████████████████████████████████████████████| 469/469 [00:14<00:00, 32.77it/s]\n",
      "Epoch: 121. Accuracy_train: 87.86. Accuracy_val: 84.44.\n",
      "Epoch: 121. Loss_train: 0.3456900024147176. Loss_val: 0.45520976185798645.\n",
      "\n",
      "100%|████████████████████████████████████████████████████████████████████████████████| 469/469 [00:14<00:00, 32.77it/s]\n",
      "Epoch: 122. Accuracy_train: 87.8. Accuracy_val: 84.48.\n",
      "Epoch: 122. Loss_train: 0.3448576029302723. Loss_val: 0.4496205151081085.\n",
      "\n",
      "100%|████████████████████████████████████████████████████████████████████████████████| 469/469 [00:13<00:00, 34.84it/s]\n",
      "Epoch: 123. Accuracy_train: 87.8. Accuracy_val: 84.32.\n",
      "Epoch: 123. Loss_train: 0.3445186062153977. Loss_val: 0.45418018102645874.\n",
      "\n",
      "100%|████████████████████████████████████████████████████████████████████████████████| 469/469 [00:12<00:00, 37.54it/s]\n",
      "Epoch: 124. Accuracy_train: 87.81. Accuracy_val: 84.25.\n",
      "Epoch: 124. Loss_train: 0.34461225937805706. Loss_val: 0.4547390639781952.\n",
      "\n",
      "100%|████████████████████████████████████████████████████████████████████████████████| 469/469 [00:13<00:00, 34.47it/s]\n",
      "Epoch: 125. Accuracy_train: 87.86. Accuracy_val: 84.5.\n",
      "Epoch: 125. Loss_train: 0.34449594946049933. Loss_val: 0.45434078574180603.\n",
      "\n",
      "100%|████████████████████████████████████████████████████████████████████████████████| 469/469 [00:13<00:00, 34.46it/s]\n",
      "Epoch: 126. Accuracy_train: 87.77. Accuracy_val: 84.39.\n",
      "Epoch: 126. Loss_train: 0.34403237420866994. Loss_val: 0.450072318315506.\n",
      "\n",
      "100%|████████████████████████████████████████████████████████████████████████████████| 469/469 [00:13<00:00, 34.86it/s]\n",
      "Epoch: 127. Accuracy_train: 87.76. Accuracy_val: 84.45.\n",
      "Epoch: 127. Loss_train: 0.34502350947241794. Loss_val: 0.4490557909011841.\n",
      "\n",
      "100%|████████████████████████████████████████████████████████████████████████████████| 469/469 [00:12<00:00, 37.37it/s]\n",
      "Epoch: 128. Accuracy_train: 87.89. Accuracy_val: 84.42.\n",
      "Epoch: 128. Loss_train: 0.34442281338578856. Loss_val: 0.4553361237049103.\n",
      "\n",
      "100%|████████████████████████████████████████████████████████████████████████████████| 469/469 [00:12<00:00, 37.18it/s]\n",
      "Epoch: 129. Accuracy_train: 87.75. Accuracy_val: 84.35.\n",
      "Epoch: 129. Loss_train: 0.3448615995551477. Loss_val: 0.45056867599487305.\n",
      "\n",
      "100%|████████████████████████████████████████████████████████████████████████████████| 469/469 [00:13<00:00, 35.06it/s]\n",
      "Epoch: 130. Accuracy_train: 87.89. Accuracy_val: 84.43.\n",
      "Epoch: 130. Loss_train: 0.343813635837803. Loss_val: 0.4531497657299042.\n",
      "\n",
      "100%|████████████████████████████████████████████████████████████████████████████████| 469/469 [00:13<00:00, 35.40it/s]\n",
      "Epoch: 131. Accuracy_train: 87.83. Accuracy_val: 84.16.\n",
      "Epoch: 131. Loss_train: 0.3442006067299385. Loss_val: 0.45563384890556335.\n",
      "\n",
      "100%|████████████████████████████████████████████████████████████████████████████████| 469/469 [00:13<00:00, 35.44it/s]\n",
      "Epoch: 132. Accuracy_train: 87.85. Accuracy_val: 84.46.\n",
      "Epoch: 132. Loss_train: 0.3433379906454066. Loss_val: 0.4502674639225006.\n",
      "\n"
     ]
    },
    {
     "name": "stdout",
     "output_type": "stream",
     "text": [
      "100%|████████████████████████████████████████████████████████████████████████████████| 469/469 [00:10<00:00, 42.89it/s]\n",
      "Epoch: 133. Accuracy_train: 87.86. Accuracy_val: 84.14.\n",
      "Epoch: 133. Loss_train: 0.34321148331358486. Loss_val: 0.4527116119861603.\n",
      "\n",
      "100%|████████████████████████████████████████████████████████████████████████████████| 469/469 [00:11<00:00, 40.90it/s]\n",
      "Epoch: 134. Accuracy_train: 87.89. Accuracy_val: 84.13.\n",
      "Epoch: 134. Loss_train: 0.34305242765178556. Loss_val: 0.4645656645298004.\n",
      "\n",
      "100%|████████████████████████████████████████████████████████████████████████████████| 469/469 [00:14<00:00, 33.23it/s]\n",
      "Epoch: 135. Accuracy_train: 87.85. Accuracy_val: 84.24.\n",
      "Epoch: 135. Loss_train: 0.3423312501167692. Loss_val: 0.4546721875667572.\n",
      "\n",
      "100%|████████████████████████████████████████████████████████████████████████████████| 469/469 [00:14<00:00, 32.45it/s]\n",
      "Epoch: 136. Accuracy_train: 87.86. Accuracy_val: 84.39.\n",
      "Epoch: 136. Loss_train: 0.3432539775173293. Loss_val: 0.4542882442474365.\n",
      "\n",
      "100%|████████████████████████████████████████████████████████████████████████████████| 469/469 [00:13<00:00, 33.85it/s]\n",
      "Epoch: 137. Accuracy_train: 87.82. Accuracy_val: 83.9.\n",
      "Epoch: 137. Loss_train: 0.34377908735260015. Loss_val: 0.46220389008522034.\n",
      "\n",
      "100%|████████████████████████████████████████████████████████████████████████████████| 469/469 [00:12<00:00, 37.78it/s]\n",
      "Epoch: 138. Accuracy_train: 88.0. Accuracy_val: 84.31.\n",
      "Epoch: 138. Loss_train: 0.3429464001708956. Loss_val: 0.45255187153816223.\n",
      "\n",
      "100%|████████████████████████████████████████████████████████████████████████████████| 469/469 [00:13<00:00, 35.51it/s]\n",
      "Epoch: 139. Accuracy_train: 87.88. Accuracy_val: 84.15.\n",
      "Epoch: 139. Loss_train: 0.34222810024391614. Loss_val: 0.46105071902275085.\n",
      "\n",
      "100%|████████████████████████████████████████████████████████████████████████████████| 469/469 [00:12<00:00, 38.38it/s]\n",
      "Epoch: 140. Accuracy_train: 87.91. Accuracy_val: 84.37.\n",
      "Epoch: 140. Loss_train: 0.3428421633075804. Loss_val: 0.45421329140663147.\n",
      "\n",
      "100%|████████████████████████████████████████████████████████████████████████████████| 469/469 [00:12<00:00, 36.27it/s]\n",
      "Epoch: 141. Accuracy_train: 87.79. Accuracy_val: 84.41.\n",
      "Epoch: 141. Loss_train: 0.34338819291164624. Loss_val: 0.4523267149925232.\n",
      "\n",
      "100%|████████████████████████████████████████████████████████████████████████████████| 469/469 [00:12<00:00, 37.89it/s]\n",
      "Epoch: 142. Accuracy_train: 87.88. Accuracy_val: 84.09.\n",
      "Epoch: 142. Loss_train: 0.342765335176291. Loss_val: 0.4578661024570465.\n",
      "\n",
      "100%|████████████████████████████████████████████████████████████████████████████████| 469/469 [00:11<00:00, 39.93it/s]\n",
      "Epoch: 143. Accuracy_train: 87.83. Accuracy_val: 84.3.\n",
      "Epoch: 143. Loss_train: 0.34219277572275986. Loss_val: 0.45424261689186096.\n",
      "\n",
      "100%|████████████████████████████████████████████████████████████████████████████████| 469/469 [00:13<00:00, 34.65it/s]\n",
      "Epoch: 144. Accuracy_train: 87.87. Accuracy_val: 84.34.\n",
      "Epoch: 144. Loss_train: 0.34261824263692664. Loss_val: 0.4571434557437897.\n",
      "\n",
      "100%|████████████████████████████████████████████████████████████████████████████████| 469/469 [00:13<00:00, 35.41it/s]\n",
      "Epoch: 145. Accuracy_train: 87.96. Accuracy_val: 84.35.\n",
      "Epoch: 145. Loss_train: 0.3419636724981418. Loss_val: 0.4588525593280792.\n",
      "\n",
      "100%|████████████████████████████████████████████████████████████████████████████████| 469/469 [00:12<00:00, 36.21it/s]\n",
      "Epoch: 146. Accuracy_train: 87.9. Accuracy_val: 84.29.\n",
      "Epoch: 146. Loss_train: 0.3415325541359021. Loss_val: 0.45475098490715027.\n",
      "\n",
      "100%|████████████████████████████████████████████████████████████████████████████████| 469/469 [00:12<00:00, 37.19it/s]\n",
      "Epoch: 147. Accuracy_train: 87.9. Accuracy_val: 84.51.\n",
      "Epoch: 147. Loss_train: 0.3418248636064245. Loss_val: 0.4505276679992676.\n",
      "\n",
      "100%|████████████████████████████████████████████████████████████████████████████████| 469/469 [00:13<00:00, 35.37it/s]\n",
      "Epoch: 148. Accuracy_train: 87.93. Accuracy_val: 84.11.\n",
      "Epoch: 148. Loss_train: 0.34170502119227003. Loss_val: 0.45607879757881165.\n",
      "\n",
      "100%|████████████████████████████████████████████████████████████████████████████████| 469/469 [00:13<00:00, 34.68it/s]\n",
      "Epoch: 149. Accuracy_train: 87.94. Accuracy_val: 84.27.\n",
      "Epoch: 149. Loss_train: 0.3415381494107277. Loss_val: 0.4551032483577728.\n",
      "\n",
      "100%|████████████████████████████████████████████████████████████████████████████████| 469/469 [00:13<00:00, 33.65it/s]\n",
      "Epoch: 150. Accuracy_train: 87.86. Accuracy_val: 84.13.\n",
      "Epoch: 150. Loss_train: 0.3417778205769911. Loss_val: 0.45914748311042786.\n",
      "\n"
     ]
    }
   ],
   "source": [
    "optimizer_Adam = Adam([weights, intercept])\n",
    "criterion = nn.CrossEntropyLoss()\n",
    "train_acc_1, test_acc_1, train_loss_1, test_loss_1 = fit(optimizer_Adam, weights, intercept, num_epoch=150)"
   ]
  },
  {
   "cell_type": "code",
   "execution_count": 62,
   "metadata": {},
   "outputs": [
    {
     "data": {
      "image/png": "[encoded data removed]",
      "text/plain": [
       "<Figure size 576x432 with 1 Axes>"
      ]
     },
     "metadata": {
      "needs_background": "light"
     },
     "output_type": "display_data"
    },
    {
     "data": {
      "image/png": "[encoded data removed]",
      "text/plain": [
       "<Figure size 576x432 with 1 Axes>"
      ]
     },
     "metadata": {
      "needs_background": "light"
     },
     "output_type": "display_data"
    }
   ],
   "source": [
    "visualisation(150, train_acc_1, test_acc_1, train_loss_1, test_loss_1)"
   ]
  },
  {
   "cell_type": "markdown",
   "metadata": {},
   "source": [
    "## Pytorch Adam"
   ]
  },
  {
   "cell_type": "code",
   "execution_count": 63,
   "metadata": {
    "scrolled": true
   },
   "outputs": [
    {
     "name": "stdout",
     "output_type": "stream",
     "text": [
      "100%|████████████████████████████████████████████████████████████████████████████████| 469/469 [00:08<00:00, 52.64it/s]\n",
      "Epoch: 1. Accuracy_train: 74.15. Accuracy_val: 79.5.\n",
      "Epoch: 1. Loss_train: 0.7604682784217761. Loss_val: 0.5923076868057251.\n",
      "\n",
      "100%|████████████████████████████████████████████████████████████████████████████████| 469/469 [00:10<00:00, 45.85it/s]\n",
      "Epoch: 2. Accuracy_train: 82.46. Accuracy_val: 81.96.\n",
      "Epoch: 2. Loss_train: 0.5233443681873492. Loss_val: 0.5240962505340576.\n",
      "\n",
      "100%|████████████████████████████████████████████████████████████████████████████████| 469/469 [00:12<00:00, 38.41it/s]\n",
      "Epoch: 3. Accuracy_train: 83.89. Accuracy_val: 83.13.\n",
      "Epoch: 3. Loss_train: 0.4776248468010664. Loss_val: 0.4981096386909485.\n",
      "\n",
      "100%|████████████████████████████████████████████████████████████████████████████████| 469/469 [00:11<00:00, 40.65it/s]\n",
      "Epoch: 4. Accuracy_train: 84.64. Accuracy_val: 83.64.\n",
      "Epoch: 4. Loss_train: 0.4536648931533797. Loss_val: 0.48074886202812195.\n",
      "\n",
      "100%|████████████████████████████████████████████████████████████████████████████████| 469/469 [00:11<00:00, 39.44it/s]\n",
      "Epoch: 5. Accuracy_train: 85.13. Accuracy_val: 83.93.\n",
      "Epoch: 5. Loss_train: 0.4387878029585393. Loss_val: 0.4680348038673401.\n",
      "\n",
      "100%|████████████████████████████████████████████████████████████████████████████████| 469/469 [00:12<00:00, 36.63it/s]\n",
      "Epoch: 6. Accuracy_train: 85.34. Accuracy_val: 83.75.\n",
      "Epoch: 6. Loss_train: 0.42817780464442806. Loss_val: 0.4686420261859894.\n",
      "\n",
      "100%|████████████████████████████████████████████████████████████████████████████████| 469/469 [00:11<00:00, 39.57it/s]\n",
      "Epoch: 7. Accuracy_train: 85.74. Accuracy_val: 84.16.\n",
      "Epoch: 7. Loss_train: 0.4196250277605138. Loss_val: 0.4580346941947937.\n",
      "\n",
      "100%|████████████████████████████████████████████████████████████████████████████████| 469/469 [00:12<00:00, 37.49it/s]\n",
      "Epoch: 8. Accuracy_train: 85.9. Accuracy_val: 84.33.\n",
      "Epoch: 8. Loss_train: 0.4132467246513123. Loss_val: 0.45256906747817993.\n",
      "\n",
      "100%|████████████████████████████████████████████████████████████████████████████████| 469/469 [00:12<00:00, 37.81it/s]\n",
      "Epoch: 9. Accuracy_train: 85.86. Accuracy_val: 83.7.\n",
      "Epoch: 9. Loss_train: 0.40898344626050515. Loss_val: 0.462300181388855.\n",
      "\n",
      "100%|████████████████████████████████████████████████████████████████████████████████| 469/469 [00:12<00:00, 37.70it/s]\n",
      "Epoch: 10. Accuracy_train: 86.24. Accuracy_val: 84.59.\n",
      "Epoch: 10. Loss_train: 0.4025143916482356. Loss_val: 0.45307523012161255.\n",
      "\n",
      "100%|████████████████████████████████████████████████████████████████████████████████| 469/469 [00:12<00:00, 36.36it/s]\n",
      "Epoch: 11. Accuracy_train: 86.21. Accuracy_val: 84.42.\n",
      "Epoch: 11. Loss_train: 0.40062920653870876. Loss_val: 0.45116838812828064.\n",
      "\n",
      "100%|████████████████████████████████████████████████████████████████████████████████| 469/469 [00:12<00:00, 36.96it/s]\n",
      "Epoch: 12. Accuracy_train: 86.37. Accuracy_val: 84.37.\n",
      "Epoch: 12. Loss_train: 0.3964836381391676. Loss_val: 0.4455231726169586.\n",
      "\n",
      "100%|████████████████████████████████████████████████████████████████████████████████| 469/469 [00:13<00:00, 35.31it/s]\n",
      "Epoch: 13. Accuracy_train: 86.44. Accuracy_val: 84.37.\n",
      "Epoch: 13. Loss_train: 0.39405249678758164. Loss_val: 0.44580188393592834.\n",
      "\n",
      "100%|████████████████████████████████████████████████████████████████████████████████| 469/469 [00:12<00:00, 37.31it/s]\n",
      "Epoch: 14. Accuracy_train: 86.46. Accuracy_val: 84.46.\n",
      "Epoch: 14. Loss_train: 0.39092073959709484. Loss_val: 0.4390876889228821.\n",
      "\n",
      "100%|████████████████████████████████████████████████████████████████████████████████| 469/469 [00:11<00:00, 39.28it/s]\n",
      "Epoch: 15. Accuracy_train: 86.61. Accuracy_val: 84.44.\n",
      "Epoch: 15. Loss_train: 0.3890586418193032. Loss_val: 0.4428934156894684.\n",
      "\n",
      "100%|████████████████████████████████████████████████████████████████████████████████| 469/469 [00:13<00:00, 35.32it/s]\n",
      "Epoch: 16. Accuracy_train: 86.65. Accuracy_val: 84.5.\n",
      "Epoch: 16. Loss_train: 0.38655107987842074. Loss_val: 0.44871971011161804.\n",
      "\n",
      "100%|████████████████████████████████████████████████████████████████████████████████| 469/469 [00:11<00:00, 39.76it/s]\n",
      "Epoch: 17. Accuracy_train: 86.71. Accuracy_val: 84.07.\n",
      "Epoch: 17. Loss_train: 0.385172663181067. Loss_val: 0.45191580057144165.\n",
      "\n",
      "100%|████████████████████████████████████████████████████████████████████████████████| 469/469 [00:13<00:00, 33.75it/s]\n",
      "Epoch: 18. Accuracy_train: 86.73. Accuracy_val: 84.59.\n",
      "Epoch: 18. Loss_train: 0.3832930153621031. Loss_val: 0.44188883900642395.\n",
      "\n",
      "100%|████████████████████████████████████████████████████████████████████████████████| 469/469 [00:14<00:00, 33.09it/s]\n",
      "Epoch: 19. Accuracy_train: 86.8. Accuracy_val: 84.66.\n",
      "Epoch: 19. Loss_train: 0.38227778984539545. Loss_val: 0.4406052231788635.\n",
      "\n",
      "100%|████████████████████████████████████████████████████████████████████████████████| 469/469 [00:11<00:00, 40.77it/s]\n",
      "Epoch: 20. Accuracy_train: 86.79. Accuracy_val: 84.7.\n",
      "Epoch: 20. Loss_train: 0.3806172910211945. Loss_val: 0.4444965422153473.\n",
      "\n",
      "100%|████████████████████████████████████████████████████████████████████████████████| 469/469 [00:13<00:00, 35.22it/s]\n",
      "Epoch: 21. Accuracy_train: 86.85. Accuracy_val: 84.68.\n",
      "Epoch: 21. Loss_train: 0.3790343476256836. Loss_val: 0.4372139871120453.\n",
      "\n",
      "100%|████████████████████████████████████████████████████████████████████████████████| 469/469 [00:12<00:00, 36.60it/s]\n",
      "Epoch: 22. Accuracy_train: 86.89. Accuracy_val: 84.18.\n",
      "Epoch: 22. Loss_train: 0.3781153203200684. Loss_val: 0.4420231580734253.\n",
      "\n",
      "100%|████████████████████████████████████████████████████████████████████████████████| 469/469 [00:11<00:00, 39.19it/s]\n",
      "Epoch: 23. Accuracy_train: 86.9. Accuracy_val: 84.32.\n",
      "Epoch: 23. Loss_train: 0.3767783728235566. Loss_val: 0.44628721475601196.\n",
      "\n",
      "100%|████████████████████████████████████████████████████████████████████████████████| 469/469 [00:12<00:00, 36.86it/s]\n",
      "Epoch: 24. Accuracy_train: 86.93. Accuracy_val: 84.6.\n",
      "Epoch: 24. Loss_train: 0.3757435781424488. Loss_val: 0.43438223004341125.\n",
      "\n",
      "100%|████████████████████████████████████████████████████████████████████████████████| 469/469 [00:11<00:00, 41.03it/s]\n",
      "Epoch: 25. Accuracy_train: 86.99. Accuracy_val: 84.71.\n",
      "Epoch: 25. Loss_train: 0.3747795355726661. Loss_val: 0.4387640655040741.\n",
      "\n",
      "100%|████████████████████████████████████████████████████████████████████████████████| 469/469 [00:13<00:00, 35.98it/s]\n",
      "Epoch: 26. Accuracy_train: 86.93. Accuracy_val: 84.41.\n",
      "Epoch: 26. Loss_train: 0.3734349247171426. Loss_val: 0.4479469656944275.\n",
      "\n",
      "100%|████████████████████████████████████████████████████████████████████████████████| 469/469 [00:13<00:00, 34.19it/s]\n",
      "Epoch: 27. Accuracy_train: 87.04. Accuracy_val: 84.61.\n",
      "Epoch: 27. Loss_train: 0.37303974500088805. Loss_val: 0.4399939775466919.\n",
      "\n",
      "100%|████████████████████████████████████████████████████████████████████████████████| 469/469 [00:12<00:00, 38.79it/s]\n",
      "Epoch: 28. Accuracy_train: 87.03. Accuracy_val: 84.46.\n",
      "Epoch: 28. Loss_train: 0.37194682714908617. Loss_val: 0.4405989348888397.\n",
      "\n",
      "100%|████████████████████████████████████████████████████████████████████████████████| 469/469 [00:11<00:00, 41.81it/s]\n",
      "Epoch: 29. Accuracy_train: 86.95. Accuracy_val: 84.84.\n",
      "Epoch: 29. Loss_train: 0.3721028420843804. Loss_val: 0.4338063597679138.\n",
      "\n",
      "100%|████████████████████████████████████████████████████████████████████████████████| 469/469 [00:12<00:00, 36.89it/s]\n",
      "Epoch: 30. Accuracy_train: 87.08. Accuracy_val: 84.75.\n",
      "Epoch: 30. Loss_train: 0.36932672623759394. Loss_val: 0.4383799433708191.\n",
      "\n",
      "100%|████████████████████████████████████████████████████████████████████████████████| 469/469 [00:13<00:00, 34.29it/s]\n",
      "Epoch: 31. Accuracy_train: 87.11. Accuracy_val: 84.83.\n",
      "Epoch: 31. Loss_train: 0.369700802382884. Loss_val: 0.43944302201271057.\n",
      "\n",
      "100%|████████████████████████████████████████████████████████████████████████████████| 469/469 [00:12<00:00, 38.32it/s]\n",
      "Epoch: 32. Accuracy_train: 87.0. Accuracy_val: 84.65.\n",
      "Epoch: 32. Loss_train: 0.3697179516177696. Loss_val: 0.43909212946891785.\n",
      "\n",
      "100%|████████████████████████████████████████████████████████████████████████████████| 469/469 [00:14<00:00, 32.60it/s]\n",
      "Epoch: 33. Accuracy_train: 87.18. Accuracy_val: 84.87.\n",
      "Epoch: 33. Loss_train: 0.36836216292147445. Loss_val: 0.43777191638946533.\n",
      "\n"
     ]
    },
    {
     "name": "stdout",
     "output_type": "stream",
     "text": [
      "100%|████████████████████████████████████████████████████████████████████████████████| 469/469 [00:13<00:00, 35.75it/s]\n",
      "Epoch: 34. Accuracy_train: 87.09. Accuracy_val: 84.52.\n",
      "Epoch: 34. Loss_train: 0.36812183210082144. Loss_val: 0.4398857653141022.\n",
      "\n",
      "100%|████████████████████████████████████████████████████████████████████████████████| 469/469 [00:11<00:00, 41.25it/s]\n",
      "Epoch: 35. Accuracy_train: 87.23. Accuracy_val: 84.66.\n",
      "Epoch: 35. Loss_train: 0.3669203789249412. Loss_val: 0.44099318981170654.\n",
      "\n",
      "100%|████████████████████████████████████████████████████████████████████████████████| 469/469 [00:12<00:00, 37.74it/s]\n",
      "Epoch: 36. Accuracy_train: 87.13. Accuracy_val: 84.81.\n",
      "Epoch: 36. Loss_train: 0.36661275083830613. Loss_val: 0.4406164288520813.\n",
      "\n",
      "100%|████████████████████████████████████████████████████████████████████████████████| 469/469 [00:12<00:00, 38.25it/s]\n",
      "Epoch: 37. Accuracy_train: 87.22. Accuracy_val: 84.71.\n",
      "Epoch: 37. Loss_train: 0.3652950040757783. Loss_val: 0.4341697692871094.\n",
      "\n",
      "100%|████████████████████████████████████████████████████████████████████████████████| 469/469 [00:11<00:00, 39.86it/s]\n",
      "Epoch: 38. Accuracy_train: 87.16. Accuracy_val: 84.4.\n",
      "Epoch: 38. Loss_train: 0.36542968448799557. Loss_val: 0.4423309564590454.\n",
      "\n",
      "100%|████████████████████████████████████████████████████████████████████████████████| 469/469 [00:11<00:00, 39.60it/s]\n",
      "Epoch: 39. Accuracy_train: 87.27. Accuracy_val: 84.66.\n",
      "Epoch: 39. Loss_train: 0.3640435309425346. Loss_val: 0.44580078125.\n",
      "\n",
      "100%|████████████████████████████████████████████████████████████████████████████████| 469/469 [00:12<00:00, 38.18it/s]\n",
      "Epoch: 40. Accuracy_train: 87.35. Accuracy_val: 84.65.\n",
      "Epoch: 40. Loss_train: 0.3646366660401765. Loss_val: 0.44152238965034485.\n",
      "\n",
      "100%|████████████████████████████████████████████████████████████████████████████████| 469/469 [00:11<00:00, 40.12it/s]\n",
      "Epoch: 41. Accuracy_train: 87.16. Accuracy_val: 84.57.\n",
      "Epoch: 41. Loss_train: 0.3642185927708266. Loss_val: 0.44667255878448486.\n",
      "\n",
      "100%|████████████████████████████████████████████████████████████████████████████████| 469/469 [00:12<00:00, 36.44it/s]\n",
      "Epoch: 42. Accuracy_train: 87.29. Accuracy_val: 84.59.\n",
      "Epoch: 42. Loss_train: 0.36373283585378613. Loss_val: 0.438848614692688.\n",
      "\n",
      "100%|████████████████████████████████████████████████████████████████████████████████| 469/469 [00:11<00:00, 40.64it/s]\n",
      "Epoch: 43. Accuracy_train: 87.35. Accuracy_val: 84.67.\n",
      "Epoch: 43. Loss_train: 0.36178685400658833. Loss_val: 0.4370364546775818.\n",
      "\n",
      "100%|████████████████████████████████████████████████████████████████████████████████| 469/469 [00:10<00:00, 43.10it/s]\n",
      "Epoch: 44. Accuracy_train: 87.33. Accuracy_val: 84.57.\n",
      "Epoch: 44. Loss_train: 0.36190271078904807. Loss_val: 0.4426186978816986.\n",
      "\n",
      "100%|████████████████████████████████████████████████████████████████████████████████| 469/469 [00:10<00:00, 43.06it/s]\n",
      "Epoch: 45. Accuracy_train: 87.33. Accuracy_val: 84.44.\n",
      "Epoch: 45. Loss_train: 0.3615992068926663. Loss_val: 0.4384128153324127.\n",
      "\n",
      "100%|████████████████████████████████████████████████████████████████████████████████| 469/469 [00:11<00:00, 40.81it/s]\n",
      "Epoch: 46. Accuracy_train: 87.33. Accuracy_val: 84.54.\n",
      "Epoch: 46. Loss_train: 0.3613754053042133. Loss_val: 0.45148468017578125.\n",
      "\n",
      "100%|████████████████████████████████████████████████████████████████████████████████| 469/469 [00:11<00:00, 42.59it/s]\n",
      "Epoch: 47. Accuracy_train: 87.42. Accuracy_val: 84.24.\n",
      "Epoch: 47. Loss_train: 0.3601583067987011. Loss_val: 0.4475524127483368.\n",
      "\n",
      "100%|████████████████████████████████████████████████████████████████████████████████| 469/469 [00:11<00:00, 39.39it/s]\n",
      "Epoch: 48. Accuracy_train: 87.27. Accuracy_val: 84.62.\n",
      "Epoch: 48. Loss_train: 0.36072896643361047. Loss_val: 0.4438507556915283.\n",
      "\n",
      "100%|████████████████████████████████████████████████████████████████████████████████| 469/469 [00:11<00:00, 41.34it/s]\n",
      "Epoch: 49. Accuracy_train: 87.38. Accuracy_val: 84.55.\n",
      "Epoch: 49. Loss_train: 0.35997059537784887. Loss_val: 0.44530820846557617.\n",
      "\n",
      "100%|████████████████████████████████████████████████████████████████████████████████| 469/469 [00:13<00:00, 35.15it/s]\n",
      "Epoch: 50. Accuracy_train: 87.43. Accuracy_val: 84.72.\n",
      "Epoch: 50. Loss_train: 0.359277448674509. Loss_val: 0.4407308101654053.\n",
      "\n",
      "100%|████████████████████████████████████████████████████████████████████████████████| 469/469 [00:12<00:00, 36.85it/s]\n",
      "Epoch: 51. Accuracy_train: 87.37. Accuracy_val: 84.52.\n",
      "Epoch: 51. Loss_train: 0.3585644654119447. Loss_val: 0.4444950819015503.\n",
      "\n",
      "100%|████████████████████████████████████████████████████████████████████████████████| 469/469 [00:12<00:00, 37.69it/s]\n",
      "Epoch: 52. Accuracy_train: 87.36. Accuracy_val: 84.68.\n",
      "Epoch: 52. Loss_train: 0.35973096310075664. Loss_val: 0.43700110912323.\n",
      "\n",
      "100%|████████████████████████████████████████████████████████████████████████████████| 469/469 [00:13<00:00, 33.70it/s]\n",
      "Epoch: 53. Accuracy_train: 87.4. Accuracy_val: 84.39.\n",
      "Epoch: 53. Loss_train: 0.3577232652508628. Loss_val: 0.4441387951374054.\n",
      "\n",
      "100%|████████████████████████████████████████████████████████████████████████████████| 469/469 [00:12<00:00, 36.14it/s]\n",
      "Epoch: 54. Accuracy_train: 87.47. Accuracy_val: 84.71.\n",
      "Epoch: 54. Loss_train: 0.3578880434033713. Loss_val: 0.44048988819122314.\n",
      "\n",
      "100%|████████████████████████████████████████████████████████████████████████████████| 469/469 [00:12<00:00, 38.39it/s]\n",
      "Epoch: 55. Accuracy_train: 87.49. Accuracy_val: 84.24.\n",
      "Epoch: 55. Loss_train: 0.35817131619336506. Loss_val: 0.4460051357746124.\n",
      "\n",
      "100%|████████████████████████████████████████████████████████████████████████████████| 469/469 [00:11<00:00, 40.16it/s]\n",
      "Epoch: 56. Accuracy_train: 87.48. Accuracy_val: 84.37.\n",
      "Epoch: 56. Loss_train: 0.35703720657556043. Loss_val: 0.44570907950401306.\n",
      "\n",
      "100%|████████████████████████████████████████████████████████████████████████████████| 469/469 [00:11<00:00, 39.24it/s]\n",
      "Epoch: 57. Accuracy_train: 87.49. Accuracy_val: 84.58.\n",
      "Epoch: 57. Loss_train: 0.35749816519619304. Loss_val: 0.4435018301010132.\n",
      "\n",
      "100%|████████████████████████████████████████████████████████████████████████████████| 469/469 [00:11<00:00, 39.53it/s]\n",
      "Epoch: 58. Accuracy_train: 87.46. Accuracy_val: 84.53.\n",
      "Epoch: 58. Loss_train: 0.35648508935467776. Loss_val: 0.4440276324748993.\n",
      "\n",
      "100%|████████████████████████████████████████████████████████████████████████████████| 469/469 [00:11<00:00, 39.48it/s]\n",
      "Epoch: 59. Accuracy_train: 87.44. Accuracy_val: 84.48.\n",
      "Epoch: 59. Loss_train: 0.3562366378459849. Loss_val: 0.4444223642349243.\n",
      "\n",
      "100%|████████████████████████████████████████████████████████████████████████████████| 469/469 [00:11<00:00, 42.39it/s]\n",
      "Epoch: 60. Accuracy_train: 87.34. Accuracy_val: 84.7.\n",
      "Epoch: 60. Loss_train: 0.3571275966063237. Loss_val: 0.4427531659603119.\n",
      "\n",
      "100%|████████████████████████████████████████████████████████████████████████████████| 469/469 [00:12<00:00, 38.93it/s]\n",
      "Epoch: 61. Accuracy_train: 87.61. Accuracy_val: 84.68.\n",
      "Epoch: 61. Loss_train: 0.35521568624830957. Loss_val: 0.43921706080436707.\n",
      "\n",
      "100%|████████████████████████████████████████████████████████████████████████████████| 469/469 [00:12<00:00, 36.49it/s]\n",
      "Epoch: 62. Accuracy_train: 87.61. Accuracy_val: 84.38.\n",
      "Epoch: 62. Loss_train: 0.35586345866163654. Loss_val: 0.4490479528903961.\n",
      "\n",
      "100%|████████████████████████████████████████████████████████████████████████████████| 469/469 [00:13<00:00, 35.56it/s]\n",
      "Epoch: 63. Accuracy_train: 87.49. Accuracy_val: 84.53.\n",
      "Epoch: 63. Loss_train: 0.3557833242200331. Loss_val: 0.4432680606842041.\n",
      "\n",
      "100%|████████████████████████████████████████████████████████████████████████████████| 469/469 [00:12<00:00, 37.53it/s]\n",
      "Epoch: 64. Accuracy_train: 87.59. Accuracy_val: 84.19.\n",
      "Epoch: 64. Loss_train: 0.3547456847197974. Loss_val: 0.4528006911277771.\n",
      "\n",
      "100%|████████████████████████████████████████████████████████████████████████████████| 469/469 [00:12<00:00, 37.85it/s]\n",
      "Epoch: 65. Accuracy_train: 87.48. Accuracy_val: 84.64.\n",
      "Epoch: 65. Loss_train: 0.35503896559352305. Loss_val: 0.44053253531455994.\n",
      "\n",
      "100%|████████████████████████████████████████████████████████████████████████████████| 469/469 [00:12<00:00, 36.67it/s]\n",
      "Epoch: 66. Accuracy_train: 87.53. Accuracy_val: 84.64.\n",
      "Epoch: 66. Loss_train: 0.3543984208152747. Loss_val: 0.4451170265674591.\n",
      "\n"
     ]
    },
    {
     "name": "stdout",
     "output_type": "stream",
     "text": [
      "100%|████████████████████████████████████████████████████████████████████████████████| 469/469 [00:13<00:00, 35.30it/s]\n",
      "Epoch: 67. Accuracy_train: 87.51. Accuracy_val: 84.6.\n",
      "Epoch: 67. Loss_train: 0.35469716580818966. Loss_val: 0.44171634316444397.\n",
      "\n",
      "100%|████████████████████████████████████████████████████████████████████████████████| 469/469 [00:13<00:00, 35.67it/s]\n",
      "Epoch: 68. Accuracy_train: 87.6. Accuracy_val: 84.55.\n",
      "Epoch: 68. Loss_train: 0.3550313792820933. Loss_val: 0.44088393449783325.\n",
      "\n",
      "100%|████████████████████████████████████████████████████████████████████████████████| 469/469 [00:12<00:00, 36.14it/s]\n",
      "Epoch: 69. Accuracy_train: 87.53. Accuracy_val: 83.53.\n",
      "Epoch: 69. Loss_train: 0.35427141437398346. Loss_val: 0.46157652139663696.\n",
      "\n",
      "100%|████████████████████████████████████████████████████████████████████████████████| 469/469 [00:13<00:00, 34.96it/s]\n",
      "Epoch: 70. Accuracy_train: 87.43. Accuracy_val: 84.45.\n",
      "Epoch: 70. Loss_train: 0.35434118173778184. Loss_val: 0.446271151304245.\n",
      "\n",
      "100%|████████████████████████████████████████████████████████████████████████████████| 469/469 [00:13<00:00, 35.35it/s]\n",
      "Epoch: 71. Accuracy_train: 87.56. Accuracy_val: 84.57.\n",
      "Epoch: 71. Loss_train: 0.35354781277906666. Loss_val: 0.4435734748840332.\n",
      "\n",
      "100%|████████████████████████████████████████████████████████████████████████████████| 469/469 [00:12<00:00, 37.65it/s]\n",
      "Epoch: 72. Accuracy_train: 87.59. Accuracy_val: 84.76.\n",
      "Epoch: 72. Loss_train: 0.35298783759445523. Loss_val: 0.44198715686798096.\n",
      "\n",
      "100%|████████████████████████████████████████████████████████████████████████████████| 469/469 [00:12<00:00, 36.79it/s]\n",
      "Epoch: 73. Accuracy_train: 87.61. Accuracy_val: 84.44.\n",
      "Epoch: 73. Loss_train: 0.35266308048005296. Loss_val: 0.45002755522727966.\n",
      "\n",
      "100%|████████████████████████████████████████████████████████████████████████████████| 469/469 [00:12<00:00, 37.60it/s]\n",
      "Epoch: 74. Accuracy_train: 87.6. Accuracy_val: 84.44.\n",
      "Epoch: 74. Loss_train: 0.3526011055974818. Loss_val: 0.4473055601119995.\n",
      "\n",
      "100%|████████████████████████████████████████████████████████████████████████████████| 469/469 [00:13<00:00, 35.45it/s]\n",
      "Epoch: 75. Accuracy_train: 87.65. Accuracy_val: 84.41.\n",
      "Epoch: 75. Loss_train: 0.3516929506747199. Loss_val: 0.45025119185447693.\n",
      "\n",
      "100%|████████████████████████████████████████████████████████████████████████████████| 469/469 [00:13<00:00, 35.25it/s]\n",
      "Epoch: 76. Accuracy_train: 87.59. Accuracy_val: 84.56.\n",
      "Epoch: 76. Loss_train: 0.35143318943885854. Loss_val: 0.44377511739730835.\n",
      "\n",
      "100%|████████████████████████████████████████████████████████████████████████████████| 469/469 [00:13<00:00, 36.02it/s]\n",
      "Epoch: 77. Accuracy_train: 87.66. Accuracy_val: 84.49.\n",
      "Epoch: 77. Loss_train: 0.35140671064731666. Loss_val: 0.4411771297454834.\n",
      "\n",
      "100%|████████████████████████████████████████████████████████████████████████████████| 469/469 [00:12<00:00, 36.45it/s]\n",
      "Epoch: 78. Accuracy_train: 87.64. Accuracy_val: 84.5.\n",
      "Epoch: 78. Loss_train: 0.352096894434266. Loss_val: 0.44861549139022827.\n",
      "\n",
      "100%|████████████████████████████████████████████████████████████████████████████████| 469/469 [00:13<00:00, 35.93it/s]\n",
      "Epoch: 79. Accuracy_train: 87.56. Accuracy_val: 84.22.\n",
      "Epoch: 79. Loss_train: 0.3519562393553984. Loss_val: 0.45074424147605896.\n",
      "\n",
      "100%|████████████████████████████████████████████████████████████████████████████████| 469/469 [00:12<00:00, 37.11it/s]\n",
      "Epoch: 80. Accuracy_train: 87.53. Accuracy_val: 84.6.\n",
      "Epoch: 80. Loss_train: 0.3512697491818654. Loss_val: 0.4468962848186493.\n",
      "\n",
      "100%|████████████████████████████████████████████████████████████████████████████████| 469/469 [00:13<00:00, 34.96it/s]\n",
      "Epoch: 81. Accuracy_train: 87.61. Accuracy_val: 84.42.\n",
      "Epoch: 81. Loss_train: 0.3518610678946794. Loss_val: 0.44844862818717957.\n",
      "\n",
      "100%|████████████████████████████████████████████████████████████████████████████████| 469/469 [00:12<00:00, 36.59it/s]\n",
      "Epoch: 82. Accuracy_train: 87.71. Accuracy_val: 84.6.\n",
      "Epoch: 82. Loss_train: 0.3508765293019159. Loss_val: 0.44079720973968506.\n",
      "\n",
      "100%|████████████████████████████████████████████████████████████████████████████████| 469/469 [00:12<00:00, 36.85it/s]\n",
      "Epoch: 83. Accuracy_train: 87.68. Accuracy_val: 84.35.\n",
      "Epoch: 83. Loss_train: 0.35119918150815377. Loss_val: 0.4467035233974457.\n",
      "\n",
      "100%|████████████████████████████████████████████████████████████████████████████████| 469/469 [00:11<00:00, 42.08it/s]\n",
      "Epoch: 84. Accuracy_train: 87.57. Accuracy_val: 84.21.\n",
      "Epoch: 84. Loss_train: 0.35068853930242533. Loss_val: 0.4509373903274536.\n",
      "\n",
      "100%|████████████████████████████████████████████████████████████████████████████████| 469/469 [00:12<00:00, 37.75it/s]\n",
      "Epoch: 85. Accuracy_train: 87.63. Accuracy_val: 84.49.\n",
      "Epoch: 85. Loss_train: 0.35017739007594995. Loss_val: 0.448363333940506.\n",
      "\n",
      "100%|████████████████████████████████████████████████████████████████████████████████| 469/469 [00:11<00:00, 40.21it/s]\n",
      "Epoch: 86. Accuracy_train: 87.8. Accuracy_val: 84.3.\n",
      "Epoch: 86. Loss_train: 0.3501054499067986. Loss_val: 0.44483622908592224.\n",
      "\n",
      "100%|████████████████████████████████████████████████████████████████████████████████| 469/469 [00:11<00:00, 40.48it/s]\n",
      "Epoch: 87. Accuracy_train: 87.7. Accuracy_val: 84.31.\n",
      "Epoch: 87. Loss_train: 0.35023372024615435. Loss_val: 0.44642701745033264.\n",
      "\n",
      "100%|████████████████████████████████████████████████████████████████████████████████| 469/469 [00:12<00:00, 36.88it/s]\n",
      "Epoch: 88. Accuracy_train: 87.66. Accuracy_val: 84.57.\n",
      "Epoch: 88. Loss_train: 0.34991465613786094. Loss_val: 0.4422270357608795.\n",
      "\n",
      "100%|████████████████████████████████████████████████████████████████████████████████| 469/469 [00:12<00:00, 38.36it/s]\n",
      "Epoch: 89. Accuracy_train: 87.58. Accuracy_val: 84.54.\n",
      "Epoch: 89. Loss_train: 0.3505894920147304. Loss_val: 0.4448235034942627.\n",
      "\n",
      "100%|████████████████████████████████████████████████████████████████████████████████| 469/469 [00:11<00:00, 39.48it/s]\n",
      "Epoch: 90. Accuracy_train: 87.68. Accuracy_val: 84.36.\n",
      "Epoch: 90. Loss_train: 0.3489350122747137. Loss_val: 0.44311264157295227.\n",
      "\n",
      "100%|████████████████████████████████████████████████████████████████████████████████| 469/469 [00:11<00:00, 39.75it/s]\n",
      "Epoch: 91. Accuracy_train: 87.7. Accuracy_val: 84.59.\n",
      "Epoch: 91. Loss_train: 0.3496347995582166. Loss_val: 0.4452349543571472.\n",
      "\n",
      "100%|████████████████████████████████████████████████████████████████████████████████| 469/469 [00:10<00:00, 44.11it/s]\n",
      "Epoch: 92. Accuracy_train: 87.73. Accuracy_val: 84.53.\n",
      "Epoch: 92. Loss_train: 0.3479839239293324. Loss_val: 0.4499741196632385.\n",
      "\n",
      "100%|████████████████████████████████████████████████████████████████████████████████| 469/469 [00:12<00:00, 37.63it/s]\n",
      "Epoch: 93. Accuracy_train: 87.68. Accuracy_val: 84.14.\n",
      "Epoch: 93. Loss_train: 0.3485729756639965. Loss_val: 0.4552076756954193.\n",
      "\n",
      "100%|████████████████████████████████████████████████████████████████████████████████| 469/469 [00:11<00:00, 39.16it/s]\n",
      "Epoch: 94. Accuracy_train: 87.76. Accuracy_val: 84.51.\n",
      "Epoch: 94. Loss_train: 0.3484708187041252. Loss_val: 0.4478452801704407.\n",
      "\n",
      "100%|████████████████████████████████████████████████████████████████████████████████| 469/469 [00:10<00:00, 43.03it/s]\n",
      "Epoch: 95. Accuracy_train: 87.57. Accuracy_val: 84.2.\n",
      "Epoch: 95. Loss_train: 0.34877323313181335. Loss_val: 0.4491092264652252.\n",
      "\n",
      "100%|████████████████████████████████████████████████████████████████████████████████| 469/469 [00:10<00:00, 43.34it/s]\n",
      "Epoch: 96. Accuracy_train: 87.72. Accuracy_val: 84.31.\n",
      "Epoch: 96. Loss_train: 0.34883125158134043. Loss_val: 0.45901161432266235.\n",
      "\n",
      "100%|████████████████████████████████████████████████████████████████████████████████| 469/469 [00:12<00:00, 37.39it/s]\n",
      "Epoch: 97. Accuracy_train: 87.77. Accuracy_val: 84.32.\n",
      "Epoch: 97. Loss_train: 0.3481023507967178. Loss_val: 0.44915685057640076.\n",
      "\n",
      "100%|████████████████████████████████████████████████████████████████████████████████| 469/469 [00:12<00:00, 36.15it/s]\n",
      "Epoch: 98. Accuracy_train: 87.71. Accuracy_val: 84.42.\n",
      "Epoch: 98. Loss_train: 0.34857281801034645. Loss_val: 0.4487791359424591.\n",
      "\n",
      "100%|████████████████████████████████████████████████████████████████████████████████| 469/469 [00:12<00:00, 37.25it/s]\n",
      "Epoch: 99. Accuracy_train: 87.75. Accuracy_val: 84.13.\n",
      "Epoch: 99. Loss_train: 0.3484899540826964. Loss_val: 0.45646339654922485.\n",
      "\n"
     ]
    },
    {
     "name": "stdout",
     "output_type": "stream",
     "text": [
      "100%|████████████████████████████████████████████████████████████████████████████████| 469/469 [00:12<00:00, 38.86it/s]\n",
      "Epoch: 100. Accuracy_train: 87.74. Accuracy_val: 84.48.\n",
      "Epoch: 100. Loss_train: 0.34773592361763345. Loss_val: 0.44908857345581055.\n",
      "\n",
      "100%|████████████████████████████████████████████████████████████████████████████████| 469/469 [00:11<00:00, 41.14it/s]\n",
      "Epoch: 101. Accuracy_train: 87.76. Accuracy_val: 84.47.\n",
      "Epoch: 101. Loss_train: 0.3473245899623899. Loss_val: 0.45421141386032104.\n",
      "\n",
      "100%|████████████████████████████████████████████████████████████████████████████████| 469/469 [00:12<00:00, 38.28it/s]\n",
      "Epoch: 102. Accuracy_train: 87.79. Accuracy_val: 84.41.\n",
      "Epoch: 102. Loss_train: 0.34757591784000397. Loss_val: 0.45332586765289307.\n",
      "\n",
      "100%|████████████████████████████████████████████████████████████████████████████████| 469/469 [00:11<00:00, 41.88it/s]\n",
      "Epoch: 103. Accuracy_train: 87.75. Accuracy_val: 84.52.\n",
      "Epoch: 103. Loss_train: 0.34661759480611604. Loss_val: 0.4461110830307007.\n",
      "\n",
      "100%|████████████████████████████████████████████████████████████████████████████████| 469/469 [00:11<00:00, 39.93it/s]\n",
      "Epoch: 104. Accuracy_train: 87.69. Accuracy_val: 84.12.\n",
      "Epoch: 104. Loss_train: 0.346855702780203. Loss_val: 0.45832133293151855.\n",
      "\n",
      "100%|████████████████████████████████████████████████████████████████████████████████| 469/469 [00:12<00:00, 36.68it/s]\n",
      "Epoch: 105. Accuracy_train: 87.75. Accuracy_val: 84.37.\n",
      "Epoch: 105. Loss_train: 0.3472890585724479. Loss_val: 0.45026761293411255.\n",
      "\n",
      "100%|████████████████████████████████████████████████████████████████████████████████| 469/469 [00:11<00:00, 39.57it/s]\n",
      "Epoch: 106. Accuracy_train: 87.77. Accuracy_val: 84.54.\n",
      "Epoch: 106. Loss_train: 0.3470903914620373. Loss_val: 0.4464639723300934.\n",
      "\n",
      "100%|████████████████████████████████████████████████████████████████████████████████| 469/469 [00:12<00:00, 36.85it/s]\n",
      "Epoch: 107. Accuracy_train: 87.74. Accuracy_val: 84.6.\n",
      "Epoch: 107. Loss_train: 0.34740383862686564. Loss_val: 0.44929876923561096.\n",
      "\n",
      "100%|████████████████████████████████████████████████████████████████████████████████| 469/469 [00:11<00:00, 41.81it/s]\n",
      "Epoch: 108. Accuracy_train: 87.84. Accuracy_val: 84.47.\n",
      "Epoch: 108. Loss_train: 0.34585782853779257. Loss_val: 0.4492889940738678.\n",
      "\n",
      "100%|████████████████████████████████████████████████████████████████████████████████| 469/469 [00:10<00:00, 43.74it/s]\n",
      "Epoch: 109. Accuracy_train: 87.75. Accuracy_val: 84.34.\n",
      "Epoch: 109. Loss_train: 0.3461775729841769. Loss_val: 0.45947691798210144.\n",
      "\n",
      "100%|████████████████████████████████████████████████████████████████████████████████| 469/469 [00:12<00:00, 37.94it/s]\n",
      "Epoch: 110. Accuracy_train: 87.81. Accuracy_val: 84.0.\n",
      "Epoch: 110. Loss_train: 0.34604761817816226. Loss_val: 0.45942938327789307.\n",
      "\n",
      "100%|████████████████████████████████████████████████████████████████████████████████| 469/469 [00:12<00:00, 37.11it/s]\n",
      "Epoch: 111. Accuracy_train: 87.77. Accuracy_val: 84.58.\n",
      "Epoch: 111. Loss_train: 0.3463746183780211. Loss_val: 0.4495391249656677.\n",
      "\n",
      "100%|████████████████████████████████████████████████████████████████████████████████| 469/469 [00:12<00:00, 37.14it/s]\n",
      "Epoch: 112. Accuracy_train: 87.8. Accuracy_val: 84.47.\n",
      "Epoch: 112. Loss_train: 0.34543834966637177. Loss_val: 0.45260462164878845.\n",
      "\n",
      "100%|████████████████████████████████████████████████████████████████████████████████| 469/469 [00:11<00:00, 41.43it/s]\n",
      "Epoch: 113. Accuracy_train: 87.82. Accuracy_val: 84.39.\n",
      "Epoch: 113. Loss_train: 0.34624692851673566. Loss_val: 0.4541773796081543.\n",
      "\n",
      "100%|████████████████████████████████████████████████████████████████████████████████| 469/469 [00:12<00:00, 37.64it/s]\n",
      "Epoch: 114. Accuracy_train: 87.84. Accuracy_val: 84.44.\n",
      "Epoch: 114. Loss_train: 0.34514032415489654. Loss_val: 0.44863206148147583.\n",
      "\n",
      "100%|████████████████████████████████████████████████████████████████████████████████| 469/469 [00:11<00:00, 39.75it/s]\n",
      "Epoch: 115. Accuracy_train: 87.8. Accuracy_val: 84.46.\n",
      "Epoch: 115. Loss_train: 0.34531776756365923. Loss_val: 0.45043230056762695.\n",
      "\n",
      "100%|████████████████████████████████████████████████████████████████████████████████| 469/469 [00:11<00:00, 41.14it/s]\n",
      "Epoch: 116. Accuracy_train: 87.82. Accuracy_val: 84.43.\n",
      "Epoch: 116. Loss_train: 0.34612063933283027. Loss_val: 0.44619742035865784.\n",
      "\n",
      "100%|████████████████████████████████████████████████████████████████████████████████| 469/469 [00:11<00:00, 40.81it/s]\n",
      "Epoch: 117. Accuracy_train: 87.83. Accuracy_val: 84.27.\n",
      "Epoch: 117. Loss_train: 0.3461246217873051. Loss_val: 0.4486357867717743.\n",
      "\n",
      "100%|████████████████████████████████████████████████████████████████████████████████| 469/469 [00:11<00:00, 41.22it/s]\n",
      "Epoch: 118. Accuracy_train: 87.86. Accuracy_val: 84.49.\n",
      "Epoch: 118. Loss_train: 0.34459354120022706. Loss_val: 0.44899189472198486.\n",
      "\n",
      "100%|████████████████████████████████████████████████████████████████████████████████| 469/469 [00:11<00:00, 41.43it/s]\n",
      "Epoch: 119. Accuracy_train: 87.85. Accuracy_val: 84.48.\n",
      "Epoch: 119. Loss_train: 0.344565851665509. Loss_val: 0.4534962475299835.\n",
      "\n",
      "100%|████████████████████████████████████████████████████████████████████████████████| 469/469 [00:12<00:00, 38.73it/s]\n",
      "Epoch: 120. Accuracy_train: 87.91. Accuracy_val: 84.32.\n",
      "Epoch: 120. Loss_train: 0.34417458161362197. Loss_val: 0.453984797000885.\n",
      "\n",
      "100%|████████████████████████████████████████████████████████████████████████████████| 469/469 [00:11<00:00, 41.25it/s]\n",
      "Epoch: 121. Accuracy_train: 87.8. Accuracy_val: 84.39.\n",
      "Epoch: 121. Loss_train: 0.3446901797739936. Loss_val: 0.4604340195655823.\n",
      "\n",
      "100%|████████████████████████████████████████████████████████████████████████████████| 469/469 [00:11<00:00, 39.11it/s]\n",
      "Epoch: 122. Accuracy_train: 87.82. Accuracy_val: 84.26.\n",
      "Epoch: 122. Loss_train: 0.3443398887096946. Loss_val: 0.4522554278373718.\n",
      "\n",
      "100%|████████████████████████████████████████████████████████████████████████████████| 469/469 [00:13<00:00, 35.28it/s]\n",
      "Epoch: 123. Accuracy_train: 87.75. Accuracy_val: 84.41.\n",
      "Epoch: 123. Loss_train: 0.34565410948892644. Loss_val: 0.4534217119216919.\n",
      "\n",
      "100%|████████████████████████████████████████████████████████████████████████████████| 469/469 [00:11<00:00, 41.74it/s]\n",
      "Epoch: 124. Accuracy_train: 87.69. Accuracy_val: 84.1.\n",
      "Epoch: 124. Loss_train: 0.34536826562906886. Loss_val: 0.46517959237098694.\n",
      "\n",
      "100%|████████████████████████████████████████████████████████████████████████████████| 469/469 [00:11<00:00, 40.97it/s]\n",
      "Epoch: 125. Accuracy_train: 87.82. Accuracy_val: 84.36.\n",
      "Epoch: 125. Loss_train: 0.3450976505970904. Loss_val: 0.45142942667007446.\n",
      "\n",
      "100%|████████████████████████████████████████████████████████████████████████████████| 469/469 [00:12<00:00, 36.86it/s]\n",
      "Epoch: 126. Accuracy_train: 87.86. Accuracy_val: 84.28.\n",
      "Epoch: 126. Loss_train: 0.34414055886299116. Loss_val: 0.4513319432735443.\n",
      "\n",
      "100%|████████████████████████████████████████████████████████████████████████████████| 469/469 [00:12<00:00, 37.32it/s]\n",
      "Epoch: 127. Accuracy_train: 87.81. Accuracy_val: 84.09.\n",
      "Epoch: 127. Loss_train: 0.34427618665862947. Loss_val: 0.4524376392364502.\n",
      "\n",
      "100%|████████████████████████████████████████████████████████████████████████████████| 469/469 [00:11<00:00, 41.47it/s]\n",
      "Epoch: 128. Accuracy_train: 87.8. Accuracy_val: 84.56.\n",
      "Epoch: 128. Loss_train: 0.34391340657846253. Loss_val: 0.449305921792984.\n",
      "\n",
      "100%|████████████████████████████████████████████████████████████████████████████████| 469/469 [00:12<00:00, 36.88it/s]\n",
      "Epoch: 129. Accuracy_train: 87.93. Accuracy_val: 84.11.\n",
      "Epoch: 129. Loss_train: 0.3431708965220177. Loss_val: 0.4567164182662964.\n",
      "\n",
      "100%|████████████████████████████████████████████████████████████████████████████████| 469/469 [00:12<00:00, 38.67it/s]\n",
      "Epoch: 130. Accuracy_train: 87.85. Accuracy_val: 84.37.\n",
      "Epoch: 130. Loss_train: 0.3440942410022211. Loss_val: 0.45108646154403687.\n",
      "\n",
      "100%|████████████████████████████████████████████████████████████████████████████████| 469/469 [00:12<00:00, 38.39it/s]\n",
      "Epoch: 131. Accuracy_train: 87.93. Accuracy_val: 83.61.\n",
      "Epoch: 131. Loss_train: 0.3432167169254726. Loss_val: 0.47633519768714905.\n",
      "\n",
      "100%|████████████████████████████████████████████████████████████████████████████████| 469/469 [00:12<00:00, 37.31it/s]\n",
      "Epoch: 132. Accuracy_train: 87.83. Accuracy_val: 84.37.\n",
      "Epoch: 132. Loss_train: 0.3433823400278335. Loss_val: 0.4523804485797882.\n",
      "\n"
     ]
    },
    {
     "name": "stdout",
     "output_type": "stream",
     "text": [
      "100%|████████████████████████████████████████████████████████████████████████████████| 469/469 [00:11<00:00, 40.46it/s]\n",
      "Epoch: 133. Accuracy_train: 87.83. Accuracy_val: 84.34.\n",
      "Epoch: 133. Loss_train: 0.3432405987845809. Loss_val: 0.4495542049407959.\n",
      "\n",
      "100%|████████████████████████████████████████████████████████████████████████████████| 469/469 [00:10<00:00, 44.14it/s]\n",
      "Epoch: 134. Accuracy_train: 87.87. Accuracy_val: 84.32.\n",
      "Epoch: 134. Loss_train: 0.34295414521623013. Loss_val: 0.4572218954563141.\n",
      "\n",
      "100%|████████████████████████████████████████████████████████████████████████████████| 469/469 [00:11<00:00, 41.02it/s]\n",
      "Epoch: 135. Accuracy_train: 87.82. Accuracy_val: 84.43.\n",
      "Epoch: 135. Loss_train: 0.3435852255966109. Loss_val: 0.45884883403778076.\n",
      "\n",
      "100%|████████████████████████████████████████████████████████████████████████████████| 469/469 [00:11<00:00, 41.75it/s]\n",
      "Epoch: 136. Accuracy_train: 87.91. Accuracy_val: 84.4.\n",
      "Epoch: 136. Loss_train: 0.3427763082770142. Loss_val: 0.4567181169986725.\n",
      "\n",
      "100%|████████████████████████████████████████████████████████████████████████████████| 469/469 [00:11<00:00, 41.63it/s]\n",
      "Epoch: 137. Accuracy_train: 87.83. Accuracy_val: 84.44.\n",
      "Epoch: 137. Loss_train: 0.34361194665116795. Loss_val: 0.4504101574420929.\n",
      "\n",
      "100%|████████████████████████████████████████████████████████████████████████████████| 469/469 [00:11<00:00, 40.84it/s]\n",
      "Epoch: 138. Accuracy_train: 87.85. Accuracy_val: 84.22.\n",
      "Epoch: 138. Loss_train: 0.34321575133658166. Loss_val: 0.4599294066429138.\n",
      "\n",
      "100%|████████████████████████████████████████████████████████████████████████████████| 469/469 [00:11<00:00, 41.71it/s]\n",
      "Epoch: 139. Accuracy_train: 87.97. Accuracy_val: 84.16.\n",
      "Epoch: 139. Loss_train: 0.34350338555983645. Loss_val: 0.4535447061061859.\n",
      "\n",
      "100%|████████████████████████████████████████████████████████████████████████████████| 469/469 [00:12<00:00, 37.44it/s]\n",
      "Epoch: 140. Accuracy_train: 87.94. Accuracy_val: 84.29.\n",
      "Epoch: 140. Loss_train: 0.342327597298856. Loss_val: 0.4556531310081482.\n",
      "\n",
      "100%|████████████████████████████████████████████████████████████████████████████████| 469/469 [00:11<00:00, 41.24it/s]\n",
      "Epoch: 141. Accuracy_train: 87.95. Accuracy_val: 84.06.\n",
      "Epoch: 141. Loss_train: 0.34291418278013974. Loss_val: 0.4582575559616089.\n",
      "\n",
      "100%|████████████████████████████████████████████████████████████████████████████████| 469/469 [00:11<00:00, 40.37it/s]\n",
      "Epoch: 142. Accuracy_train: 87.85. Accuracy_val: 84.37.\n",
      "Epoch: 142. Loss_train: 0.3432494943647751. Loss_val: 0.45339640974998474.\n",
      "\n",
      "100%|████████████████████████████████████████████████████████████████████████████████| 469/469 [00:12<00:00, 37.93it/s]\n",
      "Epoch: 143. Accuracy_train: 87.83. Accuracy_val: 84.28.\n",
      "Epoch: 143. Loss_train: 0.3419545138759145. Loss_val: 0.4607331454753876.\n",
      "\n",
      "100%|████████████████████████████████████████████████████████████████████████████████| 469/469 [00:11<00:00, 39.09it/s]\n",
      "Epoch: 144. Accuracy_train: 87.95. Accuracy_val: 84.34.\n",
      "Epoch: 144. Loss_train: 0.34228058022730895. Loss_val: 0.45481839776039124.\n",
      "\n",
      "100%|████████████████████████████████████████████████████████████████████████████████| 469/469 [00:11<00:00, 42.31it/s]\n",
      "Epoch: 145. Accuracy_train: 87.87. Accuracy_val: 84.07.\n",
      "Epoch: 145. Loss_train: 0.3429757382379158. Loss_val: 0.457692414522171.\n",
      "\n",
      "100%|████████████████████████████████████████████████████████████████████████████████| 469/469 [00:11<00:00, 42.08it/s]\n",
      "Epoch: 146. Accuracy_train: 87.88. Accuracy_val: 84.25.\n",
      "Epoch: 146. Loss_train: 0.3423382875316941. Loss_val: 0.46189749240875244.\n",
      "\n",
      "100%|████████████████████████████████████████████████████████████████████████████████| 469/469 [00:11<00:00, 39.21it/s]\n",
      "Epoch: 147. Accuracy_train: 87.89. Accuracy_val: 84.21.\n",
      "Epoch: 147. Loss_train: 0.3415182858769065. Loss_val: 0.4585916996002197.\n",
      "\n",
      "100%|████████████████████████████████████████████████████████████████████████████████| 469/469 [00:11<00:00, 39.21it/s]\n",
      "Epoch: 148. Accuracy_train: 87.82. Accuracy_val: 84.34.\n",
      "Epoch: 148. Loss_train: 0.34214748998186484. Loss_val: 0.4534178078174591.\n",
      "\n",
      "100%|████████████████████████████████████████████████████████████████████████████████| 469/469 [00:11<00:00, 41.45it/s]\n",
      "Epoch: 149. Accuracy_train: 87.91. Accuracy_val: 83.88.\n",
      "Epoch: 149. Loss_train: 0.3423859266393474. Loss_val: 0.4618389904499054.\n",
      "\n",
      "100%|████████████████████████████████████████████████████████████████████████████████| 469/469 [00:11<00:00, 40.88it/s]\n",
      "Epoch: 150. Accuracy_train: 87.89. Accuracy_val: 84.31.\n",
      "Epoch: 150. Loss_train: 0.34229624779748. Loss_val: 0.4555099606513977.\n",
      "\n"
     ]
    }
   ],
   "source": [
    "optimizer_torch = torch.optim.Adam([weights_torch, intercept_torch], lr=0.001, eps=1e-13, betas = (0.9, 0.999))\n",
    "train_acc_2, test_acc_2, train_loss_2, test_loss_2 = fit(optimizer_torch, weights_torch, intercept_torch, num_epoch=150)"
   ]
  },
  {
   "cell_type": "code",
   "execution_count": 64,
   "metadata": {},
   "outputs": [
    {
     "data": {
      "image/png": "[encoded data removed]",
      "text/plain": [
       "<Figure size 576x432 with 1 Axes>"
      ]
     },
     "metadata": {
      "needs_background": "light"
     },
     "output_type": "display_data"
    },
    {
     "data": {
      "image/png": "[encoded data removed]",
      "text/plain": [
       "<Figure size 576x432 with 1 Axes>"
      ]
     },
     "metadata": {
      "needs_background": "light"
     },
     "output_type": "display_data"
    }
   ],
   "source": [
    "visualisation(150, train_acc_2, test_acc_2, train_loss_2, test_loss_2)"
   ]
  },
  {
   "cell_type": "markdown",
   "metadata": {},
   "source": [
    "## Сравнение оптимизаторов"
   ]
  },
  {
   "cell_type": "code",
   "execution_count": 70,
   "metadata": {},
   "outputs": [
    {
     "data": {
      "image/png": "[encoded data removed]",
      "text/plain": [
       "<Figure size 432x288 with 1 Axes>"
      ]
     },
     "metadata": {
      "needs_background": "light"
     },
     "output_type": "display_data"
    },
    {
     "data": {
      "image/png": "[encoded data removed]",
      "text/plain": [
       "<Figure size 432x288 with 1 Axes>"
      ]
     },
     "metadata": {
      "needs_background": "light"
     },
     "output_type": "display_data"
    },
    {
     "data": {
      "image/png": "[encoded data removed]",
      "text/plain": [
       "<Figure size 432x288 with 1 Axes>"
      ]
     },
     "metadata": {
      "needs_background": "light"
     },
     "output_type": "display_data"
    },
    {
     "data": {
      "image/png": "[encoded data removed]",
      "text/plain": [
       "<Figure size 432x288 with 1 Axes>"
      ]
     },
     "metadata": {
      "needs_background": "light"
     },
     "output_type": "display_data"
    }
   ],
   "source": [
    "optim_visualisation(train_acc_1, train_acc_2, 'train accuracy')\n",
    "optim_visualisation(test_acc_1, test_acc_2, 'test accuracy')\n",
    "optim_visualisation(train_loss_1, train_loss_2, 'train loss')\n",
    "optim_visualisation(test_loss_1, test_loss_2, 'test loss')"
   ]
  },
  {
   "cell_type": "markdown",
   "metadata": {},
   "source": [
    "#### Вопросы к секции: \n",
    "\n",
    "* Своими словами и без математики объясните благодаря чему Adam дает несмещенную оценку на квадрат градиента\n",
    "* Когда модель начала переобучаться? Как вы это поняли? Сделайте визуализацию и докажите свою точку зрения."
   ]
  },
  {
   "cell_type": "markdown",
   "metadata": {},
   "source": [
    "### 1 вопрос"
   ]
  },
  {
   "cell_type": "markdown",
   "metadata": {},
   "source": [
    "Adam дает несмещенную оценку потому, что в формуле m и v с крышкой используется делитель, который при стремлении t к бесконечности стремится к 1."
   ]
  },
  {
   "cell_type": "markdown",
   "metadata": {},
   "source": [
    "### 2 вопрос"
   ]
  },
  {
   "cell_type": "markdown",
   "metadata": {},
   "source": [
    "Модель начала переобучаться где-то на 50 эпохе, что хорошо видно из представленного выше графика зависимости loss'а на обучающей и тестовой выборке от номера эпохи. Это произошло из-за слишком сильной подгонки весов модели под значения обучающей выборки."
   ]
  },
  {
   "cell_type": "markdown",
   "metadata": {},
   "source": [
    "### Моя первая нейросеть (4 балла)"
   ]
  },
  {
   "cell_type": "markdown",
   "metadata": {},
   "source": [
    "В данной секции вам нужно сделать следующие вещи: \n",
    "\n",
    "* Реализовать три разных архитектуры нейросетей. Эти архитектуры должны принципиально отличаться друг от друга. Разрешается одной из архитекур брать полностью полносвязную модель. Остальные две должны быть сверточными и сильно отличаться друг от друга. К примеру, одна из таких архитектур может быть VGG подобная сеть, а другая ResNet подобная архитектура. \n",
    "\n",
    "* Написать цикл для обучения которым можно обучать все три модели без изменений кода\n",
    "\n",
    "* Попробовать каждую модель с двумя оптимизаторами: RMSprop и SGD with momentum\n",
    "\n",
    "* Визуализировать результаты перфоманса каждой модели (две метрики минимум для каждого сетапа, например, лосс и долю правильных ответов). В данном пункте мы ждем от вас визуализацию зависимости метрики от номера итерации обучения.\n",
    "\n",
    "* Сделать выводы какие были модели были лучше и как вы думаете почему?"
   ]
  },
  {
   "cell_type": "code",
   "execution_count": 122,
   "metadata": {},
   "outputs": [],
   "source": [
    "epochs = 10\n",
    "def train_model(model_def, dataloader, optimizer_def):\n",
    "    epoch = 0\n",
    "    total_accuracy = []\n",
    "    total_loss = []\n",
    "    model = model_def\n",
    "    optimizer = optimizer_def\n",
    "    train_dataloader = dataloader[0]\n",
    "    val_dataloader = dataloader[1]\n",
    "    \n",
    "    for epoch in range(1, epochs + 1):\n",
    "        for x_train, y_train in tqdm(train_dataloader):\n",
    "            y_pred = model(x_train)\n",
    "            loss = nn.CrossEntropyLoss()(y_pred, y_train)\n",
    "            loss.backward()\n",
    "            optimizer.step()\n",
    "            optimizer.zero_grad()\n",
    "    \n",
    "        if epoch % 1 == 0:\n",
    "            mean_val_loss = []\n",
    "            val_accuracy = []\n",
    "            with torch.no_grad():\n",
    "                for x_val, y_val in tqdm(val_dataloader):\n",
    "                    y_pred = model(x_val)\n",
    "                    loss = nn.CrossEntropyLoss()(y_pred, y_val)\n",
    "                    mean_val_loss.append(loss.numpy())\n",
    "                    val_accuracy.extend(((torch.argmax(y_pred, dim=-1) == y_val) * 100).numpy().tolist())\n",
    "            print('Epoch: {epoch}, loss: {loss}, accuracy: {accuracy}'.format(\n",
    "                epoch=epoch, loss=np.mean(mean_val_loss), accuracy=np.mean(val_accuracy)))\n",
    "    \n",
    "            total_accuracy.append(np.mean(val_accuracy))\n",
    "            total_loss.append(np.mean(mean_val_loss))\n",
    "            \n",
    "    return total_accuracy, total_loss         "
   ]
  },
  {
   "cell_type": "code",
   "execution_count": 123,
   "metadata": {},
   "outputs": [],
   "source": [
    "def model_visualisation(metrics, mode):\n",
    "\n",
    "    if mode == 'optimizers':\n",
    "        plt.figure(figsize=(8,6))\n",
    "        plt.plot(metrics[0], label='SGD', c='blue')\n",
    "        plt.plot(metrics[2], label='RMSprop', c='red')\n",
    "        plt.xlabel('Epoch')\n",
    "        plt.ylabel('Accuracy')\n",
    "        plt.title('Accuracy')\n",
    "        plt.legend()\n",
    "        plt.show()\n",
    "\n",
    "        plt.figure(figsize=(8,6))\n",
    "        plt.plot(metrics[1], label='SGD', c='blue')\n",
    "        plt.plot(metrics[3], label='RMSprop', c='red')\n",
    "        plt.xlabel('Epoch')\n",
    "        plt.ylabel('Loss')\n",
    "        plt.title('Loss')\n",
    "        plt.legend()\n",
    "        plt.show()\n",
    "\n",
    "    elif mode == 'models':\n",
    "        if len(metrics) == 2:\n",
    "            plt.figure(figsize=(8,6))\n",
    "            plt.plot(metrics[0], label='Model', c='blue')\n",
    "            plt.xlabel('Epoch')\n",
    "            plt.ylabel('Accuracy')\n",
    "            plt.title('Accuracy')\n",
    "            plt.legend()\n",
    "            plt.show()\n",
    "\n",
    "            plt.figure(figsize=(8,6))\n",
    "            plt.plot(metrics[1], label='Model', c='blue')\n",
    "            plt.xlabel('Epoch')\n",
    "            plt.ylabel('Loss')\n",
    "            plt.title('Loss')\n",
    "            plt.legend()\n",
    "            plt.show()\n",
    "        else:\n",
    "            plt.figure(figsize=(8,6))\n",
    "            plt.plot(metrics[0], label='Model 1', c='blue')\n",
    "            plt.plot(metrics[2], label='Model 2', c='red')\n",
    "            plt.plot(metrics[4], label='Model 3', c='green')\n",
    "            plt.xlabel('Epoch')\n",
    "            plt.ylabel('Accuracy')\n",
    "            plt.title('Accuracy')\n",
    "            plt.legend()\n",
    "            plt.show()\n",
    "\n",
    "            plt.figure(figsize=(8,6))\n",
    "            plt.plot(metrics[1], label='Model 1', c='blue')\n",
    "            plt.plot(metrics[3], label='Model 2', c='red')\n",
    "            plt.plot(metrics[5], label='Model 3', c='green')\n",
    "            plt.xlabel('Epoch')\n",
    "            plt.ylabel('Loss')\n",
    "            plt.title('Loss')\n",
    "            plt.legend()\n",
    "            plt.show()"
   ]
  },
  {
   "cell_type": "markdown",
   "metadata": {},
   "source": [
    "## Model 1"
   ]
  },
  {
   "cell_type": "code",
   "execution_count": 124,
   "metadata": {},
   "outputs": [],
   "source": [
    "class FirstModel(nn.Module):\n",
    "    def __init__(self):\n",
    "        super(FirstModel, self).__init__()\n",
    "        self.flat = nn.Flatten()\n",
    "        self.relu = nn.ReLU()\n",
    "        self.l1 = nn.Linear(784, 128)\n",
    "        self.l2 = nn.Linear(128, 64)\n",
    "        self.l3 = nn.Linear(64, 10)\n",
    "\n",
    "    def forward(self, x):\n",
    "        x = self.flat(x)\n",
    "        x = F.relu(self.l1(x))\n",
    "        x = F.relu(self.l2(x))\n",
    "        x = F.relu(self.l3(x))\n",
    "        return x"
   ]
  },
  {
   "cell_type": "markdown",
   "metadata": {},
   "source": [
    "### SGD optimizer"
   ]
  },
  {
   "cell_type": "code",
   "execution_count": 125,
   "metadata": {
    "scrolled": true
   },
   "outputs": [
    {
     "name": "stderr",
     "output_type": "stream",
     "text": [
      "100%|████████████████████████████████████████████████████████████████████████████████| 469/469 [00:10<00:00, 44.07it/s]\n",
      "100%|██████████████████████████████████████████████████████████████████████████████████| 79/79 [00:03<00:00, 20.73it/s]\n",
      "  0%|                                                                                          | 0/469 [00:00<?, ?it/s]"
     ]
    },
    {
     "name": "stdout",
     "output_type": "stream",
     "text": [
      "Epoch: 1, loss: 1.0210047960281372, accuracy: 66.33\n"
     ]
    },
    {
     "name": "stderr",
     "output_type": "stream",
     "text": [
      "100%|████████████████████████████████████████████████████████████████████████████████| 469/469 [00:14<00:00, 31.75it/s]\n",
      "100%|██████████████████████████████████████████████████████████████████████████████████| 79/79 [00:02<00:00, 33.81it/s]\n",
      "  0%|                                                                                          | 0/469 [00:00<?, ?it/s]"
     ]
    },
    {
     "name": "stdout",
     "output_type": "stream",
     "text": [
      "Epoch: 2, loss: 0.9446056485176086, accuracy: 67.01\n"
     ]
    },
    {
     "name": "stderr",
     "output_type": "stream",
     "text": [
      "100%|████████████████████████████████████████████████████████████████████████████████| 469/469 [00:13<00:00, 34.78it/s]\n",
      "100%|██████████████████████████████████████████████████████████████████████████████████| 79/79 [00:03<00:00, 20.98it/s]\n",
      "  0%|                                                                                          | 0/469 [00:00<?, ?it/s]"
     ]
    },
    {
     "name": "stdout",
     "output_type": "stream",
     "text": [
      "Epoch: 3, loss: 0.900436282157898, accuracy: 68.56\n"
     ]
    },
    {
     "name": "stderr",
     "output_type": "stream",
     "text": [
      "100%|████████████████████████████████████████████████████████████████████████████████| 469/469 [00:12<00:00, 38.96it/s]\n",
      "100%|██████████████████████████████████████████████████████████████████████████████████| 79/79 [00:03<00:00, 21.65it/s]\n",
      "  0%|                                                                                          | 0/469 [00:00<?, ?it/s]"
     ]
    },
    {
     "name": "stdout",
     "output_type": "stream",
     "text": [
      "Epoch: 4, loss: 0.6994685530662537, accuracy: 77.15\n"
     ]
    },
    {
     "name": "stderr",
     "output_type": "stream",
     "text": [
      "100%|████████████████████████████████████████████████████████████████████████████████| 469/469 [00:11<00:00, 40.92it/s]\n",
      "100%|██████████████████████████████████████████████████████████████████████████████████| 79/79 [00:03<00:00, 21.67it/s]\n",
      "  0%|                                                                                          | 0/469 [00:00<?, ?it/s]"
     ]
    },
    {
     "name": "stdout",
     "output_type": "stream",
     "text": [
      "Epoch: 5, loss: 0.6894450187683105, accuracy: 76.63\n"
     ]
    },
    {
     "name": "stderr",
     "output_type": "stream",
     "text": [
      "100%|████████████████████████████████████████████████████████████████████████████████| 469/469 [00:12<00:00, 38.64it/s]\n",
      "100%|██████████████████████████████████████████████████████████████████████████████████| 79/79 [00:03<00:00, 20.61it/s]\n",
      "  0%|                                                                                          | 0/469 [00:00<?, ?it/s]"
     ]
    },
    {
     "name": "stdout",
     "output_type": "stream",
     "text": [
      "Epoch: 6, loss: 0.6547831892967224, accuracy: 77.96\n"
     ]
    },
    {
     "name": "stderr",
     "output_type": "stream",
     "text": [
      "100%|████████████████████████████████████████████████████████████████████████████████| 469/469 [00:13<00:00, 35.25it/s]\n",
      "100%|██████████████████████████████████████████████████████████████████████████████████| 79/79 [00:01<00:00, 39.63it/s]\n",
      "  0%|                                                                                          | 0/469 [00:00<?, ?it/s]"
     ]
    },
    {
     "name": "stdout",
     "output_type": "stream",
     "text": [
      "Epoch: 7, loss: 0.656276524066925, accuracy: 77.88\n"
     ]
    },
    {
     "name": "stderr",
     "output_type": "stream",
     "text": [
      "100%|████████████████████████████████████████████████████████████████████████████████| 469/469 [00:13<00:00, 34.94it/s]\n",
      "100%|██████████████████████████████████████████████████████████████████████████████████| 79/79 [00:03<00:00, 25.30it/s]\n",
      "  0%|                                                                                          | 0/469 [00:00<?, ?it/s]"
     ]
    },
    {
     "name": "stdout",
     "output_type": "stream",
     "text": [
      "Epoch: 8, loss: 0.628149688243866, accuracy: 78.93\n"
     ]
    },
    {
     "name": "stderr",
     "output_type": "stream",
     "text": [
      "100%|████████████████████████████████████████████████████████████████████████████████| 469/469 [00:12<00:00, 36.76it/s]\n",
      "100%|██████████████████████████████████████████████████████████████████████████████████| 79/79 [00:02<00:00, 26.65it/s]\n",
      "  0%|                                                                                          | 0/469 [00:00<?, ?it/s]"
     ]
    },
    {
     "name": "stdout",
     "output_type": "stream",
     "text": [
      "Epoch: 9, loss: 0.6148894429206848, accuracy: 79.27\n"
     ]
    },
    {
     "name": "stderr",
     "output_type": "stream",
     "text": [
      "100%|████████████████████████████████████████████████████████████████████████████████| 469/469 [00:13<00:00, 34.63it/s]\n",
      "100%|██████████████████████████████████████████████████████████████████████████████████| 79/79 [00:01<00:00, 41.97it/s]"
     ]
    },
    {
     "name": "stdout",
     "output_type": "stream",
     "text": [
      "Epoch: 10, loss: 0.6217302083969116, accuracy: 79.21\n"
     ]
    },
    {
     "name": "stderr",
     "output_type": "stream",
     "text": [
      "\n"
     ]
    }
   ],
   "source": [
    "model1_1 = FirstModel()\n",
    "optimizer1_1 = torch.optim.SGD(model1_1.parameters(), lr=0.01, momentum=0.8)\n",
    "acc1_SGD, loss1_SGD = train_model(model1_1, [train_dataloader, eval_dataloader], optimizer1_1)"
   ]
  },
  {
   "cell_type": "markdown",
   "metadata": {},
   "source": [
    "### RMSprop optimizer"
   ]
  },
  {
   "cell_type": "code",
   "execution_count": 126,
   "metadata": {
    "scrolled": true
   },
   "outputs": [
    {
     "name": "stderr",
     "output_type": "stream",
     "text": [
      "100%|████████████████████████████████████████████████████████████████████████████████| 469/469 [00:13<00:00, 35.22it/s]\n",
      "100%|██████████████████████████████████████████████████████████████████████████████████| 79/79 [00:03<00:00, 22.73it/s]\n",
      "  0%|                                                                                          | 0/469 [00:00<?, ?it/s]"
     ]
    },
    {
     "name": "stdout",
     "output_type": "stream",
     "text": [
      "Epoch: 1, loss: 1.302609920501709, accuracy: 56.18\n"
     ]
    },
    {
     "name": "stderr",
     "output_type": "stream",
     "text": [
      "100%|████████████████████████████████████████████████████████████████████████████████| 469/469 [00:13<00:00, 35.78it/s]\n",
      "100%|██████████████████████████████████████████████████████████████████████████████████| 79/79 [00:03<00:00, 23.35it/s]\n",
      "  0%|                                                                                          | 0/469 [00:00<?, ?it/s]"
     ]
    },
    {
     "name": "stdout",
     "output_type": "stream",
     "text": [
      "Epoch: 2, loss: 1.061322808265686, accuracy: 58.49\n"
     ]
    },
    {
     "name": "stderr",
     "output_type": "stream",
     "text": [
      "100%|████████████████████████████████████████████████████████████████████████████████| 469/469 [00:13<00:00, 34.67it/s]\n",
      "100%|██████████████████████████████████████████████████████████████████████████████████| 79/79 [00:03<00:00, 22.85it/s]\n",
      "  0%|                                                                                          | 0/469 [00:00<?, ?it/s]"
     ]
    },
    {
     "name": "stdout",
     "output_type": "stream",
     "text": [
      "Epoch: 3, loss: 0.884440541267395, accuracy: 65.22\n"
     ]
    },
    {
     "name": "stderr",
     "output_type": "stream",
     "text": [
      "100%|████████████████████████████████████████████████████████████████████████████████| 469/469 [00:13<00:00, 34.30it/s]\n",
      "100%|██████████████████████████████████████████████████████████████████████████████████| 79/79 [00:03<00:00, 22.61it/s]\n",
      "  0%|                                                                                          | 0/469 [00:00<?, ?it/s]"
     ]
    },
    {
     "name": "stdout",
     "output_type": "stream",
     "text": [
      "Epoch: 4, loss: 0.8459506630897522, accuracy: 66.96\n"
     ]
    },
    {
     "name": "stderr",
     "output_type": "stream",
     "text": [
      "100%|████████████████████████████████████████████████████████████████████████████████| 469/469 [00:13<00:00, 35.67it/s]\n",
      "100%|██████████████████████████████████████████████████████████████████████████████████| 79/79 [00:02<00:00, 27.91it/s]\n",
      "  0%|                                                                                          | 0/469 [00:00<?, ?it/s]"
     ]
    },
    {
     "name": "stdout",
     "output_type": "stream",
     "text": [
      "Epoch: 5, loss: 0.8406971096992493, accuracy: 67.91\n"
     ]
    },
    {
     "name": "stderr",
     "output_type": "stream",
     "text": [
      "100%|████████████████████████████████████████████████████████████████████████████████| 469/469 [00:13<00:00, 34.53it/s]\n",
      "100%|██████████████████████████████████████████████████████████████████████████████████| 79/79 [00:03<00:00, 25.63it/s]\n",
      "  0%|                                                                                          | 0/469 [00:00<?, ?it/s]"
     ]
    },
    {
     "name": "stdout",
     "output_type": "stream",
     "text": [
      "Epoch: 6, loss: 0.8079178929328918, accuracy: 68.8\n"
     ]
    },
    {
     "name": "stderr",
     "output_type": "stream",
     "text": [
      "100%|████████████████████████████████████████████████████████████████████████████████| 469/469 [00:13<00:00, 34.35it/s]\n",
      "100%|██████████████████████████████████████████████████████████████████████████████████| 79/79 [00:03<00:00, 22.62it/s]\n",
      "  0%|                                                                                          | 0/469 [00:00<?, ?it/s]"
     ]
    },
    {
     "name": "stdout",
     "output_type": "stream",
     "text": [
      "Epoch: 7, loss: 0.8269321322441101, accuracy: 68.3\n"
     ]
    },
    {
     "name": "stderr",
     "output_type": "stream",
     "text": [
      "100%|████████████████████████████████████████████████████████████████████████████████| 469/469 [00:13<00:00, 34.68it/s]\n",
      "100%|██████████████████████████████████████████████████████████████████████████████████| 79/79 [00:02<00:00, 32.08it/s]\n",
      "  0%|                                                                                          | 0/469 [00:00<?, ?it/s]"
     ]
    },
    {
     "name": "stdout",
     "output_type": "stream",
     "text": [
      "Epoch: 8, loss: 0.803776741027832, accuracy: 68.91\n"
     ]
    },
    {
     "name": "stderr",
     "output_type": "stream",
     "text": [
      "100%|████████████████████████████████████████████████████████████████████████████████| 469/469 [00:14<00:00, 33.42it/s]\n",
      "100%|██████████████████████████████████████████████████████████████████████████████████| 79/79 [00:03<00:00, 21.56it/s]\n",
      "  0%|                                                                                          | 0/469 [00:00<?, ?it/s]"
     ]
    },
    {
     "name": "stdout",
     "output_type": "stream",
     "text": [
      "Epoch: 9, loss: 0.8149278163909912, accuracy: 69.48\n"
     ]
    },
    {
     "name": "stderr",
     "output_type": "stream",
     "text": [
      "100%|████████████████████████████████████████████████████████████████████████████████| 469/469 [00:12<00:00, 36.34it/s]\n",
      "100%|██████████████████████████████████████████████████████████████████████████████████| 79/79 [00:03<00:00, 25.04it/s]"
     ]
    },
    {
     "name": "stdout",
     "output_type": "stream",
     "text": [
      "Epoch: 10, loss: 0.6623173952102661, accuracy: 76.58\n"
     ]
    },
    {
     "name": "stderr",
     "output_type": "stream",
     "text": [
      "\n"
     ]
    }
   ],
   "source": [
    "model1_2 = FirstModel()\n",
    "optimizer1_2 = torch.optim.RMSprop(model1_2.parameters(), lr=0.001, alpha=0.9, eps=1e-08, momentum=0.8)\n",
    "acc1_RMS, loss1_RMS = train_model(model1_2, [train_dataloader, eval_dataloader], optimizer1_2)"
   ]
  },
  {
   "cell_type": "code",
   "execution_count": 127,
   "metadata": {},
   "outputs": [
    {
     "data": {
      "image/png": "[encoded data removed]",
      "text/plain": [
       "<Figure size 576x432 with 1 Axes>"
      ]
     },
     "metadata": {
      "needs_background": "light"
     },
     "output_type": "display_data"
    },
    {
     "data": {
      "image/png": "[encoded data removed]",
      "text/plain": [
       "<Figure size 576x432 with 1 Axes>"
      ]
     },
     "metadata": {
      "needs_background": "light"
     },
     "output_type": "display_data"
    }
   ],
   "source": [
    "model_visualisation([acc1_SGD, loss1_SGD, acc1_RMS, loss1_RMS], mode='optimizers')"
   ]
  },
  {
   "cell_type": "markdown",
   "metadata": {},
   "source": [
    "## Model 2"
   ]
  },
  {
   "cell_type": "code",
   "execution_count": 128,
   "metadata": {},
   "outputs": [],
   "source": [
    "class SecondModel(nn.Module):\n",
    "    def __init__(self):\n",
    "        super(SecondModel, self).__init__()\n",
    "        \n",
    "        self.flat = nn.Flatten()\n",
    "        self.relu = nn.ReLU()\n",
    "\n",
    "        self.conv1 = nn.Conv2d(1, 6, 5)\n",
    "        self.conv2 = nn.Conv2d(6, 12, 5)\n",
    "\n",
    "        self.l1 = nn.Linear(12 * 4 * 4, 120)\n",
    "        self.l2 = nn.Linear(120, 60)\n",
    "        self.l3 = nn.Linear(60, 10)\n",
    "\n",
    "    def forward(self, x):\n",
    "        x = self.conv1(x)\n",
    "        x = self.relu(x)\n",
    "        x = F.max_pool2d(x, 2, 2)\n",
    "        \n",
    "        x = self.conv2(x)\n",
    "        x = self.relu(x)\n",
    "        x = F.max_pool2d(x, 2, 2)\n",
    "        \n",
    "        x = self.flat(x)\n",
    "        x = self.l1(x)\n",
    "        x = self.relu(x)\n",
    "        \n",
    "        x = self.l2(x)\n",
    "        x = self.relu(x)\n",
    "        \n",
    "        x = self.l3(x)\n",
    "\n",
    "        return x"
   ]
  },
  {
   "cell_type": "markdown",
   "metadata": {},
   "source": [
    "### SGD optimizer"
   ]
  },
  {
   "cell_type": "code",
   "execution_count": 129,
   "metadata": {
    "scrolled": true
   },
   "outputs": [
    {
     "name": "stderr",
     "output_type": "stream",
     "text": [
      "100%|████████████████████████████████████████████████████████████████████████████████| 469/469 [00:14<00:00, 31.48it/s]\n",
      "100%|██████████████████████████████████████████████████████████████████████████████████| 79/79 [00:04<00:00, 19.60it/s]\n",
      "  0%|                                                                                          | 0/469 [00:00<?, ?it/s]"
     ]
    },
    {
     "name": "stdout",
     "output_type": "stream",
     "text": [
      "Epoch: 1, loss: 0.574786901473999, accuracy: 77.51\n"
     ]
    },
    {
     "name": "stderr",
     "output_type": "stream",
     "text": [
      "100%|████████████████████████████████████████████████████████████████████████████████| 469/469 [00:16<00:00, 27.63it/s]\n",
      "100%|██████████████████████████████████████████████████████████████████████████████████| 79/79 [00:02<00:00, 30.49it/s]\n",
      "  0%|                                                                                          | 0/469 [00:00<?, ?it/s]"
     ]
    },
    {
     "name": "stdout",
     "output_type": "stream",
     "text": [
      "Epoch: 2, loss: 0.46497592329978943, accuracy: 83.55\n"
     ]
    },
    {
     "name": "stderr",
     "output_type": "stream",
     "text": [
      "100%|████████████████████████████████████████████████████████████████████████████████| 469/469 [00:16<00:00, 27.68it/s]\n",
      "100%|██████████████████████████████████████████████████████████████████████████████████| 79/79 [00:02<00:00, 27.31it/s]\n",
      "  0%|                                                                                          | 0/469 [00:00<?, ?it/s]"
     ]
    },
    {
     "name": "stdout",
     "output_type": "stream",
     "text": [
      "Epoch: 3, loss: 0.4022490382194519, accuracy: 85.6\n"
     ]
    },
    {
     "name": "stderr",
     "output_type": "stream",
     "text": [
      "100%|████████████████████████████████████████████████████████████████████████████████| 469/469 [00:17<00:00, 26.19it/s]\n",
      "100%|██████████████████████████████████████████████████████████████████████████████████| 79/79 [00:02<00:00, 36.21it/s]\n",
      "  0%|                                                                                          | 0/469 [00:00<?, ?it/s]"
     ]
    },
    {
     "name": "stdout",
     "output_type": "stream",
     "text": [
      "Epoch: 4, loss: 0.37101078033447266, accuracy: 86.68\n"
     ]
    },
    {
     "name": "stderr",
     "output_type": "stream",
     "text": [
      "100%|████████████████████████████████████████████████████████████████████████████████| 469/469 [00:17<00:00, 27.12it/s]\n",
      "100%|██████████████████████████████████████████████████████████████████████████████████| 79/79 [00:03<00:00, 21.93it/s]\n",
      "  0%|                                                                                          | 0/469 [00:00<?, ?it/s]"
     ]
    },
    {
     "name": "stdout",
     "output_type": "stream",
     "text": [
      "Epoch: 5, loss: 0.3436598479747772, accuracy: 87.41\n"
     ]
    },
    {
     "name": "stderr",
     "output_type": "stream",
     "text": [
      "100%|████████████████████████████████████████████████████████████████████████████████| 469/469 [00:16<00:00, 27.77it/s]\n",
      "100%|██████████████████████████████████████████████████████████████████████████████████| 79/79 [00:03<00:00, 21.63it/s]\n",
      "  0%|                                                                                          | 0/469 [00:00<?, ?it/s]"
     ]
    },
    {
     "name": "stdout",
     "output_type": "stream",
     "text": [
      "Epoch: 6, loss: 0.3457772731781006, accuracy: 87.27\n"
     ]
    },
    {
     "name": "stderr",
     "output_type": "stream",
     "text": [
      "100%|████████████████████████████████████████████████████████████████████████████████| 469/469 [00:16<00:00, 28.69it/s]\n",
      "100%|██████████████████████████████████████████████████████████████████████████████████| 79/79 [00:02<00:00, 31.95it/s]\n",
      "  0%|                                                                                          | 0/469 [00:00<?, ?it/s]"
     ]
    },
    {
     "name": "stdout",
     "output_type": "stream",
     "text": [
      "Epoch: 7, loss: 0.3701082766056061, accuracy: 86.64\n"
     ]
    },
    {
     "name": "stderr",
     "output_type": "stream",
     "text": [
      "100%|████████████████████████████████████████████████████████████████████████████████| 469/469 [00:18<00:00, 24.78it/s]\n",
      "100%|██████████████████████████████████████████████████████████████████████████████████| 79/79 [00:02<00:00, 28.68it/s]\n",
      "  0%|                                                                                          | 0/469 [00:00<?, ?it/s]"
     ]
    },
    {
     "name": "stdout",
     "output_type": "stream",
     "text": [
      "Epoch: 8, loss: 0.32577940821647644, accuracy: 87.72\n"
     ]
    },
    {
     "name": "stderr",
     "output_type": "stream",
     "text": [
      "100%|████████████████████████████████████████████████████████████████████████████████| 469/469 [00:18<00:00, 25.38it/s]\n",
      "100%|██████████████████████████████████████████████████████████████████████████████████| 79/79 [00:03<00:00, 21.55it/s]\n",
      "  0%|                                                                                          | 0/469 [00:00<?, ?it/s]"
     ]
    },
    {
     "name": "stdout",
     "output_type": "stream",
     "text": [
      "Epoch: 9, loss: 0.32003968954086304, accuracy: 87.95\n"
     ]
    },
    {
     "name": "stderr",
     "output_type": "stream",
     "text": [
      "100%|████████████████████████████████████████████████████████████████████████████████| 469/469 [00:17<00:00, 26.65it/s]\n",
      "100%|██████████████████████████████████████████████████████████████████████████████████| 79/79 [00:03<00:00, 24.98it/s]"
     ]
    },
    {
     "name": "stdout",
     "output_type": "stream",
     "text": [
      "Epoch: 10, loss: 0.3136509358882904, accuracy: 88.34\n"
     ]
    },
    {
     "name": "stderr",
     "output_type": "stream",
     "text": [
      "\n"
     ]
    }
   ],
   "source": [
    "model2_1 = SecondModel()\n",
    "optimizer2_1 = torch.optim.SGD(model2_1.parameters(), lr=0.02, momentum=0.9)\n",
    "acc2_SGD, loss2_SGD = train_model(model2_1, [train_dataloader, eval_dataloader], optimizer2_1)"
   ]
  },
  {
   "cell_type": "markdown",
   "metadata": {},
   "source": [
    "### RMSprop optimizer"
   ]
  },
  {
   "cell_type": "code",
   "execution_count": 130,
   "metadata": {
    "scrolled": true
   },
   "outputs": [
    {
     "name": "stderr",
     "output_type": "stream",
     "text": [
      "100%|████████████████████████████████████████████████████████████████████████████████| 469/469 [00:18<00:00, 26.02it/s]\n",
      "100%|██████████████████████████████████████████████████████████████████████████████████| 79/79 [00:02<00:00, 30.34it/s]\n",
      "  0%|                                                                                          | 0/469 [00:00<?, ?it/s]"
     ]
    },
    {
     "name": "stdout",
     "output_type": "stream",
     "text": [
      "Epoch: 1, loss: 0.4472610354423523, accuracy: 83.6\n"
     ]
    },
    {
     "name": "stderr",
     "output_type": "stream",
     "text": [
      "100%|████████████████████████████████████████████████████████████████████████████████| 469/469 [00:18<00:00, 25.62it/s]\n",
      "100%|██████████████████████████████████████████████████████████████████████████████████| 79/79 [00:04<00:00, 18.66it/s]\n",
      "  0%|                                                                                          | 0/469 [00:00<?, ?it/s]"
     ]
    },
    {
     "name": "stdout",
     "output_type": "stream",
     "text": [
      "Epoch: 2, loss: 0.39538973569869995, accuracy: 85.58\n"
     ]
    },
    {
     "name": "stderr",
     "output_type": "stream",
     "text": [
      "100%|████████████████████████████████████████████████████████████████████████████████| 469/469 [00:18<00:00, 26.05it/s]\n",
      "100%|██████████████████████████████████████████████████████████████████████████████████| 79/79 [00:02<00:00, 30.50it/s]\n",
      "  0%|                                                                                          | 0/469 [00:00<?, ?it/s]"
     ]
    },
    {
     "name": "stdout",
     "output_type": "stream",
     "text": [
      "Epoch: 3, loss: 0.3521779477596283, accuracy: 86.93\n"
     ]
    },
    {
     "name": "stderr",
     "output_type": "stream",
     "text": [
      "100%|████████████████████████████████████████████████████████████████████████████████| 469/469 [00:18<00:00, 25.65it/s]\n",
      "100%|██████████████████████████████████████████████████████████████████████████████████| 79/79 [00:02<00:00, 29.50it/s]\n",
      "  0%|                                                                                          | 0/469 [00:00<?, ?it/s]"
     ]
    },
    {
     "name": "stdout",
     "output_type": "stream",
     "text": [
      "Epoch: 4, loss: 0.3375925123691559, accuracy: 87.74\n"
     ]
    },
    {
     "name": "stderr",
     "output_type": "stream",
     "text": [
      "100%|████████████████████████████████████████████████████████████████████████████████| 469/469 [00:18<00:00, 25.71it/s]\n",
      "100%|██████████████████████████████████████████████████████████████████████████████████| 79/79 [00:03<00:00, 21.84it/s]\n",
      "  0%|                                                                                          | 0/469 [00:00<?, ?it/s]"
     ]
    },
    {
     "name": "stdout",
     "output_type": "stream",
     "text": [
      "Epoch: 5, loss: 0.33378803730010986, accuracy: 88.14\n"
     ]
    },
    {
     "name": "stderr",
     "output_type": "stream",
     "text": [
      "100%|████████████████████████████████████████████████████████████████████████████████| 469/469 [00:15<00:00, 29.51it/s]\n",
      "100%|██████████████████████████████████████████████████████████████████████████████████| 79/79 [00:03<00:00, 20.41it/s]\n",
      "  0%|                                                                                          | 0/469 [00:00<?, ?it/s]"
     ]
    },
    {
     "name": "stdout",
     "output_type": "stream",
     "text": [
      "Epoch: 6, loss: 0.33999496698379517, accuracy: 87.71\n"
     ]
    },
    {
     "name": "stderr",
     "output_type": "stream",
     "text": [
      "100%|████████████████████████████████████████████████████████████████████████████████| 469/469 [00:17<00:00, 26.39it/s]\n",
      "100%|██████████████████████████████████████████████████████████████████████████████████| 79/79 [00:02<00:00, 28.84it/s]\n",
      "  0%|                                                                                          | 0/469 [00:00<?, ?it/s]"
     ]
    },
    {
     "name": "stdout",
     "output_type": "stream",
     "text": [
      "Epoch: 7, loss: 0.30449357628822327, accuracy: 88.79\n"
     ]
    },
    {
     "name": "stderr",
     "output_type": "stream",
     "text": [
      "100%|████████████████████████████████████████████████████████████████████████████████| 469/469 [00:19<00:00, 24.32it/s]\n",
      "100%|██████████████████████████████████████████████████████████████████████████████████| 79/79 [00:02<00:00, 27.40it/s]\n",
      "  0%|                                                                                          | 0/469 [00:00<?, ?it/s]"
     ]
    },
    {
     "name": "stdout",
     "output_type": "stream",
     "text": [
      "Epoch: 8, loss: 0.30535170435905457, accuracy: 89.12\n"
     ]
    },
    {
     "name": "stderr",
     "output_type": "stream",
     "text": [
      "100%|████████████████████████████████████████████████████████████████████████████████| 469/469 [00:17<00:00, 26.96it/s]\n",
      "100%|██████████████████████████████████████████████████████████████████████████████████| 79/79 [00:03<00:00, 20.60it/s]\n",
      "  0%|                                                                                          | 0/469 [00:00<?, ?it/s]"
     ]
    },
    {
     "name": "stdout",
     "output_type": "stream",
     "text": [
      "Epoch: 9, loss: 0.31920501589775085, accuracy: 88.95\n"
     ]
    },
    {
     "name": "stderr",
     "output_type": "stream",
     "text": [
      "100%|████████████████████████████████████████████████████████████████████████████████| 469/469 [00:18<00:00, 25.99it/s]\n",
      "100%|██████████████████████████████████████████████████████████████████████████████████| 79/79 [00:02<00:00, 31.26it/s]"
     ]
    },
    {
     "name": "stdout",
     "output_type": "stream",
     "text": [
      "Epoch: 10, loss: 0.32518577575683594, accuracy: 88.76\n"
     ]
    },
    {
     "name": "stderr",
     "output_type": "stream",
     "text": [
      "\n"
     ]
    }
   ],
   "source": [
    "model2_2 = SecondModel()\n",
    "optimizer2_2 = torch.optim.RMSprop(model2_2.parameters(), lr=0.0005, alpha=0.99, eps=1e-08, momentum=0.8)\n",
    "acc2_RMS, loss2_RMS = train_model(model2_2, [train_dataloader, eval_dataloader], optimizer2_2)"
   ]
  },
  {
   "cell_type": "code",
   "execution_count": 131,
   "metadata": {},
   "outputs": [
    {
     "data": {
      "image/png": "[encoded data removed]",
      "text/plain": [
       "<Figure size 576x432 with 1 Axes>"
      ]
     },
     "metadata": {
      "needs_background": "light"
     },
     "output_type": "display_data"
    },
    {
     "data": {
      "image/png": "[encoded data removed]",
      "text/plain": [
       "<Figure size 576x432 with 1 Axes>"
      ]
     },
     "metadata": {
      "needs_background": "light"
     },
     "output_type": "display_data"
    }
   ],
   "source": [
    "model_visualisation([acc2_SGD, loss2_SGD, acc2_RMS, loss2_RMS], mode='optimizers')"
   ]
  },
  {
   "cell_type": "markdown",
   "metadata": {},
   "source": [
    "## Model 3"
   ]
  },
  {
   "cell_type": "markdown",
   "metadata": {},
   "source": [
    "Модель взята с сайта: https://missinglink.ai/guides/pytorch/pytorch-resnet-building-training-scaling-residual-networks-pytorch/\n",
    ". Если так нельзя, то считайте, что третей модели нет. Я просто хотел поэкспериментировать."
   ]
  },
  {
   "cell_type": "code",
   "execution_count": 132,
   "metadata": {},
   "outputs": [],
   "source": [
    "class BasicBlock(nn.Module):\n",
    "    expansion = 1\n",
    "\n",
    "    def __init__(self, in_planes, planes, stride=1):\n",
    "        super(BasicBlock, self).__init__()\n",
    "        self.conv1 = nn.Conv2d(\n",
    "            in_planes, planes, kernel_size=3, stride=stride, padding=1, bias=False)\n",
    "        self.bn1 = nn.BatchNorm2d(planes)\n",
    "        self.conv2 = nn.Conv2d(planes, planes, kernel_size=3,\n",
    "                               stride=1, padding=1, bias=False)\n",
    "        self.bn2 = nn.BatchNorm2d(planes)\n",
    "\n",
    "        self.shortcut = nn.Sequential()\n",
    "        if stride != 1 or in_planes != self.expansion*planes:\n",
    "            self.shortcut = nn.Sequential(\n",
    "                nn.Conv2d(in_planes, self.expansion*planes,\n",
    "                          kernel_size=1, stride=stride, bias=False),\n",
    "                nn.BatchNorm2d(self.expansion*planes)\n",
    "            )\n",
    "\n",
    "    def forward(self, x):\n",
    "        out = F.relu(self.bn1(self.conv1(x)))\n",
    "        out = self.bn2(self.conv2(out))\n",
    "        out += self.shortcut(x)\n",
    "        out = F.relu(out)\n",
    "        return out"
   ]
  },
  {
   "cell_type": "code",
   "execution_count": 133,
   "metadata": {},
   "outputs": [],
   "source": [
    "class Bottleneck(nn.Module):\n",
    "    expansion = 4\n",
    "\n",
    "    def __init__(self, in_planes, planes, stride=1):\n",
    "        super(Bottleneck, self).__init__()\n",
    "        self.conv1 = nn.Conv2d(in_planes, planes, kernel_size=1, bias=False)\n",
    "        self.bn1 = nn.BatchNorm2d(planes)\n",
    "        self.conv2 = nn.Conv2d(planes, planes, kernel_size=3,\n",
    "                               stride=stride, padding=1, bias=False)\n",
    "        self.bn2 = nn.BatchNorm2d(planes)\n",
    "        self.conv3 = nn.Conv2d(planes, self.expansion *\n",
    "                               planes, kernel_size=1, bias=False)\n",
    "        self.bn3 = nn.BatchNorm2d(self.expansion*planes)\n",
    "\n",
    "        self.shortcut = nn.Sequential()\n",
    "        if stride != 1 or in_planes != self.expansion*planes:\n",
    "            self.shortcut = nn.Sequential(\n",
    "                nn.Conv2d(in_planes, self.expansion*planes,\n",
    "                          kernel_size=1, stride=stride, bias=False),\n",
    "                nn.BatchNorm2d(self.expansion*planes)\n",
    "            )\n",
    "\n",
    "    def forward(self, x):\n",
    "        out = F.relu(self.bn1(self.conv1(x)))\n",
    "        out = F.relu(self.bn2(self.conv2(out)))\n",
    "        out = self.bn3(self.conv3(out))\n",
    "        out += self.shortcut(x)\n",
    "        out = F.relu(out)\n",
    "        return out"
   ]
  },
  {
   "cell_type": "code",
   "execution_count": 134,
   "metadata": {},
   "outputs": [],
   "source": [
    "class ResNet(nn.Module):\n",
    "    def __init__(self, block, num_blocks, num_classes=10):\n",
    "        super(ResNet, self).__init__()\n",
    "        self.in_planes = 6\n",
    "\n",
    "        self.conv1 = nn.Conv2d(1, 6, kernel_size=3,\n",
    "                               stride=1, padding=1, bias=False)\n",
    "        self.bn1 = nn.BatchNorm2d(6)\n",
    "        self.flat = nn.Flatten()\n",
    "        self.layer1 = self._make_layer(block, 6, num_blocks[0], stride=1)\n",
    "        self.layer2 = self._make_layer(block, 12, num_blocks[1], stride=2)\n",
    "        self.layer3 = self._make_layer(block, 24, num_blocks[2], stride=2)\n",
    "        self.layer4 = self._make_layer(block, 48, num_blocks[3], stride=2)\n",
    "        self.linear1 = nn.Linear(48*block.expansion, 48)\n",
    "        self.linear2 = nn.Linear(48, num_classes)\n",
    "\n",
    "    def _make_layer(self, block, planes, num_blocks, stride):\n",
    "        strides = [stride] + [1]*(num_blocks-1)\n",
    "        layers = []\n",
    "        for stride in strides:\n",
    "            layers.append(block(self.in_planes, planes, stride))\n",
    "            self.in_planes = planes * block.expansion\n",
    "        return nn.Sequential(*layers)\n",
    "\n",
    "    def forward(self, x):\n",
    "        out = F.relu(self.bn1(self.conv1(x)))\n",
    "        out = self.layer1(out)\n",
    "        out = self.layer2(out)\n",
    "        out = self.layer3(out)\n",
    "        out = self.layer4(out)\n",
    "        out = F.avg_pool2d(out, 4)\n",
    "        out = self.flat(out)\n",
    "        out = self.linear1(out)\n",
    "        out = self.linear2(out)\n",
    "        return out"
   ]
  },
  {
   "cell_type": "markdown",
   "metadata": {},
   "source": [
    "### SGD optimizer"
   ]
  },
  {
   "cell_type": "code",
   "execution_count": 135,
   "metadata": {
    "scrolled": false
   },
   "outputs": [
    {
     "name": "stderr",
     "output_type": "stream",
     "text": [
      "100%|████████████████████████████████████████████████████████████████████████████████| 469/469 [10:02<00:00,  1.28s/it]\n",
      "100%|██████████████████████████████████████████████████████████████████████████████████| 79/79 [00:39<00:00,  1.99it/s]\n",
      "  0%|                                                                                          | 0/469 [00:00<?, ?it/s]"
     ]
    },
    {
     "name": "stdout",
     "output_type": "stream",
     "text": [
      "Epoch: 1, loss: 0.3667076826095581, accuracy: 86.66\n"
     ]
    },
    {
     "name": "stderr",
     "output_type": "stream",
     "text": [
      "100%|████████████████████████████████████████████████████████████████████████████████| 469/469 [09:54<00:00,  1.27s/it]\n",
      "100%|██████████████████████████████████████████████████████████████████████████████████| 79/79 [00:42<00:00,  1.88it/s]\n",
      "  0%|                                                                                          | 0/469 [00:00<?, ?it/s]"
     ]
    },
    {
     "name": "stdout",
     "output_type": "stream",
     "text": [
      "Epoch: 2, loss: 0.30477118492126465, accuracy: 88.15\n"
     ]
    },
    {
     "name": "stderr",
     "output_type": "stream",
     "text": [
      "100%|████████████████████████████████████████████████████████████████████████████████| 469/469 [10:01<00:00,  1.28s/it]\n",
      "100%|██████████████████████████████████████████████████████████████████████████████████| 79/79 [00:43<00:00,  1.80it/s]\n",
      "  0%|                                                                                          | 0/469 [00:00<?, ?it/s]"
     ]
    },
    {
     "name": "stdout",
     "output_type": "stream",
     "text": [
      "Epoch: 3, loss: 0.26669055223464966, accuracy: 90.47\n"
     ]
    },
    {
     "name": "stderr",
     "output_type": "stream",
     "text": [
      "100%|████████████████████████████████████████████████████████████████████████████████| 469/469 [09:57<00:00,  1.27s/it]\n",
      "100%|██████████████████████████████████████████████████████████████████████████████████| 79/79 [00:39<00:00,  2.02it/s]\n",
      "  0%|                                                                                          | 0/469 [00:00<?, ?it/s]"
     ]
    },
    {
     "name": "stdout",
     "output_type": "stream",
     "text": [
      "Epoch: 4, loss: 0.23369762301445007, accuracy: 91.59\n"
     ]
    },
    {
     "name": "stderr",
     "output_type": "stream",
     "text": [
      "100%|████████████████████████████████████████████████████████████████████████████████| 469/469 [10:06<00:00,  1.29s/it]\n",
      "100%|██████████████████████████████████████████████████████████████████████████████████| 79/79 [00:42<00:00,  1.86it/s]\n",
      "  0%|                                                                                          | 0/469 [00:00<?, ?it/s]"
     ]
    },
    {
     "name": "stdout",
     "output_type": "stream",
     "text": [
      "Epoch: 5, loss: 0.2503302991390228, accuracy: 91.02\n"
     ]
    },
    {
     "name": "stderr",
     "output_type": "stream",
     "text": [
      "100%|████████████████████████████████████████████████████████████████████████████████| 469/469 [09:52<00:00,  1.26s/it]\n",
      "100%|██████████████████████████████████████████████████████████████████████████████████| 79/79 [00:39<00:00,  1.99it/s]\n",
      "  0%|                                                                                          | 0/469 [00:00<?, ?it/s]"
     ]
    },
    {
     "name": "stdout",
     "output_type": "stream",
     "text": [
      "Epoch: 6, loss: 0.23523353040218353, accuracy: 91.95\n"
     ]
    },
    {
     "name": "stderr",
     "output_type": "stream",
     "text": [
      "100%|████████████████████████████████████████████████████████████████████████████████| 469/469 [09:53<00:00,  1.27s/it]\n",
      "100%|██████████████████████████████████████████████████████████████████████████████████| 79/79 [00:38<00:00,  2.04it/s]\n",
      "  0%|                                                                                          | 0/469 [00:00<?, ?it/s]"
     ]
    },
    {
     "name": "stdout",
     "output_type": "stream",
     "text": [
      "Epoch: 7, loss: 0.2319519966840744, accuracy: 91.93\n"
     ]
    },
    {
     "name": "stderr",
     "output_type": "stream",
     "text": [
      "100%|████████████████████████████████████████████████████████████████████████████████| 469/469 [09:41<00:00,  1.24s/it]\n",
      "100%|██████████████████████████████████████████████████████████████████████████████████| 79/79 [00:39<00:00,  1.98it/s]\n",
      "  0%|                                                                                          | 0/469 [00:00<?, ?it/s]"
     ]
    },
    {
     "name": "stdout",
     "output_type": "stream",
     "text": [
      "Epoch: 8, loss: 0.23955710232257843, accuracy: 91.88\n"
     ]
    },
    {
     "name": "stderr",
     "output_type": "stream",
     "text": [
      "100%|████████████████████████████████████████████████████████████████████████████████| 469/469 [09:45<00:00,  1.25s/it]\n",
      "100%|██████████████████████████████████████████████████████████████████████████████████| 79/79 [00:38<00:00,  2.04it/s]\n",
      "  0%|                                                                                          | 0/469 [00:00<?, ?it/s]"
     ]
    },
    {
     "name": "stdout",
     "output_type": "stream",
     "text": [
      "Epoch: 9, loss: 0.2505738139152527, accuracy: 91.42\n"
     ]
    },
    {
     "name": "stderr",
     "output_type": "stream",
     "text": [
      "100%|████████████████████████████████████████████████████████████████████████████████| 469/469 [09:47<00:00,  1.25s/it]\n",
      "100%|██████████████████████████████████████████████████████████████████████████████████| 79/79 [00:41<00:00,  1.92it/s]"
     ]
    },
    {
     "name": "stdout",
     "output_type": "stream",
     "text": [
      "Epoch: 10, loss: 0.24306561052799225, accuracy: 91.74\n"
     ]
    },
    {
     "name": "stderr",
     "output_type": "stream",
     "text": [
      "\n"
     ]
    }
   ],
   "source": [
    "model3_1 = ResNet(Bottleneck, [2, 5, 3, 2])\n",
    "optimizer3_1 = torch.optim.SGD(model3_1.parameters(), lr=0.02, momentum=0.9)\n",
    "acc3_SGD, loss3_SGD = train_model(model3_1, [train_dataloader, eval_dataloader], optimizer3_1)"
   ]
  },
  {
   "cell_type": "markdown",
   "metadata": {},
   "source": [
    "### RMSprop optimizer"
   ]
  },
  {
   "cell_type": "code",
   "execution_count": 136,
   "metadata": {},
   "outputs": [
    {
     "name": "stderr",
     "output_type": "stream",
     "text": [
      "100%|████████████████████████████████████████████████████████████████████████████████| 469/469 [09:52<00:00,  1.26s/it]\n",
      "100%|██████████████████████████████████████████████████████████████████████████████████| 79/79 [00:38<00:00,  2.07it/s]\n",
      "  0%|                                                                                          | 0/469 [00:00<?, ?it/s]"
     ]
    },
    {
     "name": "stdout",
     "output_type": "stream",
     "text": [
      "Epoch: 1, loss: 0.3607495129108429, accuracy: 86.72\n"
     ]
    },
    {
     "name": "stderr",
     "output_type": "stream",
     "text": [
      "100%|████████████████████████████████████████████████████████████████████████████████| 469/469 [09:44<00:00,  1.25s/it]\n",
      "100%|██████████████████████████████████████████████████████████████████████████████████| 79/79 [00:37<00:00,  2.09it/s]\n",
      "  0%|                                                                                          | 0/469 [00:00<?, ?it/s]"
     ]
    },
    {
     "name": "stdout",
     "output_type": "stream",
     "text": [
      "Epoch: 2, loss: 0.30965322256088257, accuracy: 88.87\n"
     ]
    },
    {
     "name": "stderr",
     "output_type": "stream",
     "text": [
      "100%|████████████████████████████████████████████████████████████████████████████████| 469/469 [09:47<00:00,  1.25s/it]\n",
      "100%|██████████████████████████████████████████████████████████████████████████████████| 79/79 [00:39<00:00,  1.99it/s]\n",
      "  0%|                                                                                          | 0/469 [00:00<?, ?it/s]"
     ]
    },
    {
     "name": "stdout",
     "output_type": "stream",
     "text": [
      "Epoch: 3, loss: 0.2851821184158325, accuracy: 89.71\n"
     ]
    },
    {
     "name": "stderr",
     "output_type": "stream",
     "text": [
      "100%|████████████████████████████████████████████████████████████████████████████████| 469/469 [10:04<00:00,  1.29s/it]\n",
      "100%|██████████████████████████████████████████████████████████████████████████████████| 79/79 [00:44<00:00,  1.76it/s]\n",
      "  0%|                                                                                          | 0/469 [00:00<?, ?it/s]"
     ]
    },
    {
     "name": "stdout",
     "output_type": "stream",
     "text": [
      "Epoch: 4, loss: 0.26158407330513, accuracy: 90.26\n"
     ]
    },
    {
     "name": "stderr",
     "output_type": "stream",
     "text": [
      "100%|████████████████████████████████████████████████████████████████████████████████| 469/469 [10:00<00:00,  1.28s/it]\n",
      "100%|██████████████████████████████████████████████████████████████████████████████████| 79/79 [00:38<00:00,  2.04it/s]\n",
      "  0%|                                                                                          | 0/469 [00:00<?, ?it/s]"
     ]
    },
    {
     "name": "stdout",
     "output_type": "stream",
     "text": [
      "Epoch: 5, loss: 0.27220848202705383, accuracy: 90.07\n"
     ]
    },
    {
     "name": "stderr",
     "output_type": "stream",
     "text": [
      "100%|████████████████████████████████████████████████████████████████████████████████| 469/469 [09:55<00:00,  1.27s/it]\n",
      "100%|██████████████████████████████████████████████████████████████████████████████████| 79/79 [00:39<00:00,  2.00it/s]\n",
      "  0%|                                                                                          | 0/469 [00:00<?, ?it/s]"
     ]
    },
    {
     "name": "stdout",
     "output_type": "stream",
     "text": [
      "Epoch: 6, loss: 0.24537216126918793, accuracy: 91.48\n"
     ]
    },
    {
     "name": "stderr",
     "output_type": "stream",
     "text": [
      "100%|████████████████████████████████████████████████████████████████████████████████| 469/469 [09:45<00:00,  1.25s/it]\n",
      "100%|██████████████████████████████████████████████████████████████████████████████████| 79/79 [00:39<00:00,  2.01it/s]\n",
      "  0%|                                                                                          | 0/469 [00:00<?, ?it/s]"
     ]
    },
    {
     "name": "stdout",
     "output_type": "stream",
     "text": [
      "Epoch: 7, loss: 0.2678825855255127, accuracy: 90.91\n"
     ]
    },
    {
     "name": "stderr",
     "output_type": "stream",
     "text": [
      "100%|████████████████████████████████████████████████████████████████████████████████| 469/469 [09:40<00:00,  1.24s/it]\n",
      "100%|██████████████████████████████████████████████████████████████████████████████████| 79/79 [00:40<00:00,  1.97it/s]\n",
      "  0%|                                                                                          | 0/469 [00:00<?, ?it/s]"
     ]
    },
    {
     "name": "stdout",
     "output_type": "stream",
     "text": [
      "Epoch: 8, loss: 0.2531391680240631, accuracy: 91.1\n"
     ]
    },
    {
     "name": "stderr",
     "output_type": "stream",
     "text": [
      "100%|████████████████████████████████████████████████████████████████████████████████| 469/469 [09:40<00:00,  1.24s/it]\n",
      "100%|██████████████████████████████████████████████████████████████████████████████████| 79/79 [00:38<00:00,  2.08it/s]\n",
      "  0%|                                                                                          | 0/469 [00:00<?, ?it/s]"
     ]
    },
    {
     "name": "stdout",
     "output_type": "stream",
     "text": [
      "Epoch: 9, loss: 0.28068238496780396, accuracy: 90.45\n"
     ]
    },
    {
     "name": "stderr",
     "output_type": "stream",
     "text": [
      "100%|████████████████████████████████████████████████████████████████████████████████| 469/469 [09:47<00:00,  1.25s/it]\n",
      "100%|██████████████████████████████████████████████████████████████████████████████████| 79/79 [00:38<00:00,  2.04it/s]"
     ]
    },
    {
     "name": "stdout",
     "output_type": "stream",
     "text": [
      "Epoch: 10, loss: 0.2543295919895172, accuracy: 91.65\n"
     ]
    },
    {
     "name": "stderr",
     "output_type": "stream",
     "text": [
      "\n"
     ]
    }
   ],
   "source": [
    "model3_2 = ResNet(Bottleneck, [2, 5, 3, 2])\n",
    "optimizer3_2 = torch.optim.RMSprop(model3_2.parameters(), lr=0.0005, alpha=0.99, eps=1e-08, momentum=0.8)\n",
    "acc3_RMS, loss3_RMS = train_model(model3_2, [train_dataloader, eval_dataloader], optimizer3_2)"
   ]
  },
  {
   "cell_type": "code",
   "execution_count": 137,
   "metadata": {},
   "outputs": [
    {
     "data": {
      "image/png": "[encoded data removed]",
      "text/plain": [
       "<Figure size 576x432 with 1 Axes>"
      ]
     },
     "metadata": {
      "needs_background": "light"
     },
     "output_type": "display_data"
    },
    {
     "data": {
      "image/png": "[encoded data removed]",
      "text/plain": [
       "<Figure size 576x432 with 1 Axes>"
      ]
     },
     "metadata": {
      "needs_background": "light"
     },
     "output_type": "display_data"
    }
   ],
   "source": [
    "model_visualisation([acc3_SGD, loss3_SGD, acc3_RMS, loss3_RMS], mode='optimizers')"
   ]
  },
  {
   "cell_type": "markdown",
   "metadata": {},
   "source": [
    "## Сравнение моделей"
   ]
  },
  {
   "cell_type": "code",
   "execution_count": 138,
   "metadata": {},
   "outputs": [
    {
     "data": {
      "image/png": "[encoded data removed]",
      "text/plain": [
       "<Figure size 576x432 with 1 Axes>"
      ]
     },
     "metadata": {
      "needs_background": "light"
     },
     "output_type": "display_data"
    },
    {
     "data": {
      "image/png": "[encoded data removed]",
      "text/plain": [
       "<Figure size 576x432 with 1 Axes>"
      ]
     },
     "metadata": {
      "needs_background": "light"
     },
     "output_type": "display_data"
    }
   ],
   "source": [
    "model_visualisation([acc1_SGD, loss1_SGD, acc2_RMS, loss2_RMS, acc3_RMS, loss3_RMS], 'models')"
   ]
  },
  {
   "cell_type": "markdown",
   "metadata": {},
   "source": [
    "# Выводы"
   ]
  },
  {
   "cell_type": "markdown",
   "metadata": {},
   "source": [
    "На 10 эпохах обучения с заданными не самым лучшим образом гиперпараметрами лучшие результаты показала **Resnet подобная** сеть с SGD оптимизатором. Однако, данная архитектура не очень эффективна с точки зрения вычислительных потребностей для решения нашей задачи классификации. Поэтому победителем в соревновании моделей становится **Сверточная сеть** с RMSprop оптимизатором, которая за 10 эпох смогла обучиться различать классы на картинках с точностью 89 процентов всего лишь за 3 минуты."
   ]
  },
  {
   "cell_type": "code",
   "execution_count": null,
   "metadata": {},
   "outputs": [],
   "source": []
  }
 ],
 "metadata": {
  "kernelspec": {
   "display_name": "Python 2",
   "language": "python",
   "name": "python2"
  },
  "language_info": {
   "codemirror_mode": {
    "name": "ipython",
    "version": 2
   },
   "file_extension": ".py",
   "mimetype": "text/x-python",
   "name": "python",
   "nbconvert_exporter": "python",
   "pygments_lexer": "ipython2",
   "version": "2.7.6"
  }
 },
 "nbformat": 4,
 "nbformat_minor": 4
}
