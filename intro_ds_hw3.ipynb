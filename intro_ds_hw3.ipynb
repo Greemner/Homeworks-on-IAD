{
 "cells": [
  {
   "cell_type": "markdown",
   "metadata": {
    "colab_type": "text",
    "id": "IHgmxWG_7lnE"
   },
   "source": [
    "# Введение в анализ данных\n",
    "## НИУ ВШЭ, 2019-2020 учебный год\n",
    "\n",
    "### Домашнее задание №3\n",
    "\n",
    "Задание выполнил: Кувайцев Константин\n",
    "\n",
    "### Общая информация\n",
    "Дата выдачи: \n",
    "\n",
    "Дедлайн: \n",
    "\n",
    "### О задании\n",
    "\n",
    "В этом домашнем задании вы будете работать с линейной классификацией, попрактикуетесь на реальной задаче классификации текстов.\n",
    "\n",
    "Для решения этого домашнего задания намного удобнее будет использовать Colab, так как данных много.\n",
    "\n",
    "### Оценивание и штрафы\n",
    "\n",
    "За сдачу задания позже срока на итоговую оценку за задание накладывается штраф в размере 1 балл в день, но получить отрицательную оценку нельзя.\n",
    "\n",
    "__Внимание!__ Домашнее задание выполняется самостоятельно. «Похожие» решения считаются плагиатом и все задействованные студенты (в том числе те, у кого списали) не могут получить за него больше 0 баллов.\n",
    "\n",
    "### Формат сдачи\n",
    "Загрузка файлов с решениями происходит в системе Anytask."
   ]
  },
  {
   "cell_type": "markdown",
   "metadata": {
    "colab_type": "text",
    "id": "ztx03xvr9T95"
   },
   "source": [
    "### Подготовка данных"
   ]
  },
  {
   "cell_type": "code",
   "execution_count": 1,
   "metadata": {
    "colab": {},
    "colab_type": "code",
    "id": "BVrrwTJNjuDt"
   },
   "outputs": [],
   "source": [
    "import numpy as np\n",
    "import pandas as pd\n",
    "\n",
    "import matplotlib.pyplot as plt\n",
    "%matplotlib inline\n",
    "\n",
    "from tqdm import tqdm\n",
    "from sklearn.model_selection import train_test_split\n",
    "from nltk.tokenize import WordPunctTokenizer"
   ]
  },
  {
   "cell_type": "code",
   "execution_count": 2,
   "metadata": {
    "colab": {
     "base_uri": "https://localhost:8080/",
     "height": 373
    },
    "colab_type": "code",
    "executionInfo": {
     "elapsed": 3909,
     "status": "ok",
     "timestamp": 1587303186985,
     "user": {
      "displayName": "Костя Кувайцев",
      "photoUrl": "",
      "userId": "12094825826995669744"
     },
     "user_tz": -240
    },
    "id": "_VMchexbjjTh",
    "outputId": "8d1483af-d2ae-4641-81bb-ea46838f73f0"
   },
   "outputs": [
    {
     "name": "stderr",
     "output_type": "stream",
     "text": [
      "\"wget\" ­Ґ пў«пҐвбп ў­гваҐ­­Ґ© Ё«Ё ў­Ґи­Ґ©\n",
      "Є®¬ ­¤®©, ЁбЇ®«­пҐ¬®© Їа®Ја ¬¬®© Ё«Ё Ї ЄҐв­л¬ д ©«®¬.\n"
     ]
    }
   ],
   "source": [
    "# Датасет можно скачать здесь\n",
    "\n",
    "!wget https://www.dropbox.com/s/tg55q9mrziroyrs/train_subset.csv"
   ]
  },
  {
   "cell_type": "markdown",
   "metadata": {
    "colab_type": "text",
    "id": "rvXKae8q9nn-"
   },
   "source": [
    "### Данные\n",
    "\n",
    "Мы имеем дело с данными с торговой платформы Avito.\n",
    "Для каждого товара представлены следующие параметры:\n",
    " - title\n",
    " - description\n",
    " - Category_name\n",
    " - Category\n",
    "\n",
    "Имеется информация об объектах 50 классов.\n",
    "Задача: по новым объектам (title, description) предсказать Category.\n",
    "(Очевидно, что параметр Category_name для предсказания классов использовать нельзя)"
   ]
  },
  {
   "cell_type": "code",
   "execution_count": 3,
   "metadata": {
    "colab": {
     "base_uri": "https://localhost:8080/",
     "height": 225
    },
    "colab_type": "code",
    "executionInfo": {
     "elapsed": 1320,
     "status": "ok",
     "timestamp": 1587303190298,
     "user": {
      "displayName": "Костя Кувайцев",
      "photoUrl": "",
      "userId": "12094825826995669744"
     },
     "user_tz": -240
    },
    "id": "BqEuoDhqNgoa",
    "outputId": "a54cb8a8-612a-471b-b5d1-d8d8a9226899"
   },
   "outputs": [
    {
     "data": {
      "text/html": [
       "<div>\n",
       "<style scoped>\n",
       "    .dataframe tbody tr th:only-of-type {\n",
       "        vertical-align: middle;\n",
       "    }\n",
       "\n",
       "    .dataframe tbody tr th {\n",
       "        vertical-align: top;\n",
       "    }\n",
       "\n",
       "    .dataframe thead th {\n",
       "        text-align: right;\n",
       "    }\n",
       "</style>\n",
       "<table border=\"1\" class=\"dataframe\">\n",
       "  <thead>\n",
       "    <tr style=\"text-align: right;\">\n",
       "      <th></th>\n",
       "      <th>title</th>\n",
       "      <th>description</th>\n",
       "      <th>Category_name</th>\n",
       "      <th>Category</th>\n",
       "    </tr>\n",
       "    <tr>\n",
       "      <th>id</th>\n",
       "      <th></th>\n",
       "      <th></th>\n",
       "      <th></th>\n",
       "      <th></th>\n",
       "    </tr>\n",
       "  </thead>\n",
       "  <tbody>\n",
       "    <tr>\n",
       "      <th>382220</th>\n",
       "      <td>Прихожая</td>\n",
       "      <td>В хорошем состоянии. Торг</td>\n",
       "      <td>Мебель и интерьер</td>\n",
       "      <td>20</td>\n",
       "    </tr>\n",
       "    <tr>\n",
       "      <th>397529</th>\n",
       "      <td>Кордиант 215/55/16 Летние</td>\n",
       "      <td>Кордиант 215/55/16 Летние/\\n /\\nАртикул: 1737l...</td>\n",
       "      <td>Запчасти и аксессуары</td>\n",
       "      <td>10</td>\n",
       "    </tr>\n",
       "    <tr>\n",
       "      <th>584569</th>\n",
       "      <td>Стол</td>\n",
       "      <td>Стол, 2 рабочих места . Стол серого цвета, в д...</td>\n",
       "      <td>Мебель и интерьер</td>\n",
       "      <td>20</td>\n",
       "    </tr>\n",
       "    <tr>\n",
       "      <th>2513100</th>\n",
       "      <td>Комбинезон</td>\n",
       "      <td>Размер-42/44</td>\n",
       "      <td>Одежда, обувь, аксессуары</td>\n",
       "      <td>27</td>\n",
       "    </tr>\n",
       "    <tr>\n",
       "      <th>1091886</th>\n",
       "      <td>Ветровка</td>\n",
       "      <td>На 2 года</td>\n",
       "      <td>Детская одежда и обувь</td>\n",
       "      <td>29</td>\n",
       "    </tr>\n",
       "  </tbody>\n",
       "</table>\n",
       "</div>"
      ],
      "text/plain": [
       "                             title  \\\n",
       "id                                   \n",
       "382220                    Прихожая   \n",
       "397529   Кордиант 215/55/16 Летние   \n",
       "584569                        Стол   \n",
       "2513100                 Комбинезон   \n",
       "1091886                   Ветровка   \n",
       "\n",
       "                                               description  \\\n",
       "id                                                           \n",
       "382220                           В хорошем состоянии. Торг   \n",
       "397529   Кордиант 215/55/16 Летние/\\n /\\nАртикул: 1737l...   \n",
       "584569   Стол, 2 рабочих места . Стол серого цвета, в д...   \n",
       "2513100                                       Размер-42/44   \n",
       "1091886                                          На 2 года   \n",
       "\n",
       "                     Category_name  Category  \n",
       "id                                            \n",
       "382220           Мебель и интерьер        20  \n",
       "397529       Запчасти и аксессуары        10  \n",
       "584569           Мебель и интерьер        20  \n",
       "2513100  Одежда, обувь, аксессуары        27  \n",
       "1091886     Детская одежда и обувь        29  "
      ]
     },
     "execution_count": 3,
     "metadata": {},
     "output_type": "execute_result"
    }
   ],
   "source": [
    "data = pd.read_csv(\"train_subset.csv\", index_col='id')\n",
    "\n",
    "data.head()"
   ]
  },
  {
   "cell_type": "code",
   "execution_count": 4,
   "metadata": {
    "colab": {
     "base_uri": "https://localhost:8080/",
     "height": 34
    },
    "colab_type": "code",
    "executionInfo": {
     "elapsed": 716,
     "status": "ok",
     "timestamp": 1587303191832,
     "user": {
      "displayName": "Костя Кувайцев",
      "photoUrl": "",
      "userId": "12094825826995669744"
     },
     "user_tz": -240
    },
    "id": "Kg8iPp7fiwGh",
    "outputId": "1f5ec270-655a-4814-e74f-d9eb30a58a40"
   },
   "outputs": [
    {
     "data": {
      "text/plain": [
       "(30000, 4)"
      ]
     },
     "execution_count": 4,
     "metadata": {},
     "output_type": "execute_result"
    }
   ],
   "source": [
    "data.shape"
   ]
  },
  {
   "cell_type": "code",
   "execution_count": 5,
   "metadata": {
    "colab": {},
    "colab_type": "code",
    "id": "A1hvzAMETU2d"
   },
   "outputs": [],
   "source": [
    "X = data[['title', 'description']].to_numpy()\n",
    "y = data['Category'].to_numpy()\n",
    "\n",
    "del data"
   ]
  },
  {
   "cell_type": "markdown",
   "metadata": {
    "colab_type": "text",
    "id": "tMYU7zZw_cw-"
   },
   "source": [
    "Сразу разделим выборку на train и test.\n",
    "Никакие данные из test для обучения использовать нельзя!"
   ]
  },
  {
   "cell_type": "code",
   "execution_count": 6,
   "metadata": {
    "colab": {},
    "colab_type": "code",
    "id": "6fia4_3vNprp"
   },
   "outputs": [],
   "source": [
    "X_train, X_test, y_train, y_test = train_test_split(X, y, test_size=0.3, random_state=42)"
   ]
  },
  {
   "cell_type": "code",
   "execution_count": 7,
   "metadata": {
    "colab": {},
    "colab_type": "code",
    "id": "qDR8LtTJUIGt"
   },
   "outputs": [],
   "source": [
    "X_train[:5]\n",
    "\n",
    "del X, y"
   ]
  },
  {
   "cell_type": "markdown",
   "metadata": {
    "colab_type": "text",
    "id": "X-ZEdlEGAXTD"
   },
   "source": [
    "### Токенизация (1 балл)\n",
    "\n",
    "\n",
    "Токенизация -- разбиение текста на мелкие части, которые можно обработать машинными методами.\n",
    "Можно использовать разные алгоритмы токенизации.\n",
    "Давайте пока остановимся на простом WordPunctTokenizer.\n"
   ]
  },
  {
   "cell_type": "code",
   "execution_count": 8,
   "metadata": {
    "colab": {
     "base_uri": "https://localhost:8080/",
     "height": 50
    },
    "colab_type": "code",
    "executionInfo": {
     "elapsed": 640,
     "status": "ok",
     "timestamp": 1587303229830,
     "user": {
      "displayName": "Костя Кувайцев",
      "photoUrl": "",
      "userId": "12094825826995669744"
     },
     "user_tz": -240
    },
    "id": "O9VgNlZ1Qy3o",
    "outputId": "0e74595a-ae3d-4ffa-85b1-9490854fb5a9"
   },
   "outputs": [
    {
     "name": "stdout",
     "output_type": "stream",
     "text": [
      "before: Здраствуйте. Я, Кирилл. Хотел бы чтобы вы сделали игру, 3Д-экшон суть такова...\n",
      "after: здраствуйте . я , кирилл . хотел бы чтобы вы сделали игру , 3д - экшон суть такова ...\n"
     ]
    }
   ],
   "source": [
    "tokenizer = WordPunctTokenizer()\n",
    "\n",
    "\n",
    "def preprocess(text: str) -> str:\n",
    "    return ' '.join(tokenizer.tokenize(text.lower()))\n",
    "\n",
    "\n",
    "text = 'Здраствуйте. Я, Кирилл. Хотел бы чтобы вы сделали игру, 3Д-экшон суть такова...'\n",
    "print(\"before:\", text,)\n",
    "print(\"after:\", preprocess(text),)"
   ]
  },
  {
   "cell_type": "markdown",
   "metadata": {
    "colab_type": "text",
    "id": "x_RYBKC26o1X"
   },
   "source": [
    "__Задание:__ Токенизируйте title и description в train и test"
   ]
  },
  {
   "cell_type": "code",
   "execution_count": 9,
   "metadata": {
    "colab": {},
    "colab_type": "code",
    "id": "Z5WO-7tJUvbs"
   },
   "outputs": [],
   "source": [
    "vect_preprocess = np.vectorize(preprocess)\n",
    "X_train = vect_preprocess(X_train)\n",
    "X_test = vect_preprocess(X_test)"
   ]
  },
  {
   "cell_type": "code",
   "execution_count": 10,
   "metadata": {
    "colab": {
     "base_uri": "https://localhost:8080/",
     "height": 356
    },
    "colab_type": "code",
    "executionInfo": {
     "elapsed": 601,
     "status": "ok",
     "timestamp": 1587303237739,
     "user": {
      "displayName": "Костя Кувайцев",
      "photoUrl": "",
      "userId": "12094825826995669744"
     },
     "user_tz": -240
    },
    "id": "kARGeJQwYTil",
    "outputId": "d860ccda-37d2-40ea-d7d3-7dabcee7b8fe"
   },
   "outputs": [
    {
     "data": {
      "text/plain": [
       "array([['сапоги 46 размер новые', 'сапоги 46 размер новые'],\n",
       "       ['светильники потолочный swarovski',\n",
       "        'светильники потолочные swarovski 6 штук , цена за штуку . в эксплуатации 2 года , продаются в связи со сменой интерьера в квартире'],\n",
       "       ['iphone 7 plus 128gb red красный в наличии',\n",
       "        '/ / данная цена только для подписчиков instagram : iqmac / / новый красный айфон 7 plus в наличии это элегантный и мощный смартфон , который готов в полной мере раскрыть новые возможности ios 10 . аппарат с 4 - ядерным процессором а10 и 3 гб озу с легкостью решает самые ресурсоемкие задачи , позволяя наслаждаться быстродействием « тяжелых » приложений и игр на 5 , 5 - дюймовом дисплее . аппарат получил экран , как у ipad pro , так что картинка теперь соответствует кинематографическому стандарту .'],\n",
       "       ['пион ирис ромашка рассада',\n",
       "        'пион куст 500 р ( более 10 шт )/ саженец / корень 100р / растут у нас более 70 лет / розовые , бордовые и белые / на фото цветы 2018г / п . зубчаниновка / либо пл . революции / есть ирисы , ромашка , клубника , боярышник и ирга'],\n",
       "       ['кофта', 'состояние отличное'],\n",
       "       ['1 - к квартира , 33 м² , 4 / 5 эт .',\n",
       "        'продаётся уютная , тёплая квартира в экологически - чистом районе города , рядом сосновый бор , всегда чистый воздух . дом 2004 г ., хорошие соседи , на площадке 2 - е квартиры , развитая инфраструктура , в шаговой доступности поликлиника , школа , тк « орбита », вещевой рынок . квартира в хорошем состоянии . подходит под ипотеку , долгов , обременений , перепланировке нет . в квартире натяжные потолки , в ванной комнате стены выполнены из влагостойких стеновых панелей . возможен обмен на квартиру в г . магнитогорске , торг .'],\n",
       "       ['платье новое 60 размера',\n",
       "        'платье 60 размера , новое , красивого темно синего цвета , из трикотажной ткани : вискоза 95 %, эластина 5 % . а - образного силуэта с рукавом 2 / 3 . длинна по спинке 113см .'],\n",
       "       ['ваз 2114 samara , 2007',\n",
       "        'продам ваз 2114 2007 г . в . в хорошем состоянии . / 2 владельца , птс оригинал . / машина в родной краске , в дтп никогда не была ,/ днище целое не ржавое . по ходовой нареканий нет , сел и поехал . / имеется музыка , сигнализация 2 комплекта ключей , птф , передние стеклоподъемники ./ небольшой торг при осмотре . / обмен не интересует .'],\n",
       "       ['наушники блутус',\n",
       "        'долго держат заряд 4 - 5 часов , можно и больше при средней громкости выжать из них . вкладыши .'],\n",
       "       ['пальто tommy hilfiger',\n",
       "        'состояние нового . промахнулась с размером . пальто до - 10 - 12 градусов . / возможна пересылка по почте']],\n",
       "      dtype='<U3491')"
      ]
     },
     "execution_count": 10,
     "metadata": {},
     "output_type": "execute_result"
    }
   ],
   "source": [
    "X_train[:10]"
   ]
  },
  {
   "cell_type": "code",
   "execution_count": 11,
   "metadata": {
    "colab": {},
    "colab_type": "code",
    "id": "VDnDSWwFDwFo"
   },
   "outputs": [],
   "source": [
    "assert X_train[10][1] == 'продам иж планета 3 , 76 год , ( стоит на старом учёте , документы утеряны ) на ходу , хорошее состояние , все интересующие вопросы по телефону ( с родной коляской на 3 тысячи дороже ) . торга не будет .'"
   ]
  },
  {
   "cell_type": "markdown",
   "metadata": {
    "colab_type": "text",
    "id": "hlIITUk0AsmS"
   },
   "source": [
    "### BOW (1.5 балла)\n",
    "\n",
    "Один из традиционных подходов -- построение bag of words.\n",
    "\n",
    "Метод состоит в следующем:\n",
    "\n",
    " - Составить словарь самых часто встречающихся слов в train data\n",
    " - Для каждого примера из train посчитать, сколько раз каждое слово из словаря в нём встречается\n",
    "\n",
    "\n",
    " В sklearn есть CountVectorizer, но в этом задании его использовать нельзя."
   ]
  },
  {
   "cell_type": "markdown",
   "metadata": {
    "colab_type": "text",
    "id": "GMKUttDWIF92"
   },
   "source": [
    "__Задание:__ Найдите k самых частых слов, отсортируйте их по убыванию частотности (k=10000)"
   ]
  },
  {
   "cell_type": "code",
   "execution_count": 12,
   "metadata": {
    "colab": {},
    "colab_type": "code",
    "id": "ZEVE_bzkRBx0"
   },
   "outputs": [],
   "source": [
    "bow_vocabulary = {}\n",
    "\n",
    "\n",
    "def freq_words(string):\n",
    "    words = string.split(' ')\n",
    "    for word in words:\n",
    "        bow_vocabulary[word] = bow_vocabulary.get(word, 0) - 1\n",
    "    return 0\n",
    "\n",
    "\n",
    "vect_freq_words = np.vectorize(freq_words)\n",
    "vect_freq_words(X_train)\n",
    "bow_vocabulary = list(bow_vocabulary.items())\n",
    "bow_vocabulary.sort(key=lambda i: i[1])\n",
    "bow_vocabulary = np.array(bow_vocabulary)\n",
    "words_counts = bow_vocabulary.copy()"
   ]
  },
  {
   "cell_type": "code",
   "execution_count": 13,
   "metadata": {
    "colab": {},
    "colab_type": "code",
    "id": "Byo8LqAAbGhA"
   },
   "outputs": [],
   "source": [
    "bow_vocabulary = bow_vocabulary[0:10000, 0]\n"
   ]
  },
  {
   "cell_type": "code",
   "execution_count": 14,
   "metadata": {
    "colab": {},
    "colab_type": "code",
    "id": "QTs70ZxVbk0J"
   },
   "outputs": [],
   "source": [
    "assert sorted(bow_vocabulary)[::200] == ['!', '12500', '270', '700', 'by', 'gh', 'michael', 'sonata', 'ø', 'аудиоподготовка', 'большим', 'веса', 'воспроизведения', 'габариты', 'гтд', 'джинсами', 'доступность', 'загрузки', 'зимней', 'использовался', 'квартала', 'коммуникации', 'кошки', 'лакированные', 'магазин', 'металл', 'мск', 'натуральным', 'носке', 'одному', 'отвечаем', 'пассат', 'плотно', 'покраску', 'постоянные', 'примеры', 'просьба', 'размещайте', 'репетитор', 'сантехник', 'сидения', 'современного', 'стала', 'схема', 'тон', 'удлиненная', 'фасад', 'цветами', 'шея', 'эту']"
   ]
  },
  {
   "cell_type": "code",
   "execution_count": 15,
   "metadata": {
    "colab": {
     "base_uri": "https://localhost:8080/",
     "height": 34
    },
    "colab_type": "code",
    "executionInfo": {
     "elapsed": 536,
     "status": "ok",
     "timestamp": 1587303254078,
     "user": {
      "displayName": "Костя Кувайцев",
      "photoUrl": "",
      "userId": "12094825826995669744"
     },
     "user_tz": -240
    },
    "id": "3aqP8RlKbGhF",
    "outputId": "4f0353b8-eaae-4036-ab7f-680bfc81e8a7"
   },
   "outputs": [
    {
     "data": {
      "text/plain": [
       "array([0, 0, 0, ..., 0, 0, 0])"
      ]
     },
     "execution_count": 15,
     "metadata": {},
     "output_type": "execute_result"
    }
   ],
   "source": [
    "data = {}\n",
    "index = 0\n",
    "\n",
    "def list_to_dict(word_count):\n",
    "    global index\n",
    "    data[word_count[0]] = (-int(word_count[1]), index) \n",
    "    index += 1\n",
    "    return 0\n",
    "\n",
    "\n",
    "np.apply_along_axis(list_to_dict, 1, words_counts[0:10000])"
   ]
  },
  {
   "cell_type": "code",
   "execution_count": 16,
   "metadata": {
    "colab": {},
    "colab_type": "code",
    "id": "4awkhecbR9om"
   },
   "outputs": [],
   "source": [
    "def text_to_bow(text: str) -> np.array:\n",
    "    \"\"\"\n",
    "    Возвращает вектор, где для каждого слова из most_common\n",
    "    указано количество его употреблений\n",
    "    \"\"\" \n",
    "    answer = [0] * 10000\n",
    "    words = text.split(' ')\n",
    "    \n",
    "    for word in words:\n",
    "        if word in data:\n",
    "            answer[data[word][1]] += 1\n",
    "\n",
    "    \n",
    "    return np.array(answer)"
   ]
  },
  {
   "cell_type": "code",
   "execution_count": 17,
   "metadata": {
    "colab": {},
    "colab_type": "code",
    "id": "IZnJT2JbdXA3"
   },
   "outputs": [],
   "source": [
    "assert np.allclose(np.where(text_to_bow(\"сдаётся уютный , тёплый гараж для стартапов в ml\") != 0)[0],\n",
    "                   np.array([   1,    4,   12,  565,  866, 1601, 2539, 4063])\n",
    ")"
   ]
  },
  {
   "cell_type": "code",
   "execution_count": 18,
   "metadata": {
    "colab": {},
    "colab_type": "code",
    "id": "HR_D8Fn4pudv"
   },
   "outputs": [],
   "source": [
    "def items_to_bow(items: np.array) -> np.array:\n",
    "    \"\"\" Для каждого товара возвращает вектор его bow \"\"\"\n",
    "    # Давайте для начала попробуем строить bow только из description товара\n",
    "    # assert ниже написан для bow из description\n",
    "    answer = [0] * len(items)\n",
    "    \n",
    "    for i in range(len(items)):\n",
    "        answer[i] = text_to_bow(items[i][1])\n",
    "        \n",
    "    return np.array(answer)"
   ]
  },
  {
   "cell_type": "code",
   "execution_count": 19,
   "metadata": {
    "colab": {},
    "colab_type": "code",
    "id": "pKdfMqbIetPA"
   },
   "outputs": [],
   "source": [
    "assert np.allclose(np.where(items_to_bow([X_train[42]])[0] != 0),\n",
    "                   np.array([   0, 1, 2, 5, 6, 7, 12, 27, 41, 49, 110,\n",
    "                                189,  208,  221, 2032, 3052, 7179, 9568]),\n",
    ")"
   ]
  },
  {
   "cell_type": "code",
   "execution_count": 20,
   "metadata": {
    "colab": {},
    "colab_type": "code",
    "id": "wwOZaEpMSQsZ"
   },
   "outputs": [],
   "source": [
    "X_train_bow = items_to_bow(X_train)\n",
    "X_test_bow = items_to_bow(X_test)"
   ]
  },
  {
   "cell_type": "code",
   "execution_count": 21,
   "metadata": {
    "colab": {},
    "colab_type": "code",
    "id": "bJVLS8Fs3CeT"
   },
   "outputs": [],
   "source": [
    "from sklearn.metrics import accuracy_score"
   ]
  },
  {
   "cell_type": "markdown",
   "metadata": {
    "colab_type": "text",
    "id": "vJoXiCWI7VF5"
   },
   "source": [
    "### Логистическая регрессия и SVC (1 балл)\n",
    "\n",
    "\n",
    "Теперь описание каждого товара представлено, как точка в многомерном пространстве.\n",
    "Очень важно запомнить эту идею: дальше мы будем рассматривать разные способы перехода от текста к точке в пространстве.\n",
    "\n",
    "Для BOW каждое измерение в пространстве -- какое-то слово.\n",
    "Мы предполагаем, что текст описывается набором каких-то популярных слов, которые в нём встречаются, а близкие по смыслу тексты будут использовать одинаковые слова.\n",
    "\n",
    "Обучите логистическую регрессию и SVC с базовыми параметрами.\n"
   ]
  },
  {
   "cell_type": "code",
   "execution_count": 22,
   "metadata": {
    "colab": {
     "base_uri": "https://localhost:8080/",
     "height": 168
    },
    "colab_type": "code",
    "executionInfo": {
     "elapsed": 224078,
     "status": "ok",
     "timestamp": 1587303532608,
     "user": {
      "displayName": "Костя Кувайцев",
      "photoUrl": "",
      "userId": "12094825826995669744"
     },
     "user_tz": -240
    },
    "id": "Ky3HV1rTSS9L",
    "outputId": "414df748-b03e-49fa-e73d-3bd5a38eb818"
   },
   "outputs": [
    {
     "name": "stderr",
     "output_type": "stream",
     "text": [
      "/usr/local/lib/python3.6/dist-packages/sklearn/linear_model/_logistic.py:940: ConvergenceWarning: lbfgs failed to converge (status=1):\n",
      "STOP: TOTAL NO. of ITERATIONS REACHED LIMIT.\n",
      "\n",
      "Increase the number of iterations (max_iter) or scale the data as shown in:\n",
      "    https://scikit-learn.org/stable/modules/preprocessing.html\n",
      "Please also refer to the documentation for alternative solver options:\n",
      "    https://scikit-learn.org/stable/modules/linear_model.html#logistic-regression\n",
      "  extra_warning_msg=_LOGISTIC_SOLVER_CONVERGENCE_MSG)\n"
     ]
    },
    {
     "name": "stdout",
     "output_type": "stream",
     "text": [
      "Accuracy LR = 0.7011111111111111\n"
     ]
    }
   ],
   "source": [
    "from sklearn.linear_model import LogisticRegression\n",
    "bow_model = LogisticRegression(max_iter=100).fit(X_train_bow, y_train)\n",
    "lr_acc = accuracy_score(bow_model.predict(X_test_bow), y_test)\n",
    "print('Accuracy LR =', lr_acc)\n",
    "assert accuracy_score(bow_model.predict(X_test_bow), y_test) > 0.7"
   ]
  },
  {
   "cell_type": "code",
   "execution_count": 23,
   "metadata": {
    "colab": {
     "base_uri": "https://localhost:8080/",
     "height": 67
    },
    "colab_type": "code",
    "executionInfo": {
     "elapsed": 8773,
     "status": "ok",
     "timestamp": 1587303553061,
     "user": {
      "displayName": "Костя Кувайцев",
      "photoUrl": "",
      "userId": "12094825826995669744"
     },
     "user_tz": -240
    },
    "id": "-c46ZT0lvF6T",
    "outputId": "2041c42d-3cb7-4c21-84cb-d0a6a95a84ea"
   },
   "outputs": [
    {
     "name": "stderr",
     "output_type": "stream",
     "text": [
      "/usr/local/lib/python3.6/dist-packages/sklearn/svm/_base.py:947: ConvergenceWarning: Liblinear failed to converge, increase the number of iterations.\n",
      "  \"the number of iterations.\", ConvergenceWarning)\n"
     ]
    },
    {
     "name": "stdout",
     "output_type": "stream",
     "text": [
      "Accuracy SVC = 0.6842222222222222\n"
     ]
    }
   ],
   "source": [
    "from sklearn.svm import LinearSVC\n",
    "\n",
    "bow_model = LinearSVC(max_iter=70).fit(X_train_bow, y_train)\n",
    "svc_acc = accuracy_score(bow_model.predict(X_test_bow), y_test)\n",
    "print('Accuracy SVC =', svc_acc)\n",
    "assert accuracy_score(bow_model.predict(X_test_bow), y_test) > 0.68"
   ]
  },
  {
   "cell_type": "markdown",
   "metadata": {
    "colab_type": "text",
    "id": "WwKE57YZ1Hzn"
   },
   "source": [
    "### Модификация признаков (0.5 балла)"
   ]
  },
  {
   "cell_type": "markdown",
   "metadata": {
    "colab_type": "text",
    "id": "ewMlxQezL6Ax"
   },
   "source": [
    "Добавьте title товара в bow с произвольным весом, как изменится качество?"
   ]
  },
  {
   "cell_type": "code",
   "execution_count": 0,
   "metadata": {
    "colab": {},
    "colab_type": "code",
    "id": "evqKo1r5L5BO"
   },
   "outputs": [],
   "source": [
    "def new_text_to_bow(item: np.array) -> np.array:\n",
    "\n",
    "    answer = [0] * 10000\n",
    "    for i in range(2):\n",
    "        words = item[i].split(' ')\n",
    "\n",
    "        for word in words:\n",
    "            if word in data:\n",
    "                answer[data[word][1]] += 1\n",
    "\n",
    "    \n",
    "    return np.array(answer)"
   ]
  },
  {
   "cell_type": "code",
   "execution_count": 0,
   "metadata": {
    "colab": {},
    "colab_type": "code",
    "id": "BE7L9mFubGhh"
   },
   "outputs": [],
   "source": [
    "def new_items_to_bow(items: np.array) -> np.array:\n",
    "\n",
    "    answer = [0] * len(items)\n",
    "    \n",
    "    for i in range(len(items)):\n",
    "        answer[i] = new_text_to_bow(items[i])\n",
    "        \n",
    "    return np.array(answer)"
   ]
  },
  {
   "cell_type": "markdown",
   "metadata": {
    "colab_type": "text",
    "id": "TIonjyj2bGhj"
   },
   "source": [
    "### Добавление title"
   ]
  },
  {
   "cell_type": "code",
   "execution_count": 0,
   "metadata": {
    "colab": {},
    "colab_type": "code",
    "id": "k1L4ZhhKbGhj"
   },
   "outputs": [],
   "source": [
    "X_train_bow_title = new_items_to_bow(X_train)\n",
    "X_test_bow_title = new_items_to_bow(X_test)\n",
    "del X_train_bow, X_test_bow"
   ]
  },
  {
   "cell_type": "code",
   "execution_count": 28,
   "metadata": {
    "colab": {
     "base_uri": "https://localhost:8080/",
     "height": 168
    },
    "colab_type": "code",
    "executionInfo": {
     "elapsed": 223683,
     "status": "ok",
     "timestamp": 1587304003502,
     "user": {
      "displayName": "Костя Кувайцев",
      "photoUrl": "",
      "userId": "12094825826995669744"
     },
     "user_tz": -240
    },
    "id": "p2ldFQx8bGhm",
    "outputId": "33062d5d-b55c-40f5-d1fc-f37774b5cb4a"
   },
   "outputs": [
    {
     "name": "stderr",
     "output_type": "stream",
     "text": [
      "/usr/local/lib/python3.6/dist-packages/sklearn/linear_model/_logistic.py:940: ConvergenceWarning: lbfgs failed to converge (status=1):\n",
      "STOP: TOTAL NO. of ITERATIONS REACHED LIMIT.\n",
      "\n",
      "Increase the number of iterations (max_iter) or scale the data as shown in:\n",
      "    https://scikit-learn.org/stable/modules/preprocessing.html\n",
      "Please also refer to the documentation for alternative solver options:\n",
      "    https://scikit-learn.org/stable/modules/linear_model.html#logistic-regression\n",
      "  extra_warning_msg=_LOGISTIC_SOLVER_CONVERGENCE_MSG)\n"
     ]
    },
    {
     "name": "stdout",
     "output_type": "stream",
     "text": [
      "Accuracy LR после добавления title = 0.7812222222222223\n"
     ]
    }
   ],
   "source": [
    "bow_model = LogisticRegression(max_iter=100).fit(X_train_bow_title, y_train)\n",
    "lr_acc_title = accuracy_score(bow_model.predict(X_test_bow_title), y_test)\n",
    "print('Accuracy LR после добавления title =', lr_acc_title)"
   ]
  },
  {
   "cell_type": "code",
   "execution_count": 29,
   "metadata": {
    "colab": {
     "base_uri": "https://localhost:8080/",
     "height": 67
    },
    "colab_type": "code",
    "executionInfo": {
     "elapsed": 7966,
     "status": "ok",
     "timestamp": 1587304019336,
     "user": {
      "displayName": "Костя Кувайцев",
      "photoUrl": "",
      "userId": "12094825826995669744"
     },
     "user_tz": -240
    },
    "id": "1_AmXWYqbGho",
    "outputId": "3be23e26-220e-41b8-c764-edb715c840ca"
   },
   "outputs": [
    {
     "name": "stderr",
     "output_type": "stream",
     "text": [
      "/usr/local/lib/python3.6/dist-packages/sklearn/svm/_base.py:947: ConvergenceWarning: Liblinear failed to converge, increase the number of iterations.\n",
      "  \"the number of iterations.\", ConvergenceWarning)\n"
     ]
    },
    {
     "name": "stdout",
     "output_type": "stream",
     "text": [
      "Accuracy SVC после добавления title = 0.7543333333333333\n"
     ]
    }
   ],
   "source": [
    "bow_model = LinearSVC(max_iter=70).fit(X_train_bow_title, y_train)\n",
    "svc_acc_title = accuracy_score(bow_model.predict(X_test_bow_title), y_test)\n",
    "print('Accuracy SVC после добавления title =', svc_acc_title)"
   ]
  },
  {
   "cell_type": "markdown",
   "metadata": {
    "colab_type": "text",
    "id": "STyX4dxUbGhr"
   },
   "source": [
    "### Нормировка"
   ]
  },
  {
   "cell_type": "markdown",
   "metadata": {
    "colab_type": "text",
    "id": "Db4TyqzxMnby"
   },
   "source": [
    "Нормализуйте данные (`sklearn.preprocessing.normalize`) перед обучением. Что станет с качеством и почему?"
   ]
  },
  {
   "cell_type": "code",
   "execution_count": 0,
   "metadata": {
    "colab": {},
    "colab_type": "code",
    "id": "xpCaACCFbGhs"
   },
   "outputs": [],
   "source": [
    "from sklearn.preprocessing import normalize"
   ]
  },
  {
   "cell_type": "code",
   "execution_count": 0,
   "metadata": {
    "colab": {},
    "colab_type": "code",
    "id": "A8rVy6q1Mn4J"
   },
   "outputs": [],
   "source": [
    "norm_X_train_bow = normalize(X_train_bow_title)\n",
    "norm_X_test_bow = normalize(X_test_bow_title)"
   ]
  },
  {
   "cell_type": "code",
   "execution_count": 34,
   "metadata": {
    "colab": {
     "base_uri": "https://localhost:8080/",
     "height": 168
    },
    "colab_type": "code",
    "executionInfo": {
     "elapsed": 231567,
     "status": "ok",
     "timestamp": 1587304344965,
     "user": {
      "displayName": "Костя Кувайцев",
      "photoUrl": "",
      "userId": "12094825826995669744"
     },
     "user_tz": -240
    },
    "id": "bp6NCqXEbGhx",
    "outputId": "cb2f6bb9-fada-4093-d3dd-112210fb60a9"
   },
   "outputs": [
    {
     "name": "stderr",
     "output_type": "stream",
     "text": [
      "/usr/local/lib/python3.6/dist-packages/sklearn/linear_model/_logistic.py:940: ConvergenceWarning: lbfgs failed to converge (status=1):\n",
      "STOP: TOTAL NO. of ITERATIONS REACHED LIMIT.\n",
      "\n",
      "Increase the number of iterations (max_iter) or scale the data as shown in:\n",
      "    https://scikit-learn.org/stable/modules/preprocessing.html\n",
      "Please also refer to the documentation for alternative solver options:\n",
      "    https://scikit-learn.org/stable/modules/linear_model.html#logistic-regression\n",
      "  extra_warning_msg=_LOGISTIC_SOLVER_CONVERGENCE_MSG)\n"
     ]
    },
    {
     "name": "stdout",
     "output_type": "stream",
     "text": [
      "Accuracy LR после нормировки = 0.677\n"
     ]
    }
   ],
   "source": [
    "bow_model = LogisticRegression(max_iter=100).fit(norm_X_train_bow, y_train)\n",
    "norm_lr_acc = accuracy_score(bow_model.predict(norm_X_test_bow), y_test)\n",
    "print('Accuracy LR после нормировки =', norm_lr_acc)"
   ]
  },
  {
   "cell_type": "code",
   "execution_count": 35,
   "metadata": {
    "colab": {
     "base_uri": "https://localhost:8080/",
     "height": 34
    },
    "colab_type": "code",
    "executionInfo": {
     "elapsed": 6489,
     "status": "ok",
     "timestamp": 1587304360841,
     "user": {
      "displayName": "Костя Кувайцев",
      "photoUrl": "",
      "userId": "12094825826995669744"
     },
     "user_tz": -240
    },
    "id": "Rvp2HT8EbGhz",
    "outputId": "c2395f03-ab77-47ca-a84d-082d2d5f1dd1"
   },
   "outputs": [
    {
     "name": "stdout",
     "output_type": "stream",
     "text": [
      "Accuracy SVC после нормировки = 0.7987777777777778\n"
     ]
    }
   ],
   "source": [
    "bow_model = LinearSVC(max_iter=70).fit(norm_X_train_bow, y_train)\n",
    "norm_svc_acc = accuracy_score(bow_model.predict(norm_X_test_bow), y_test)\n",
    "print('Accuracy SVC после нормировки =', norm_svc_acc)"
   ]
  },
  {
   "cell_type": "code",
   "execution_count": 0,
   "metadata": {
    "colab": {},
    "colab_type": "code",
    "id": "UT8HXtlmrfFS"
   },
   "outputs": [],
   "source": [
    "del norm_X_train_bow, norm_X_test_bow, X_train_bow_title, X_test_bow_title"
   ]
  },
  {
   "cell_type": "markdown",
   "metadata": {
    "colab_type": "text",
    "id": "HvCAL3qGDByj"
   },
   "source": [
    "### mystem (0.5) балла\n",
    "\n",
    "Попробуйте обучиться, используя токенизатор mystem. Сравните качество."
   ]
  },
  {
   "cell_type": "code",
   "execution_count": 37,
   "metadata": {
    "colab": {
     "base_uri": "https://localhost:8080/",
     "height": 302
    },
    "colab_type": "code",
    "executionInfo": {
     "elapsed": 8717,
     "status": "ok",
     "timestamp": 1587304379283,
     "user": {
      "displayName": "Костя Кувайцев",
      "photoUrl": "",
      "userId": "12094825826995669744"
     },
     "user_tz": -240
    },
    "id": "Hz38TqqRDY6-",
    "outputId": "6528eeda-7905-4e10-d2ba-c13bbf1a34e4"
   },
   "outputs": [
    {
     "name": "stdout",
     "output_type": "stream",
     "text": [
      "--2020-04-19 13:52:51--  http://download.cdn.yandex.net/mystem/mystem-3.0-linux3.1-64bit.tar.gz\n",
      "Resolving download.cdn.yandex.net (download.cdn.yandex.net)... 5.45.205.241, 5.45.205.245, 5.45.205.244, ...\n",
      "Connecting to download.cdn.yandex.net (download.cdn.yandex.net)|5.45.205.241|:80... connected.\n",
      "HTTP request sent, awaiting response... 302 Found\n",
      "Location: http://cache-mskm906.cdn.yandex.net/download.cdn.yandex.net/mystem/mystem-3.0-linux3.1-64bit.tar.gz [following]\n",
      "--2020-04-19 13:52:52--  http://cache-mskm906.cdn.yandex.net/download.cdn.yandex.net/mystem/mystem-3.0-linux3.1-64bit.tar.gz\n",
      "Resolving cache-mskm906.cdn.yandex.net (cache-mskm906.cdn.yandex.net)... 5.45.220.16, 2a02:6b8:0:2002::17\n",
      "Connecting to cache-mskm906.cdn.yandex.net (cache-mskm906.cdn.yandex.net)|5.45.220.16|:80... connected.\n",
      "HTTP request sent, awaiting response... 200 OK\n",
      "Length: 16457938 (16M) [application/octet-stream]\n",
      "Saving to: ‘mystem-3.0-linux3.1-64bit.tar.gz.1’\n",
      "\n",
      "mystem-3.0-linux3.1 100%[===================>]  15.70M  8.90MB/s    in 1.8s    \n",
      "\n",
      "2020-04-19 13:52:54 (8.90 MB/s) - ‘mystem-3.0-linux3.1-64bit.tar.gz.1’ saved [16457938/16457938]\n",
      "\n",
      "mystem\n"
     ]
    }
   ],
   "source": [
    "!wget http://download.cdn.yandex.net/mystem/mystem-3.0-linux3.1-64bit.tar.gz\n",
    "!tar -xvf mystem-3.0-linux3.1-64bit.tar.gz\n",
    "!cp mystem /bin"
   ]
  },
  {
   "cell_type": "code",
   "execution_count": 38,
   "metadata": {
    "colab": {
     "base_uri": "https://localhost:8080/",
     "height": 252
    },
    "colab_type": "code",
    "executionInfo": {
     "elapsed": 6660,
     "status": "ok",
     "timestamp": 1587304389056,
     "user": {
      "displayName": "Костя Кувайцев",
      "photoUrl": "",
      "userId": "12094825826995669744"
     },
     "user_tz": -240
    },
    "id": "60oQ-6UgDcLF",
    "outputId": "303d0aa3-1e77-4566-ea14-becbf928cc32"
   },
   "outputs": [
    {
     "name": "stdout",
     "output_type": "stream",
     "text": [
      "Collecting git+https://github.com/nlpub/pymystem3\n",
      "  Cloning https://github.com/nlpub/pymystem3 to /tmp/pip-req-build-ihhn4cn2\n",
      "  Running command git clone -q https://github.com/nlpub/pymystem3 /tmp/pip-req-build-ihhn4cn2\n",
      "Requirement already satisfied (use --upgrade to upgrade): pymystem3==0.2.0 from git+https://github.com/nlpub/pymystem3 in /usr/local/lib/python3.6/dist-packages\n",
      "Requirement already satisfied: requests in /usr/local/lib/python3.6/dist-packages (from pymystem3==0.2.0) (2.21.0)\n",
      "Requirement already satisfied: certifi>=2017.4.17 in /usr/local/lib/python3.6/dist-packages (from requests->pymystem3==0.2.0) (2020.4.5.1)\n",
      "Requirement already satisfied: urllib3<1.25,>=1.21.1 in /usr/local/lib/python3.6/dist-packages (from requests->pymystem3==0.2.0) (1.24.3)\n",
      "Requirement already satisfied: idna<2.9,>=2.5 in /usr/local/lib/python3.6/dist-packages (from requests->pymystem3==0.2.0) (2.8)\n",
      "Requirement already satisfied: chardet<3.1.0,>=3.0.2 in /usr/local/lib/python3.6/dist-packages (from requests->pymystem3==0.2.0) (3.0.4)\n",
      "Building wheels for collected packages: pymystem3\n",
      "  Building wheel for pymystem3 (setup.py) ... \u001b[?25l\u001b[?25hdone\n",
      "  Created wheel for pymystem3: filename=pymystem3-0.2.0-cp36-none-any.whl size=9921 sha256=ff0470e6f443ed83d92d7998465ce0aad5e7cfd57b23816e1c102384e41338cf\n",
      "  Stored in directory: /tmp/pip-ephem-wheel-cache-08eeut7g/wheels/7d/75/c2/216a594291dee680749ce12c60d16125cfe1f363059e7163dc\n",
      "Successfully built pymystem3\n"
     ]
    }
   ],
   "source": [
    "pip install git+https://github.com/nlpub/pymystem3"
   ]
  },
  {
   "cell_type": "code",
   "execution_count": 0,
   "metadata": {
    "colab": {},
    "colab_type": "code",
    "id": "mGvNHfVsDfhq"
   },
   "outputs": [],
   "source": [
    "from pymystem3 import Mystem\n",
    "\n",
    "tokenizer = Mystem()"
   ]
  },
  {
   "cell_type": "code",
   "execution_count": 0,
   "metadata": {
    "colab": {},
    "colab_type": "code",
    "id": "AUQPB1F_j78R"
   },
   "outputs": [],
   "source": [
    "def preprocess_mystem(text: str) -> str:\n",
    "    return ' '.join(tokenizer.lemmatize(text.lower()))\n",
    "\n",
    "\n",
    "vect_preprocess_mystem = np.vectorize(preprocess_mystem)"
   ]
  },
  {
   "cell_type": "code",
   "execution_count": 0,
   "metadata": {
    "colab": {},
    "colab_type": "code",
    "id": "7ghccZNhbGh-"
   },
   "outputs": [],
   "source": [
    "X_train_mystem = vect_preprocess_mystem(X_train)\n",
    "X_test_mystem = vect_preprocess_mystem(X_test)"
   ]
  },
  {
   "cell_type": "code",
   "execution_count": 0,
   "metadata": {
    "colab": {},
    "colab_type": "code",
    "id": "napxpo0YbGiB"
   },
   "outputs": [],
   "source": [
    "bow_vocabulary_mystem = {}\n",
    "\n",
    "\n",
    "def freq_words_mystem(string):\n",
    "    words = string.split()\n",
    "    for word in words:\n",
    "        bow_vocabulary_mystem[word] = bow_vocabulary_mystem.get(word, 0) - 1\n",
    "    return 0\n",
    "\n",
    "\n",
    "vect_freq_words_mystem = np.vectorize(freq_words_mystem)\n",
    "vect_freq_words_mystem(X_train)\n",
    "bow_vocabulary_mystem = list(bow_vocabulary_mystem.items())\n",
    "bow_vocabulary_mystem.sort(key=lambda i: i[1])\n",
    "bow_vocabulary_mystem = np.array(bow_vocabulary_mystem)\n",
    "words_counts_mystem = bow_vocabulary_mystem.copy()\n",
    "bow_vocabulary_mystem = bow_vocabulary_mystem[0:10000, 0]"
   ]
  },
  {
   "cell_type": "code",
   "execution_count": 43,
   "metadata": {
    "colab": {
     "base_uri": "https://localhost:8080/",
     "height": 34
    },
    "colab_type": "code",
    "executionInfo": {
     "elapsed": 636,
     "status": "ok",
     "timestamp": 1587304470604,
     "user": {
      "displayName": "Костя Кувайцев",
      "photoUrl": "",
      "userId": "12094825826995669744"
     },
     "user_tz": -240
    },
    "id": "1fMHgYVhbGiE",
    "outputId": "66a1f6a9-5c6f-4e7e-cfdc-8e7f56668ab7"
   },
   "outputs": [
    {
     "data": {
      "text/plain": [
       "array([0, 0, 0, ..., 0, 0, 0])"
      ]
     },
     "execution_count": 43,
     "metadata": {
      "tags": []
     },
     "output_type": "execute_result"
    }
   ],
   "source": [
    "data_mystem = {}\n",
    "i = 0\n",
    "\n",
    "def list_to_dict_mystem(word_count):\n",
    "    global i\n",
    "    data_mystem[word_count[0]] = (-int(word_count[1]), i) \n",
    "    i += 1\n",
    "    return 0\n",
    "\n",
    "\n",
    "np.apply_along_axis(list_to_dict_mystem, 1, words_counts_mystem[0:10000])"
   ]
  },
  {
   "cell_type": "code",
   "execution_count": 0,
   "metadata": {
    "colab": {},
    "colab_type": "code",
    "id": "Fa56rqIkmphX"
   },
   "outputs": [],
   "source": [
    "def text_to_bow_mystem(text: str) -> np.array:\n",
    "    \"\"\"\n",
    "    Возвращает вектор, где для каждого слова из most_common\n",
    "    указано количество его употреблений\n",
    "    \"\"\" \n",
    "    answer = [0] * 10000\n",
    "    words = text.split(' ')\n",
    "    \n",
    "    for word in words:\n",
    "        if word in data_mystem:\n",
    "            answer[data_mystem[word][1]] += 1\n",
    "\n",
    "    \n",
    "    return np.array(answer)"
   ]
  },
  {
   "cell_type": "code",
   "execution_count": 0,
   "metadata": {
    "colab": {},
    "colab_type": "code",
    "id": "jbrpl5rLm0Gp"
   },
   "outputs": [],
   "source": [
    "def items_to_bow_mystem(items: np.array) -> np.array:\n",
    "    \"\"\" Для каждого товара возвращает вектор его bow \"\"\"\n",
    "    # Давайте для начала попробуем строить bow только из description товара\n",
    "    # assert ниже написан для bow из description\n",
    "    answer = [0] * len(items)\n",
    "    \n",
    "    for i in range(len(items)):\n",
    "        answer[i] = text_to_bow_mystem(items[i][1])\n",
    "        \n",
    "    return np.array(answer)"
   ]
  },
  {
   "cell_type": "markdown",
   "metadata": {
    "colab_type": "text",
    "id": "5FYrTfycbGiG"
   },
   "source": [
    "### Mystem без нормировки и title"
   ]
  },
  {
   "cell_type": "code",
   "execution_count": 0,
   "metadata": {
    "colab": {},
    "colab_type": "code",
    "id": "quy6pfnKbGiH"
   },
   "outputs": [],
   "source": [
    "X_train_bow_mystem = items_to_bow_mystem(X_train_mystem)\n",
    "X_test_bow_mystem = items_to_bow_mystem(X_test_mystem)"
   ]
  },
  {
   "cell_type": "code",
   "execution_count": 47,
   "metadata": {
    "colab": {
     "base_uri": "https://localhost:8080/",
     "height": 168
    },
    "colab_type": "code",
    "executionInfo": {
     "elapsed": 224966,
     "status": "ok",
     "timestamp": 1587304759172,
     "user": {
      "displayName": "Костя Кувайцев",
      "photoUrl": "",
      "userId": "12094825826995669744"
     },
     "user_tz": -240
    },
    "id": "RfNnx3zhbGiJ",
    "outputId": "66c50459-2bfe-4522-b321-48f4171718b3"
   },
   "outputs": [
    {
     "name": "stderr",
     "output_type": "stream",
     "text": [
      "/usr/local/lib/python3.6/dist-packages/sklearn/linear_model/_logistic.py:940: ConvergenceWarning: lbfgs failed to converge (status=1):\n",
      "STOP: TOTAL NO. of ITERATIONS REACHED LIMIT.\n",
      "\n",
      "Increase the number of iterations (max_iter) or scale the data as shown in:\n",
      "    https://scikit-learn.org/stable/modules/preprocessing.html\n",
      "Please also refer to the documentation for alternative solver options:\n",
      "    https://scikit-learn.org/stable/modules/linear_model.html#logistic-regression\n",
      "  extra_warning_msg=_LOGISTIC_SOLVER_CONVERGENCE_MSG)\n"
     ]
    },
    {
     "name": "stdout",
     "output_type": "stream",
     "text": [
      "Accuracy LR = 0.7082222222222222\n"
     ]
    }
   ],
   "source": [
    "bow_model = LogisticRegression(max_iter=100).fit(X_train_bow_mystem, y_train)\n",
    "lr_acc_mystem = accuracy_score(bow_model.predict(X_test_bow_mystem), y_test)\n",
    "print('Accuracy LR =', lr_acc_mystem)"
   ]
  },
  {
   "cell_type": "code",
   "execution_count": 48,
   "metadata": {
    "colab": {
     "base_uri": "https://localhost:8080/",
     "height": 67
    },
    "colab_type": "code",
    "executionInfo": {
     "elapsed": 8750,
     "status": "ok",
     "timestamp": 1587304855789,
     "user": {
      "displayName": "Костя Кувайцев",
      "photoUrl": "",
      "userId": "12094825826995669744"
     },
     "user_tz": -240
    },
    "id": "ukqmTvQnbGiM",
    "outputId": "0bff8277-98d7-4b70-90fb-f2b100234c02"
   },
   "outputs": [
    {
     "name": "stderr",
     "output_type": "stream",
     "text": [
      "/usr/local/lib/python3.6/dist-packages/sklearn/svm/_base.py:947: ConvergenceWarning: Liblinear failed to converge, increase the number of iterations.\n",
      "  \"the number of iterations.\", ConvergenceWarning)\n"
     ]
    },
    {
     "name": "stdout",
     "output_type": "stream",
     "text": [
      "Accuracy SVC = 0.6896666666666667\n"
     ]
    }
   ],
   "source": [
    "bow_model = LinearSVC(max_iter=70).fit(X_train_bow_mystem, y_train)\n",
    "svc_acc_mystem = accuracy_score(bow_model.predict(X_test_bow_mystem), y_test)\n",
    "print('Accuracy SVC =', svc_acc_mystem)"
   ]
  },
  {
   "cell_type": "markdown",
   "metadata": {
    "colab_type": "text",
    "id": "3dnKY0qhbGiQ"
   },
   "source": [
    "### Mystem с добавлением title"
   ]
  },
  {
   "cell_type": "code",
   "execution_count": 0,
   "metadata": {
    "colab": {},
    "colab_type": "code",
    "id": "4hxJ9S0ZbGiQ"
   },
   "outputs": [],
   "source": [
    "del X_train_bow_mystem, X_test_bow_mystem\n",
    "X_train_bow_title_mystem = new_items_to_bow(X_train_mystem)\n",
    "X_test_bow_title_mystem = new_items_to_bow(X_test_mystem)"
   ]
  },
  {
   "cell_type": "code",
   "execution_count": 50,
   "metadata": {
    "colab": {
     "base_uri": "https://localhost:8080/",
     "height": 168
    },
    "colab_type": "code",
    "executionInfo": {
     "elapsed": 222231,
     "status": "ok",
     "timestamp": 1587305144675,
     "user": {
      "displayName": "Костя Кувайцев",
      "photoUrl": "",
      "userId": "12094825826995669744"
     },
     "user_tz": -240
    },
    "id": "UqVBnikGbGiS",
    "outputId": "e66cb1bb-71d9-4df2-e12f-1c2206f6cd47"
   },
   "outputs": [
    {
     "name": "stderr",
     "output_type": "stream",
     "text": [
      "/usr/local/lib/python3.6/dist-packages/sklearn/linear_model/_logistic.py:940: ConvergenceWarning: lbfgs failed to converge (status=1):\n",
      "STOP: TOTAL NO. of ITERATIONS REACHED LIMIT.\n",
      "\n",
      "Increase the number of iterations (max_iter) or scale the data as shown in:\n",
      "    https://scikit-learn.org/stable/modules/preprocessing.html\n",
      "Please also refer to the documentation for alternative solver options:\n",
      "    https://scikit-learn.org/stable/modules/linear_model.html#logistic-regression\n",
      "  extra_warning_msg=_LOGISTIC_SOLVER_CONVERGENCE_MSG)\n"
     ]
    },
    {
     "name": "stdout",
     "output_type": "stream",
     "text": [
      "Accuracy LR после добавления title = 0.7781111111111111\n"
     ]
    }
   ],
   "source": [
    "bow_model = LogisticRegression(max_iter=100).fit(X_train_bow_title_mystem, y_train)\n",
    "lr_acc_title_mystem = accuracy_score(bow_model.predict(X_test_bow_title_mystem), y_test)\n",
    "print('Accuracy LR после добавления title =', lr_acc_title_mystem)"
   ]
  },
  {
   "cell_type": "code",
   "execution_count": 51,
   "metadata": {
    "colab": {
     "base_uri": "https://localhost:8080/",
     "height": 67
    },
    "colab_type": "code",
    "executionInfo": {
     "elapsed": 7995,
     "status": "ok",
     "timestamp": 1587305156205,
     "user": {
      "displayName": "Костя Кувайцев",
      "photoUrl": "",
      "userId": "12094825826995669744"
     },
     "user_tz": -240
    },
    "id": "-AueEBL6bGiV",
    "outputId": "821454dc-5ebf-464e-9cad-b516a8e61ba3"
   },
   "outputs": [
    {
     "name": "stderr",
     "output_type": "stream",
     "text": [
      "/usr/local/lib/python3.6/dist-packages/sklearn/svm/_base.py:947: ConvergenceWarning: Liblinear failed to converge, increase the number of iterations.\n",
      "  \"the number of iterations.\", ConvergenceWarning)\n"
     ]
    },
    {
     "name": "stdout",
     "output_type": "stream",
     "text": [
      "Accuracy SVC после добавления title = 0.7463333333333333\n"
     ]
    }
   ],
   "source": [
    "bow_model = LinearSVC(max_iter=70).fit(X_train_bow_title_mystem, y_train)\n",
    "svc_acc_title_mystem = accuracy_score(bow_model.predict(X_test_bow_title_mystem), y_test)\n",
    "print('Accuracy SVC после добавления title =', svc_acc_title_mystem)"
   ]
  },
  {
   "cell_type": "markdown",
   "metadata": {
    "colab_type": "text",
    "id": "MeeNr3D0bGiY"
   },
   "source": [
    "### Mystem нормировка"
   ]
  },
  {
   "cell_type": "code",
   "execution_count": 0,
   "metadata": {
    "colab": {},
    "colab_type": "code",
    "id": "LIfONKZ4bGiY"
   },
   "outputs": [],
   "source": [
    "norm_X_train_bow_mystem = normalize(X_train_bow_title_mystem)\n",
    "norm_X_test_bow_mystem = normalize(X_test_bow_title_mystem)"
   ]
  },
  {
   "cell_type": "code",
   "execution_count": 53,
   "metadata": {
    "colab": {
     "base_uri": "https://localhost:8080/",
     "height": 168
    },
    "colab_type": "code",
    "executionInfo": {
     "elapsed": 238086,
     "status": "ok",
     "timestamp": 1587305449124,
     "user": {
      "displayName": "Костя Кувайцев",
      "photoUrl": "",
      "userId": "12094825826995669744"
     },
     "user_tz": -240
    },
    "id": "E5InxyZybGia",
    "outputId": "b69b02f0-c8a3-43bc-d145-b70ee967dfb9"
   },
   "outputs": [
    {
     "name": "stderr",
     "output_type": "stream",
     "text": [
      "/usr/local/lib/python3.6/dist-packages/sklearn/linear_model/_logistic.py:940: ConvergenceWarning: lbfgs failed to converge (status=1):\n",
      "STOP: TOTAL NO. of ITERATIONS REACHED LIMIT.\n",
      "\n",
      "Increase the number of iterations (max_iter) or scale the data as shown in:\n",
      "    https://scikit-learn.org/stable/modules/preprocessing.html\n",
      "Please also refer to the documentation for alternative solver options:\n",
      "    https://scikit-learn.org/stable/modules/linear_model.html#logistic-regression\n",
      "  extra_warning_msg=_LOGISTIC_SOLVER_CONVERGENCE_MSG)\n"
     ]
    },
    {
     "name": "stdout",
     "output_type": "stream",
     "text": [
      "Accuracy LR после нормировки = 0.6906666666666667\n"
     ]
    }
   ],
   "source": [
    "bow_model = LogisticRegression(max_iter=100).fit(norm_X_train_bow_mystem, y_train)\n",
    "norm_lr_acc_mystem = accuracy_score(bow_model.predict(norm_X_test_bow_mystem), y_test)\n",
    "print('Accuracy LR после нормировки =', norm_lr_acc_mystem)"
   ]
  },
  {
   "cell_type": "code",
   "execution_count": 54,
   "metadata": {
    "colab": {
     "base_uri": "https://localhost:8080/",
     "height": 34
    },
    "colab_type": "code",
    "executionInfo": {
     "elapsed": 5734,
     "status": "ok",
     "timestamp": 1587305464979,
     "user": {
      "displayName": "Костя Кувайцев",
      "photoUrl": "",
      "userId": "12094825826995669744"
     },
     "user_tz": -240
    },
    "id": "372RsRiFbGic",
    "outputId": "b24ad388-c224-47f1-f77a-66dcea62479c"
   },
   "outputs": [
    {
     "name": "stdout",
     "output_type": "stream",
     "text": [
      "Accuracy SVC после нормировки = 0.7838888888888889\n"
     ]
    }
   ],
   "source": [
    "bow_model = LinearSVC(max_iter=70).fit(norm_X_train_bow_mystem, y_train)\n",
    "norm_svc_acc_mystem = accuracy_score(bow_model.predict(norm_X_test_bow_mystem), y_test)\n",
    "print('Accuracy SVC после нормировки =', norm_svc_acc_mystem)"
   ]
  },
  {
   "cell_type": "code",
   "execution_count": 0,
   "metadata": {
    "colab": {},
    "colab_type": "code",
    "id": "71adEDf_bGie"
   },
   "outputs": [],
   "source": [
    "LR_acc = {'LR acc': [lr_acc, lr_acc_mystem], 'LR acc title': [lr_acc_title, lr_acc_title_mystem], \n",
    "      'LR acc norm': [norm_lr_acc, norm_lr_acc_mystem]}\n",
    "SVC_acc = {'SVC acc': [svc_acc, svc_acc_mystem], 'SVC acc title': [svc_acc_title, svc_acc_title_mystem], \n",
    "      'SVC acc norm': [norm_svc_acc, norm_svc_acc_mystem]}"
   ]
  },
  {
   "cell_type": "code",
   "execution_count": 56,
   "metadata": {
    "colab": {
     "base_uri": "https://localhost:8080/",
     "height": 106
    },
    "colab_type": "code",
    "executionInfo": {
     "elapsed": 614,
     "status": "ok",
     "timestamp": 1587305470682,
     "user": {
      "displayName": "Костя Кувайцев",
      "photoUrl": "",
      "userId": "12094825826995669744"
     },
     "user_tz": -240
    },
    "id": "xu-nPLq0bGig",
    "outputId": "c26da68c-459a-4f6c-f2f3-661a78e1a9ba"
   },
   "outputs": [
    {
     "data": {
      "text/html": [
       "<div>\n",
       "<style scoped>\n",
       "    .dataframe tbody tr th:only-of-type {\n",
       "        vertical-align: middle;\n",
       "    }\n",
       "\n",
       "    .dataframe tbody tr th {\n",
       "        vertical-align: top;\n",
       "    }\n",
       "\n",
       "    .dataframe thead th {\n",
       "        text-align: right;\n",
       "    }\n",
       "</style>\n",
       "<table border=\"1\" class=\"dataframe\">\n",
       "  <thead>\n",
       "    <tr style=\"text-align: right;\">\n",
       "      <th></th>\n",
       "      <th>LR acc</th>\n",
       "      <th>LR acc title</th>\n",
       "      <th>LR acc norm</th>\n",
       "    </tr>\n",
       "  </thead>\n",
       "  <tbody>\n",
       "    <tr>\n",
       "      <th>0</th>\n",
       "      <td>0.701111</td>\n",
       "      <td>0.781222</td>\n",
       "      <td>0.677000</td>\n",
       "    </tr>\n",
       "    <tr>\n",
       "      <th>1</th>\n",
       "      <td>0.708222</td>\n",
       "      <td>0.778111</td>\n",
       "      <td>0.690667</td>\n",
       "    </tr>\n",
       "  </tbody>\n",
       "</table>\n",
       "</div>"
      ],
      "text/plain": [
       "     LR acc  LR acc title  LR acc norm\n",
       "0  0.701111      0.781222     0.677000\n",
       "1  0.708222      0.778111     0.690667"
      ]
     },
     "execution_count": 56,
     "metadata": {
      "tags": []
     },
     "output_type": "execute_result"
    }
   ],
   "source": [
    "data_lr_acc = pd.DataFrame(LR_acc)\n",
    "data_svc_acc = pd.DataFrame(SVC_acc)\n",
    "data_lr_acc"
   ]
  },
  {
   "cell_type": "code",
   "execution_count": 57,
   "metadata": {
    "colab": {
     "base_uri": "https://localhost:8080/",
     "height": 106
    },
    "colab_type": "code",
    "executionInfo": {
     "elapsed": 578,
     "status": "ok",
     "timestamp": 1587305472323,
     "user": {
      "displayName": "Костя Кувайцев",
      "photoUrl": "",
      "userId": "12094825826995669744"
     },
     "user_tz": -240
    },
    "id": "K9a7kL0WbGik",
    "outputId": "a51a8ffc-62f8-4f05-e80b-792e5fcec2f9"
   },
   "outputs": [
    {
     "data": {
      "text/html": [
       "<div>\n",
       "<style scoped>\n",
       "    .dataframe tbody tr th:only-of-type {\n",
       "        vertical-align: middle;\n",
       "    }\n",
       "\n",
       "    .dataframe tbody tr th {\n",
       "        vertical-align: top;\n",
       "    }\n",
       "\n",
       "    .dataframe thead th {\n",
       "        text-align: right;\n",
       "    }\n",
       "</style>\n",
       "<table border=\"1\" class=\"dataframe\">\n",
       "  <thead>\n",
       "    <tr style=\"text-align: right;\">\n",
       "      <th></th>\n",
       "      <th>SVC acc</th>\n",
       "      <th>SVC acc title</th>\n",
       "      <th>SVC acc norm</th>\n",
       "    </tr>\n",
       "  </thead>\n",
       "  <tbody>\n",
       "    <tr>\n",
       "      <th>0</th>\n",
       "      <td>0.684222</td>\n",
       "      <td>0.754333</td>\n",
       "      <td>0.798778</td>\n",
       "    </tr>\n",
       "    <tr>\n",
       "      <th>1</th>\n",
       "      <td>0.689667</td>\n",
       "      <td>0.746333</td>\n",
       "      <td>0.783889</td>\n",
       "    </tr>\n",
       "  </tbody>\n",
       "</table>\n",
       "</div>"
      ],
      "text/plain": [
       "    SVC acc  SVC acc title  SVC acc norm\n",
       "0  0.684222       0.754333      0.798778\n",
       "1  0.689667       0.746333      0.783889"
      ]
     },
     "execution_count": 57,
     "metadata": {
      "tags": []
     },
     "output_type": "execute_result"
    }
   ],
   "source": [
    "data_svc_acc"
   ]
  },
  {
   "cell_type": "markdown",
   "metadata": {},
   "source": [
    "Как видно из таблиц наилучшие показатели имеют \n",
    "1) модель LogisticRegression, обученная на данных с добавлением title при помощи WordPunctTokenizer\n",
    "2) модель SVM, обученная на нормированых данных при помощи WordPunctTokenizer"
   ]
  },
  {
   "cell_type": "code",
   "execution_count": 0,
   "metadata": {
    "colab": {},
    "colab_type": "code",
    "id": "-nU-qQJnwu_b"
   },
   "outputs": [],
   "source": [
    "del norm_X_train_bow_mystem, norm_X_test_bow_mystem, X_train_bow_title_mystem, X_test_bow_title_mystem"
   ]
  },
  {
   "cell_type": "markdown",
   "metadata": {
    "colab_type": "text",
    "id": "bXbsPtpfoB7m"
   },
   "source": [
    "### TF-IDF (1.5 балла)\n",
    "\n",
    "Не все слова полезны одинаково, давайте попробуем [взвесить](http://tfidf.com/) их, чтобы отобрать более полезные.\n",
    "\n",
    "\n",
    "> TF(t) = (Number of times term t appears in a document) / (Total number of terms in the document).\n",
    "> \n",
    "> IDF(t) = log_e(Total number of documents / Number of documents with term t in it).\n",
    "\n",
    "\n",
    "В sklearn есть TfidfVectorizer, но в этом задании его использовать нельзя."
   ]
  },
  {
   "cell_type": "code",
   "execution_count": 59,
   "metadata": {
    "colab": {
     "base_uri": "https://localhost:8080/",
     "height": 50
    },
    "colab_type": "code",
    "executionInfo": {
     "elapsed": 2748,
     "status": "ok",
     "timestamp": 1587305542950,
     "user": {
      "displayName": "Костя Кувайцев",
      "photoUrl": "",
      "userId": "12094825826995669744"
     },
     "user_tz": -240
    },
    "id": "_yIeoic7o3ES",
    "outputId": "016dc707-a226-496a-f304-914e5a27e416"
   },
   "outputs": [
    {
     "data": {
      "text/plain": [
       "array([-1.16903475, -0.71812317, -0.64530985, ..., -7.91105739,\n",
       "       -8.00636757, -8.69951475])"
      ]
     },
     "execution_count": 59,
     "metadata": {
      "tags": []
     },
     "output_type": "execute_result"
    }
   ],
   "source": [
    "# Давайте для простоты считать один tf-idf для title и description.\n",
    "# Для каждого слова из bow_vocabulary нужно посчитать\n",
    "# в тексте скольких товаров встретилось это слово\n",
    "\n",
    "def idf_find(items: np.array) -> np.array:\n",
    "    answer = [0] * 10000\n",
    "    \n",
    "    for item in items:\n",
    "        item_words = [True] * 10000\n",
    "        \n",
    "        for t_d in item:\n",
    "            words = t_d.split(' ')\n",
    "            \n",
    "            for word in words:\n",
    "                if word in data and item_words[data[word][1]]:\n",
    "                    answer[data[word][1]] += 1\n",
    "                    item_words[data[word][1]] = False\n",
    "                    \n",
    "    answer = np.log(np.array(answer) / 30000)\n",
    "    return answer\n",
    "    \n",
    "idf = idf_find(X_train)\n",
    "idf"
   ]
  },
  {
   "cell_type": "code",
   "execution_count": 0,
   "metadata": {
    "colab": {},
    "colab_type": "code",
    "id": "6i5zFpD9rbtz"
   },
   "outputs": [],
   "source": [
    "def items_to_tfidf(items: np.array) -> np.array:\n",
    "    \"\"\"\n",
    "    Возвращает вектор, где для каждого слова из most_common\n",
    "    указан tf-idf\n",
    "    \"\"\"\n",
    "    tfidf = []\n",
    "    \n",
    "    for item in items:\n",
    "        tf= [0] * 10000\n",
    "        \n",
    "        for t_d in item:\n",
    "            words = t_d.split(' ')\n",
    "\n",
    "            for word in words:\n",
    "                if word in data:\n",
    "                    tf[data[word][1]] += 1\n",
    "\n",
    "        tf = np.array(tf)\n",
    "        tfidf.append(tf * idf)\n",
    "        \n",
    "    return tfidf\n",
    "    "
   ]
  },
  {
   "cell_type": "code",
   "execution_count": 0,
   "metadata": {
    "colab": {},
    "colab_type": "code",
    "id": "Mrsuik-jbGiu"
   },
   "outputs": [],
   "source": [
    "X_train_tfidf = items_to_tfidf(X_train)\n",
    "X_test_tfidf = items_to_tfidf(X_test)"
   ]
  },
  {
   "cell_type": "code",
   "execution_count": 0,
   "metadata": {
    "colab": {},
    "colab_type": "code",
    "id": "LvL9BH7DsJrv"
   },
   "outputs": [],
   "source": [
    "# Нормализуйте данные\n",
    "from sklearn.preprocessing import normalize\n",
    "\n",
    "\n",
    "X_train_tfidf_norm = normalize(X_train_tfidf)\n",
    "X_test_tfidf_norm = normalize(X_test_tfidf)"
   ]
  },
  {
   "cell_type": "markdown",
   "metadata": {
    "colab_type": "text",
    "id": "-YFA-8kE1RHk"
   },
   "source": [
    "### Модели на TF-IDF признаках (1 балл)\n",
    "\n",
    "Обучите логистическую регрессию и SVC, оцените качество (accuracy_score)"
   ]
  },
  {
   "cell_type": "code",
   "execution_count": 63,
   "metadata": {
    "colab": {
     "base_uri": "https://localhost:8080/",
     "height": 168
    },
    "colab_type": "code",
    "executionInfo": {
     "elapsed": 231117,
     "status": "ok",
     "timestamp": 1587305837531,
     "user": {
      "displayName": "Костя Кувайцев",
      "photoUrl": "",
      "userId": "12094825826995669744"
     },
     "user_tz": -240
    },
    "id": "-ULrXsF1m5sU",
    "outputId": "73bde9f7-46f6-42d7-b9ab-656563d022b2"
   },
   "outputs": [
    {
     "name": "stderr",
     "output_type": "stream",
     "text": [
      "/usr/local/lib/python3.6/dist-packages/sklearn/linear_model/_logistic.py:940: ConvergenceWarning: lbfgs failed to converge (status=1):\n",
      "STOP: TOTAL NO. of ITERATIONS REACHED LIMIT.\n",
      "\n",
      "Increase the number of iterations (max_iter) or scale the data as shown in:\n",
      "    https://scikit-learn.org/stable/modules/preprocessing.html\n",
      "Please also refer to the documentation for alternative solver options:\n",
      "    https://scikit-learn.org/stable/modules/linear_model.html#logistic-regression\n",
      "  extra_warning_msg=_LOGISTIC_SOLVER_CONVERGENCE_MSG)\n"
     ]
    },
    {
     "name": "stdout",
     "output_type": "stream",
     "text": [
      "Accuracy LR с tfidf = 0.7627777777777778\n"
     ]
    }
   ],
   "source": [
    "from sklearn.linear_model import LogisticRegression\n",
    "bow_model = LogisticRegression(max_iter=100).fit(X_train_tfidf_norm, y_train)\n",
    "lr_acc_tfidf = accuracy_score(bow_model.predict(X_test_tfidf_norm), y_test)\n",
    "print('Accuracy LR с tfidf =', lr_acc_tfidf)"
   ]
  },
  {
   "cell_type": "code",
   "execution_count": 64,
   "metadata": {
    "colab": {
     "base_uri": "https://localhost:8080/",
     "height": 34
    },
    "colab_type": "code",
    "executionInfo": {
     "elapsed": 4747,
     "status": "ok",
     "timestamp": 1587305867451,
     "user": {
      "displayName": "Костя Кувайцев",
      "photoUrl": "",
      "userId": "12094825826995669744"
     },
     "user_tz": -240
    },
    "id": "1Fdq9hCdc2US",
    "outputId": "4feea1ca-4dae-4dc6-f7fc-9c47d2ea0dc5"
   },
   "outputs": [
    {
     "name": "stdout",
     "output_type": "stream",
     "text": [
      "Accuracy SVC с tfidf = 0.8074444444444444\n"
     ]
    }
   ],
   "source": [
    "from sklearn.svm import LinearSVC\n",
    "bow_model = LinearSVC(max_iter=70).fit(X_train_tfidf_norm, y_train)\n",
    "svc_acc_tfidf = accuracy_score(bow_model.predict(X_test_tfidf_norm), y_test)\n",
    "print('Accuracy SVC с tfidf =', svc_acc_tfidf)"
   ]
  },
  {
   "cell_type": "markdown",
   "metadata": {
    "colab_type": "text",
    "id": "jFdy3lUFDsOr"
   },
   "source": [
    "### Hashing Vectorizer (0.5 балла)\n",
    "\n",
    "Попробуйте использовать `sklearn.feature_extraction.text.HashingVectorizer` для векторизации текстов.\n",
    "Обязательно оцените качество работы алгоритмов классификации с использованием новой векторизации."
   ]
  },
  {
   "cell_type": "code",
   "execution_count": 0,
   "metadata": {
    "colab": {},
    "colab_type": "code",
    "id": "Y666HTrqDq1m"
   },
   "outputs": [],
   "source": [
    "# Your code here"
   ]
  },
  {
   "cell_type": "markdown",
   "metadata": {
    "colab_type": "text",
    "id": "vQZ61xSsTpZI"
   },
   "source": [
    "### Word Vectors (1 балл)\n",
    "\n",
    "Давайте попробуем другой подход -- кажому слову сопоставим какой-то эмбеддинг (вектор).\n",
    "\n",
    "Вектора будут небольшой размерности. Таким образом мы снизим количество параметров в модели.\n",
    "\n",
    "Вектора мы возьмём уже готовые (обученные на текстах их интернета), так что наша модель будет знать некоторую дополнительную информацию о внешнем мире."
   ]
  },
  {
   "cell_type": "code",
   "execution_count": 65,
   "metadata": {
    "colab": {
     "base_uri": "https://localhost:8080/",
     "height": 440
    },
    "colab_type": "code",
    "executionInfo": {
     "elapsed": 53391,
     "status": "ok",
     "timestamp": 1587305990743,
     "user": {
      "displayName": "Костя Кувайцев",
      "photoUrl": "",
      "userId": "12094825826995669744"
     },
     "user_tz": -240
    },
    "id": "T38J27NcYGx5",
    "outputId": "eda490b1-366e-4436-ddd9-7a16154f29ca"
   },
   "outputs": [
    {
     "name": "stdout",
     "output_type": "stream",
     "text": [
      "--2020-04-19 14:18:58--  https://www.dropbox.com/s/0x7oxso6x93efzj/ru.tar.gz\n",
      "Resolving www.dropbox.com (www.dropbox.com)... 162.125.8.1, 2620:100:601b:1::a27d:801\n",
      "Connecting to www.dropbox.com (www.dropbox.com)|162.125.8.1|:443... connected.\n",
      "HTTP request sent, awaiting response... 301 Moved Permanently\n",
      "Location: /s/raw/0x7oxso6x93efzj/ru.tar.gz [following]\n",
      "--2020-04-19 14:18:58--  https://www.dropbox.com/s/raw/0x7oxso6x93efzj/ru.tar.gz\n",
      "Reusing existing connection to www.dropbox.com:443.\n",
      "HTTP request sent, awaiting response... 302 Found\n",
      "Location: https://ucbc0afbc63adecea93733558c1a.dl.dropboxusercontent.com/cd/0/inline/A2Ly3RvRjdlilwq_IFF9SDrSVZg39zkf8Gm87F0h18STevUgcRYDDpmYH56P5sObYfyIsZwQRIsamoTe0Dfe7Qj1pNmZQ7y5xtaTaSKJtUuamw/file# [following]\n",
      "--2020-04-19 14:18:59--  https://ucbc0afbc63adecea93733558c1a.dl.dropboxusercontent.com/cd/0/inline/A2Ly3RvRjdlilwq_IFF9SDrSVZg39zkf8Gm87F0h18STevUgcRYDDpmYH56P5sObYfyIsZwQRIsamoTe0Dfe7Qj1pNmZQ7y5xtaTaSKJtUuamw/file\n",
      "Resolving ucbc0afbc63adecea93733558c1a.dl.dropboxusercontent.com (ucbc0afbc63adecea93733558c1a.dl.dropboxusercontent.com)... 162.125.8.6, 2620:100:6018:6::a27d:306\n",
      "Connecting to ucbc0afbc63adecea93733558c1a.dl.dropboxusercontent.com (ucbc0afbc63adecea93733558c1a.dl.dropboxusercontent.com)|162.125.8.6|:443... connected.\n",
      "HTTP request sent, awaiting response... 302 FOUND\n",
      "Location: /cd/0/inline2/A2LirkEJ2ova0BGe535pZw1f0Hx_-13kkiRLBJE52u2nlbh9v1amg6C4RhKryFHC_OyD6PaVttiOtInORbHdCqS2BEIt-OoTKE5M_M0_puSAcjAnCeZim3YWUKzbx_bZudjLbZiEC-Um3WkCfYOrwnAmLUTiQjRn5L3j36PMphNNj6hRgecJMU-UIX1FCIVFd_B5E0dY4r8JwCtNxxztBsuklwSEUvMcTYqeqDEcHB3P0UciaPefjtoxrbfYRf8GgC7C2DABNmRr2FkJ3pPjltrHQtzNcvqJep29cj14EXrxqNOaWlxBx5SJk3XNoKLWVaVny73860aL7W6OQ5teg1F6/file [following]\n",
      "--2020-04-19 14:18:59--  https://ucbc0afbc63adecea93733558c1a.dl.dropboxusercontent.com/cd/0/inline2/A2LirkEJ2ova0BGe535pZw1f0Hx_-13kkiRLBJE52u2nlbh9v1amg6C4RhKryFHC_OyD6PaVttiOtInORbHdCqS2BEIt-OoTKE5M_M0_puSAcjAnCeZim3YWUKzbx_bZudjLbZiEC-Um3WkCfYOrwnAmLUTiQjRn5L3j36PMphNNj6hRgecJMU-UIX1FCIVFd_B5E0dY4r8JwCtNxxztBsuklwSEUvMcTYqeqDEcHB3P0UciaPefjtoxrbfYRf8GgC7C2DABNmRr2FkJ3pPjltrHQtzNcvqJep29cj14EXrxqNOaWlxBx5SJk3XNoKLWVaVny73860aL7W6OQ5teg1F6/file\n",
      "Reusing existing connection to ucbc0afbc63adecea93733558c1a.dl.dropboxusercontent.com:443.\n",
      "HTTP request sent, awaiting response... 200 OK\n",
      "Length: 2399456034 (2.2G) [application/octet-stream]\n",
      "Saving to: ‘ru.tar.gz’\n",
      "\n",
      "ru.tar.gz           100%[===================>]   2.23G  45.5MB/s    in 49s     \n",
      "\n",
      "2020-04-19 14:19:49 (46.3 MB/s) - ‘ru.tar.gz’ saved [2399456034/2399456034]\n",
      "\n"
     ]
    }
   ],
   "source": [
    "!wget https://www.dropbox.com/s/0x7oxso6x93efzj/ru.tar.gz"
   ]
  },
  {
   "cell_type": "code",
   "execution_count": 66,
   "metadata": {
    "colab": {
     "base_uri": "https://localhost:8080/",
     "height": 50
    },
    "colab_type": "code",
    "executionInfo": {
     "elapsed": 48043,
     "status": "ok",
     "timestamp": 1587306041186,
     "user": {
      "displayName": "Костя Кувайцев",
      "photoUrl": "",
      "userId": "12094825826995669744"
     },
     "user_tz": -240
    },
    "id": "Zfse4xVbgMIr",
    "outputId": "eed6a042-b072-4dbe-d336-5c27c50f4a8b"
   },
   "outputs": [
    {
     "name": "stdout",
     "output_type": "stream",
     "text": [
      "ru.bin\n",
      "ru.vec\n"
     ]
    }
   ],
   "source": [
    "!tar -xzvf ru.tar.gz"
   ]
  },
  {
   "cell_type": "code",
   "execution_count": 0,
   "metadata": {
    "colab": {},
    "colab_type": "code",
    "id": "sy2TXmQ2jZSY"
   },
   "outputs": [],
   "source": [
    "import gensim\n",
    "from gensim.models.wrappers import FastText\n",
    "\n",
    "\n",
    "model = FastText.load_fasttext_format('ru.bin')"
   ]
  },
  {
   "cell_type": "code",
   "execution_count": 0,
   "metadata": {
    "colab": {},
    "colab_type": "code",
    "id": "H49QR_jhjmCa"
   },
   "outputs": [],
   "source": [
    "# Эмбеддинг предложения -- сумма эмбеддингов токенов\n",
    "\n",
    "\n",
    "def sentence_embedding(sentence: str) -> np.array:\n",
    "    \"\"\"\n",
    "    Складывает вектора токенов строки sentence\n",
    "    \"\"\"\n",
    "\n",
    "    embedding_dim = model['кек'].shape[0]\n",
    "    features = np.zeros([embedding_dim], dtype='float32')\n",
    "    \n",
    "    for word in sentence.split():\n",
    "        if word in model:\n",
    "            features += model[word]\n",
    "    \n",
    "    return features"
   ]
  },
  {
   "cell_type": "code",
   "execution_count": 0,
   "metadata": {
    "colab": {},
    "colab_type": "code",
    "id": "Gj6U_hjtlllV"
   },
   "outputs": [],
   "source": [
    "assert np.allclose(sentence_embedding('сдаётся уютный , тёплый гараж для стартапов в ml')[::50],\n",
    "                   np.array([ 0.08189847,  0.07249198, -0.15601222,  0.03782297,  0.09215296, -0.23092946]))"
   ]
  },
  {
   "cell_type": "code",
   "execution_count": 0,
   "metadata": {
    "colab": {},
    "colab_type": "code",
    "id": "5z81H0rL4iUk"
   },
   "outputs": [],
   "source": [
    "def items_embedding(items: np.array) -> np.array:\n",
    "    answer = []\n",
    "    for item in items:\n",
    "        answer.append(sentence_embedding(item[1]))\n",
    "\n",
    "    return answer"
   ]
  },
  {
   "cell_type": "code",
   "execution_count": 0,
   "metadata": {
    "colab": {},
    "colab_type": "code",
    "id": "SpO1NwWo5fFl"
   },
   "outputs": [],
   "source": [
    "X_train_emb = items_embedding(X_train)\n",
    "X_test_emb = items_embedding(X_test)"
   ]
  },
  {
   "cell_type": "code",
   "execution_count": 73,
   "metadata": {
    "colab": {
     "base_uri": "https://localhost:8080/",
     "height": 168
    },
    "colab_type": "code",
    "executionInfo": {
     "elapsed": 16848,
     "status": "ok",
     "timestamp": 1587307671334,
     "user": {
      "displayName": "Костя Кувайцев",
      "photoUrl": "",
      "userId": "12094825826995669744"
     },
     "user_tz": -240
    },
    "id": "CBz1rmjS6A-A",
    "outputId": "394e4a3d-59fe-46f5-ac35-1a1e8002cb85"
   },
   "outputs": [
    {
     "name": "stdout",
     "output_type": "stream",
     "text": [
      "Accuracy LR с embedding = 0.4941111111111111\n"
     ]
    },
    {
     "name": "stderr",
     "output_type": "stream",
     "text": [
      "/usr/local/lib/python3.6/dist-packages/sklearn/linear_model/_logistic.py:940: ConvergenceWarning: lbfgs failed to converge (status=1):\n",
      "STOP: TOTAL NO. of ITERATIONS REACHED LIMIT.\n",
      "\n",
      "Increase the number of iterations (max_iter) or scale the data as shown in:\n",
      "    https://scikit-learn.org/stable/modules/preprocessing.html\n",
      "Please also refer to the documentation for alternative solver options:\n",
      "    https://scikit-learn.org/stable/modules/linear_model.html#logistic-regression\n",
      "  extra_warning_msg=_LOGISTIC_SOLVER_CONVERGENCE_MSG)\n"
     ]
    }
   ],
   "source": [
    "from sklearn.linear_model import LogisticRegression\n",
    "bow_model = LogisticRegression(max_iter=100).fit(X_train_emb, y_train)\n",
    "lr_acc_emb = accuracy_score(bow_model.predict(X_test_emb), y_test)\n",
    "print('Accuracy LR с embedding =', lr_acc_emb)"
   ]
  },
  {
   "cell_type": "code",
   "execution_count": 74,
   "metadata": {
    "colab": {
     "base_uri": "https://localhost:8080/",
     "height": 67
    },
    "colab_type": "code",
    "executionInfo": {
     "elapsed": 123425,
     "status": "ok",
     "timestamp": 1587307853142,
     "user": {
      "displayName": "Костя Кувайцев",
      "photoUrl": "",
      "userId": "12094825826995669744"
     },
     "user_tz": -240
    },
    "id": "XLTUueVy6O0O",
    "outputId": "91685a9a-1912-41bf-e261-40afb739a438"
   },
   "outputs": [
    {
     "name": "stdout",
     "output_type": "stream",
     "text": [
      "Accuracy SVC с embedding = 0.4702222222222222\n"
     ]
    },
    {
     "name": "stderr",
     "output_type": "stream",
     "text": [
      "/usr/local/lib/python3.6/dist-packages/sklearn/svm/_base.py:947: ConvergenceWarning: Liblinear failed to converge, increase the number of iterations.\n",
      "  \"the number of iterations.\", ConvergenceWarning)\n"
     ]
    }
   ],
   "source": [
    "from sklearn.svm import LinearSVC\n",
    "bow_model = LinearSVC(max_iter=70).fit(X_train_emb, y_train)\n",
    "svc_acc_emb = accuracy_score(bow_model.predict(X_test_emb), y_test)\n",
    "print('Accuracy SVC с embedding =', svc_acc_emb)"
   ]
  },
  {
   "cell_type": "markdown",
   "metadata": {
    "colab_type": "text",
    "id": "cVEdlFostSnX"
   },
   "source": [
    "### Что дальше?\n",
    "\n",
    "Решение каждого пункта 1 балл:\n",
    "\n",
    "1. N-Gram модели текстовой классификации\n",
    "\n",
    "2. Обучиться на полных данных (контест на kaggle)\n",
    "\n",
    "3. Поработать с другими эмбеддингами (word2vec, GloVe).\n",
    "\n",
    "4. Использовать Vowpal Wabbit вместо sklearn.\n",
    "\n",
    "5. Другие способы токенизации (pymorphy2, spaCy)\n",
    "\n",
    "\n",
    "Снабжайте код пояснениями и графиками.\n",
    "Обязательно необходимо написать вывод по каждому пункту, который вы реализуете."
   ]
  },
  {
   "cell_type": "code",
   "execution_count": 0,
   "metadata": {
    "colab": {},
    "colab_type": "code",
    "id": "xyIh2PN3udhD"
   },
   "outputs": [],
   "source": []
  }
 ],
 "metadata": {
  "colab": {
   "collapsed_sections": [],
   "name": "hw3_1.ipynb",
   "provenance": []
  },
  "kernelspec": {
   "display_name": "Python 3",
   "language": "python",
   "name": "python3"
  },
  "language_info": {
   "codemirror_mode": {
    "name": "ipython",
    "version": 3
   },
   "file_extension": ".py",
   "mimetype": "text/x-python",
   "name": "python",
   "nbconvert_exporter": "python",
   "pygments_lexer": "ipython3",
   "version": "3.7.3"
  }
 },
 "nbformat": 4,
 "nbformat_minor": 1
}
